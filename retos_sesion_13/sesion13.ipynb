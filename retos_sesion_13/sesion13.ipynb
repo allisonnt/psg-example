{
 "cells": [
  {
   "cell_type": "markdown",
   "id": "7fc318a5",
   "metadata": {},
   "source": [
    "## Sesión 13\n",
    "\n",
    "Estructura de control de flujo Sentencias iterativas\n",
    "\n",
    "**Estructura de control**\n",
    "\n",
    "En un programa las estructuras de control son el orden en el que se ejecutan las instrucciones\n",
    "\n",
    "Python soporta las siguientes estructuras de control\n",
    "\n",
    "- Secuencial o lineal\n",
    "- Selección o condicionales\n",
    "- Repetición o ciclos\n",
    "\n",
    "*Secuencial o lineal*\n",
    "\n",
    "Es la ejecución de las instrucciones en el orden en el que se escriben\n",
    "\n",
    "*Repetición o ciclos*\n",
    "\n",
    "Los ciclos son estructuras de control que permiten ejecutar un bloque de código varias veces de manera consecutiva\n",
    "\n",
    "En Python existen dos tipos de ciclos\n",
    "\n",
    "- Ciclo for\n",
    "- Ciclo while\n",
    "\n",
    "**For**\n",
    "\n",
    "El ciclo for es un ciclo que se ejecuta un número determinado de veces\n",
    "\n",
    "En el caso de los for se recorre una secuencia de elementos\n",
    "\n",
    "Se puede recorrer un rango de números o listas, tuplas, diccionarios, etc.\n",
    "\n",
    "Para utilizar rango de números primero veremos la función range()\n",
    "\n",
    "range(5)\n",
    "\n",
    "Range es una función que genera una secuencia inmutable de números\n",
    "\n",
    "range(5)\n",
    "\n",
    "Recibe tres argumentos\n",
    "\n",
    "- Inicio (por defecto 0 e Inclusivo)\n",
    "- Fin (Obligatorio y Exclusivo)\n",
    "- Paso (por defecto 1)\n",
    "\n",
    "Puede haber rangos negativos\n",
    "\n",
    "range(10, 0, -1)\n",
    "\n",
    "Podemos convertir el rango en una lista\n",
    "\n",
    "print(list(range(5)))\n",
    "[0, 1, 2, 3, 4]\n",
    "No es necesario convertirlo a lista para usarlo en un ciclo for\n",
    "\n",
    "**Como se declara un for con range**\n",
    "for tiene la siguiente estructura\n",
    "\n",
    "- for variable in range(inicio, fin, paso):\n",
    "    print(variable)\n",
    "- for es la palabra reservada\n",
    "- variable es la variable que se usará para iterar\n",
    "- in es palabra reservada de pertenencia\n",
    "- range(inicio, fin, paso) es la secuencia de números\n",
    "- : es el delimitador de inicio del ciclo\n",
    "- print(variable) es el código a ejecutar posee un nivel de indentación\n"
   ]
  },
  {
   "cell_type": "markdown",
   "id": "a3ade79d",
   "metadata": {},
   "source": [
    "- Las variables definidas en el ciclo for existen dentro del ciclo\n",
    "\n",
    "- NO se recomienda usarlas fuera del ciclo\n",
    "\n",
    "- Es una mala práctica usar la variable del ciclo fuera del ciclo"
   ]
  },
  {
   "cell_type": "code",
   "execution_count": null,
   "id": "3e6480c3",
   "metadata": {},
   "outputs": [
    {
     "name": "stdout",
     "output_type": "stream",
     "text": [
      "Inicio\n",
      "0\n",
      "1\n",
      "2\n",
      "3\n",
      "4\n",
      "Fin\n"
     ]
    }
   ],
   "source": [
    "print (\"Inicio\")\n",
    "for i in range(5): # rango (0,5,1)\n",
    "    print(i)\n",
    "print (\"Fin\")"
   ]
  },
  {
   "cell_type": "code",
   "execution_count": null,
   "id": "04b37f20",
   "metadata": {},
   "outputs": [
    {
     "name": "stdout",
     "output_type": "stream",
     "text": [
      "Ejemplo 1\n",
      "25\n"
     ]
    }
   ],
   "source": [
    "#Ejemplo 1, sumar los números del 1 al 10 de 2 en 2\n",
    "print (\"Ejemplo 1\")\n",
    "suma = 0\n",
    "for i in range(1, 11, 2): # 1, 3, 5, 7, 9\n",
    "    suma = suma + i #suma += i\n",
    "print(suma)"
   ]
  },
  {
   "cell_type": "code",
   "execution_count": null,
   "id": "b089009f",
   "metadata": {},
   "outputs": [
    {
     "name": "stdout",
     "output_type": "stream",
     "text": [
      "Ejemplo 2\n",
      "     *\n",
      "    ***\n",
      "   *****\n",
      "  *******\n",
      " *********\n",
      "***********\n"
     ]
    }
   ],
   "source": [
    "#Ejemplo 2, crear un árbol de navidad de 6 niveles\n",
    "print (\"Ejemplo 2\")\n",
    "for i in range(0, 6):\n",
    "    print(\" \"*(5-i) + \"*\"*i*2+\"*\")\n"
   ]
  },
  {
   "cell_type": "code",
   "execution_count": null,
   "id": "31aa53b0",
   "metadata": {},
   "outputs": [
    {
     "name": "stdout",
     "output_type": "stream",
     "text": [
      "Ejemplo 3\n",
      "1 4 9 16 25 36 49 64 81 100 "
     ]
    }
   ],
   "source": [
    "#Ejemplo 3, crear una serie de números cuadrados del 1 al 10\n",
    "print (\"Ejemplo 3\")\n",
    "for i in range(1, 11):\n",
    "    print(i**2, end=\" \")\n"
   ]
  },
  {
   "cell_type": "code",
   "execution_count": null,
   "id": "e7ab8a11",
   "metadata": {},
   "outputs": [
    {
     "name": "stdout",
     "output_type": "stream",
     "text": [
      "Ejemplo 4\n",
      "[0, 2, 4, 6, 8, 10]\n"
     ]
    }
   ],
   "source": [
    "#Ejemplo 4, crear una lista de números pares del 1 al 10\n",
    "print (\"Ejemplo 4\")\n",
    "pares = []\n",
    "for i in range(0, 11, 2):\n",
    "    pares.append(i)\n",
    "print(pares)"
   ]
  },
  {
   "cell_type": "markdown",
   "id": "410e726f",
   "metadata": {},
   "source": [
    "**Como se declara un for con secuencias**\n",
    "\n",
    "La estructura de control for también puede iterar sobre secuencias\n",
    "\n",
    "- Listas\n",
    "- Tuplas\n",
    "- Diccionarios\n",
    "- Cadenas de texto"
   ]
  },
  {
   "cell_type": "markdown",
   "id": "a4a66c9f",
   "metadata": {},
   "source": [
    "**for tiene la siguiente estructura**\n",
    "\n",
    "- for variable in secuencia:\n",
    "    print(variable)\n",
    "- for es la palabra reservada\n",
    "- variable es el nombre de la variable que se usará para iterar\n",
    "- in es la palabra reservada de pertenencia\n",
    "- secuencia es la secuencia de elementos\n",
    "- : es el delimitador de inicio del ciclo\n",
    "- print(variable) es el código a ejecutar posee un nivel de indentación"
   ]
  },
  {
   "cell_type": "markdown",
   "id": "c3e1072e",
   "metadata": {},
   "source": [
    "Cuando se itera sobre una secuencia es común nombrar las variables con nombres que representen el elemento"
   ]
  },
  {
   "cell_type": "code",
   "execution_count": null,
   "id": "94cd0729",
   "metadata": {},
   "outputs": [
    {
     "name": "stdout",
     "output_type": "stream",
     "text": [
      "🍎\n",
      "🍌\n",
      "🍇\n",
      "🍉\n"
     ]
    }
   ],
   "source": [
    "for fruta in ['🍎','🍌','🍇','🍉']:\n",
    "    print(fruta)"
   ]
  },
  {
   "cell_type": "code",
   "execution_count": null,
   "id": "dbac1ded",
   "metadata": {},
   "outputs": [
    {
     "name": "stdout",
     "output_type": "stream",
     "text": [
      "Ejemplo 5\n",
      "🎄\n",
      "🎆\n",
      "🎁\n",
      "🎊\n",
      "✨\n",
      "🧨\n"
     ]
    }
   ],
   "source": [
    "#Ejemplo 5, imprimir los elementos de una lista fiestas\n",
    "\n",
    "print (\"Ejemplo 5\")\n",
    "fiesta = ['🎄','🎆','🎁','🎊','✨','🧨']\n",
    "for objeto in fiesta:\n",
    "    print(objeto)"
   ]
  },
  {
   "cell_type": "code",
   "execution_count": null,
   "id": "26b37457",
   "metadata": {},
   "outputs": [
    {
     "name": "stdout",
     "output_type": "stream",
     "text": [
      "Ejemplo 6\n",
      "🍅, 🍇, 🍈, 🍉, 🍊, "
     ]
    }
   ],
   "source": [
    "#Ejemplo 6, imprimir los elementos de una tupla de frutas separados por coma\n",
    "\n",
    "print (\"Ejemplo 6\")\n",
    "frutas =  ('🍅','🍇','🍈','🍉','🍊')\n",
    "for fruta in frutas:\n",
    "    print(fruta, end=\", \")"
   ]
  },
  {
   "cell_type": "code",
   "execution_count": null,
   "id": "79a7d60b",
   "metadata": {},
   "outputs": [
    {
     "name": "stdout",
     "output_type": "stream",
     "text": [
      "Ejemplo 6\n",
      "🍅, 🍇, 🍈, 🍉, 🍊, "
     ]
    }
   ],
   "source": [
    "#Ejemplo 6, imprimir los elementos de una tupla de frutas separados por coma\n",
    "\n",
    "print (\"Ejemplo 6\")\n",
    "frutas =  ('🍅','🍇','🍈','🍉','🍊')\n",
    "for fruta in frutas:\n",
    "    print(fruta, end=\", \")"
   ]
  },
  {
   "cell_type": "code",
   "execution_count": null,
   "id": "5a27d448",
   "metadata": {},
   "outputs": [
    {
     "name": "stdout",
     "output_type": "stream",
     "text": [
      "Ejemplo 8\n",
      "🥚->🐣->🐥->🐤->🐔->🍗->"
     ]
    }
   ],
   "source": [
    "#Ejemplo 8, imprimir los elementos del ciclo de vida de un pollo con flechas\n",
    "\n",
    "print (\"Ejemplo 8\")\n",
    "ciclo_vida = '🥚🐣🐥🐤🐔🍗'\n",
    "for etapa in ciclo_vida:\n",
    "    print(etapa, end=\"->\")\n"
   ]
  },
  {
   "cell_type": "markdown",
   "id": "a4c0b5a6",
   "metadata": {},
   "source": [
    "*Se puede recorrer elementos con indexación como listas y tuplas de 3 formas*\n",
    "\n",
    "- Mediante in como pertenencia\n",
    "- Mediante len() y range()\n",
    "- Mediante enumerate()"
   ]
  },
  {
   "cell_type": "code",
   "execution_count": null,
   "id": "ee2a8ef3",
   "metadata": {},
   "outputs": [
    {
     "name": "stdout",
     "output_type": "stream",
     "text": [
      "Ejemplo 9\n",
      "🐶\n",
      "🐱\n",
      "🐰\n",
      "🐭\n"
     ]
    }
   ],
   "source": [
    "print (\"Ejemplo 9\")\n",
    "animales = ['🐶','🐱','🐰','🐭']\n",
    "for animal in animales:\n",
    "    print(animal)"
   ]
  },
  {
   "cell_type": "code",
   "execution_count": null,
   "id": "4356d686",
   "metadata": {},
   "outputs": [
    {
     "name": "stdout",
     "output_type": "stream",
     "text": [
      "Ejemplo 10\n",
      "🐶\n",
      "🐱\n",
      "🐰\n",
      "🐭\n"
     ]
    }
   ],
   "source": [
    "print (\"Ejemplo 10\")\n",
    "animales = ['🐶','🐱','🐰','🐭']\n",
    "for i in range(len(animales)):\n",
    "    print(animales[i])"
   ]
  },
  {
   "cell_type": "markdown",
   "id": "5775b942",
   "metadata": {},
   "source": [
    "**Mediante enumerate()**\n",
    "\n",
    "Primero veremos la función enumerate()\n",
    "\n",
    "Es una función que devuelve un objeto enumerado que contiene pares de índices y valores como tuplas\n",
    "\n",
    "enumerate(['🐶','🐱','🐰','🐭'])\n",
    "(0, '🐶'), (1, '🐱'), (2, '🐰'), (3, '🐭')\n",
    "Nos permite recorrer una secuencia y obtener el índice y el valor en cada iteración"
   ]
  },
  {
   "cell_type": "code",
   "execution_count": null,
   "id": "fa7fd1cd",
   "metadata": {},
   "outputs": [
    {
     "name": "stdout",
     "output_type": "stream",
     "text": [
      "Ejemplo 11\n",
      "0 🐶 🐶\n",
      "1 🐱 🐱\n",
      "2 🐰 🐰\n",
      "3 🐭 🐭\n"
     ]
    }
   ],
   "source": [
    "print (\"Ejemplo 11\")\n",
    "animales = ['🐶','🐱','🐰','🐭']\n",
    "for i, animal in enumerate(animales):\n",
    "    print(i, animal, animales[i])"
   ]
  },
  {
   "cell_type": "markdown",
   "id": "3f623bdc",
   "metadata": {},
   "source": [
    "**While**\n",
    "\n",
    "- El ciclo while es un ciclo que se ejecuta mientras una condición sea verdadera\n",
    "- Es como un ciclo for pero no se sabe cuantas veces se ejecutará\n",
    "- Similar a un if pero se ejecuta varias veces\n",
    "\n",
    "La estructura de control while es la siguiente\n",
    "\n",
    "- while condicion:\n",
    "    print(\"Código a ejecutar\")\n",
    "- while es la palabra reservada\n",
    "- condicion es la expresión que se evaluará tiene que ser True o False\n",
    "- : es el delimitador de inicio del ciclo\n",
    "- print(\"Código a ejecutar\") es el código a ejecutar posee un nivel de indentación\n",
    "- condicion se evalúa en cada iteración"
   ]
  },
  {
   "cell_type": "code",
   "execution_count": null,
   "id": "e305667d",
   "metadata": {},
   "outputs": [
    {
     "name": "stdout",
     "output_type": "stream",
     "text": [
      "Ejemplo 12\n",
      "0\n",
      "1\n",
      "2\n",
      "3\n",
      "4\n",
      "5\n"
     ]
    }
   ],
   "source": [
    "print (\"Ejemplo 12\")\n",
    "i = 0\n",
    "while i <= 5:\n",
    "    print(i)\n",
    "    i += 1"
   ]
  },
  {
   "cell_type": "markdown",
   "id": "659c44f2",
   "metadata": {},
   "source": [
    "**Break**\n",
    "\n",
    "La sentencia break es una palabra reservada que se usa para salir de un ciclo\n",
    "Termina el ciclo actual y ejecuta la siguiente instrucción después del ciclo\n",
    "Es útil para salir de un ciclo cuando se cumple una condición antes de que termine el ciclo"
   ]
  },
  {
   "cell_type": "markdown",
   "id": "85b50644",
   "metadata": {},
   "source": [
    "**Ciclos infinitos**\n",
    "\n",
    "Un ciclo infinito es un ciclo que no tiene una condición de salida\n",
    "Se ejecuta indefinidamente hasta que se detiene manualmente con Ctrl+C o mediante un break"
   ]
  },
  {
   "cell_type": "markdown",
   "id": "8e5159c1",
   "metadata": {},
   "source": [
    "**Estructuras por comprensión**\n",
    "\n",
    "Las Estructuras por comprensión son una forma de crear estructuras de manera concisa utilizando una sola línea de código\n",
    "Utiliza la estructura de un ciclo for y se puede agregar condicionales\n",
    "Se puede crear listas, tuplas, diccionarios y conjuntos"
   ]
  },
  {
   "cell_type": "markdown",
   "id": "ea4bcdac",
   "metadata": {},
   "source": [
    "*Estructura de una lista por comprensión*\n",
    "\n",
    "- [expresion for variable in secuencia]\n",
    "- expresion es la expresión que se evaluará\n",
    "- for es la palabra reservada\n",
    "- variable es el nombre de la variable que se usará para iterar\n",
    "- in es la palabra reservada de pertenencia\n",
    "- secuencia es la secuencia de elementos\n",
    "- [ y ] son los delimitadores de la lista"
   ]
  },
  {
   "cell_type": "markdown",
   "id": "0ece233b",
   "metadata": {},
   "source": [
    "**Ciclos anidados**\n",
    "\n",
    "Son ciclos dentro de otros ciclos\n",
    "Se pueden anidar ciclos for y while\n",
    "\n",
    "Una matriz es una lista de listas que se puede recorrer con ciclos anidados\n",
    "\n",
    "Las matrices nos sirven para representar datos en dos dimensiones\n",
    "\n",
    "Son útiles para representar tablas, imágenes, mapas, etc."
   ]
  }
 ],
 "metadata": {
  "kernelspec": {
   "display_name": "Python 3",
   "language": "python",
   "name": "python3"
  },
  "language_info": {
   "codemirror_mode": {
    "name": "ipython",
    "version": 3
   },
   "file_extension": ".py",
   "mimetype": "text/x-python",
   "name": "python",
   "nbconvert_exporter": "python",
   "pygments_lexer": "ipython3",
   "version": "3.13.5"
  }
 },
 "nbformat": 4,
 "nbformat_minor": 5
}
