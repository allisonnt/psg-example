{
 "cells": [
  {
   "cell_type": "markdown",
   "id": "29e9cbb9",
   "metadata": {},
   "source": [
    "## Sesión 13\n",
    "\n",
    "# Estructura de control de flujo Sentencias iterativas\n",
    "\n",
    "Estructura de control\n",
    "En un programa las estructuras de control son el orden en el que se ejecutan las instrucciones\n",
    "\n",
    "Python soporta las siguientes estructuras de control\n",
    "\n",
    "- Secuencial o lineal\n",
    "- Selección o condicionales\n",
    "- Repetición o ciclos\n",
    "\n",
    "**Secuencial o lineal**\n",
    "\n",
    "Es la ejecución de las instrucciones en el orden en el que se escriben\n",
    "\n",
    "**Repetición o ciclos**\n",
    "\n",
    "Los ciclos son estructuras de control que permiten ejecutar un bloque de código varias veces de manera consecutiva\n",
    "Permite a los programas ejecutar una secuencia de instrucciones varias veces\n",
    "\n",
    "**En Python existen dos tipos de ciclos**\n",
    "\n",
    "- Ciclo for\n",
    "- Ciclo while \n",
    "\n",
    "**For**\n",
    "\n",
    "El ciclo for es un ciclo que se ejecuta un número determinado de veces\n",
    "En el caso de los for se recorre una secuencia de elementos\n",
    "Se puede recorrer un rango de números o listas, tuplas, diccionarios, etc.\n",
    "\n",
    "\n"
   ]
  },
  {
   "cell_type": "code",
   "execution_count": 1,
   "id": "bc564210",
   "metadata": {},
   "outputs": [
    {
     "data": {
      "text/plain": [
       "range(0, 5)"
      ]
     },
     "execution_count": 1,
     "metadata": {},
     "output_type": "execute_result"
    }
   ],
   "source": [
    "#Range es una función que genera una secuencia inmutable de números\n",
    "\n",
    "range(5)"
   ]
  },
  {
   "cell_type": "markdown",
   "id": "69f6b9f0",
   "metadata": {},
   "source": [
    "**Recibe tres argumentos**\n",
    "\n",
    "- Inicio (por defecto 0 e Inclusivo)\n",
    "- Fin (Obligatorio y Exclusivo)\n",
    "- Paso (por defecto 1)\n"
   ]
  },
  {
   "cell_type": "code",
   "execution_count": 2,
   "id": "9ea026c3",
   "metadata": {},
   "outputs": [
    {
     "data": {
      "text/plain": [
       "range(1, 10, 2)"
      ]
     },
     "execution_count": 2,
     "metadata": {},
     "output_type": "execute_result"
    }
   ],
   "source": [
    "range(1, 10, 2)"
   ]
  },
  {
   "cell_type": "code",
   "execution_count": 3,
   "id": "7a766995",
   "metadata": {},
   "outputs": [
    {
     "data": {
      "text/plain": [
       "range(10, 0, -1)"
      ]
     },
     "execution_count": 3,
     "metadata": {},
     "output_type": "execute_result"
    }
   ],
   "source": [
    "#Puede haber rangos negativos\n",
    "\n",
    "range(10, 0, -1)"
   ]
  },
  {
   "cell_type": "code",
   "execution_count": 4,
   "id": "6971a632",
   "metadata": {},
   "outputs": [
    {
     "name": "stdout",
     "output_type": "stream",
     "text": [
      "[0, 1, 2, 3, 4]\n"
     ]
    },
    {
     "data": {
      "text/plain": [
       "[0, 1, 2, 3, 4]"
      ]
     },
     "execution_count": 4,
     "metadata": {},
     "output_type": "execute_result"
    }
   ],
   "source": [
    "#Podemos convertir el rango en una lista\n",
    "\n",
    "print(list(range(5)))\n",
    "[0, 1, 2, 3, 4]\n",
    "#No es necesario convertirlo a list"
   ]
  },
  {
   "cell_type": "markdown",
   "id": "6ae9d130",
   "metadata": {},
   "source": [
    "**Como se declara un for con range**\n",
    "\n",
    "for tiene la siguiente estructura\n",
    "\n",
    "- for es la palabra reservada\n",
    "- variable es la variable que se usará para iterar\n",
    "- in es palabra reservada de pertenencia\n",
    "- range(inicio, fin, paso) es la secuencia de números\n",
    "- : es el delimitador de inicio del ciclo\n",
    "- print(variable) es el código a ejecutar posee un nivel de indentación"
   ]
  },
  {
   "cell_type": "markdown",
   "id": "2666e57d",
   "metadata": {},
   "source": [
    "*Las variables definidas en el ciclo for existen dentro del ciclo*\n",
    "\n",
    "NO se recomienda usarlas fuera del ciclo\n",
    "Es una mala práctica usar la variable del ciclo fuera del ciclo\n"
   ]
  },
  {
   "cell_type": "code",
   "execution_count": 5,
   "id": "41485a42",
   "metadata": {},
   "outputs": [
    {
     "name": "stdout",
     "output_type": "stream",
     "text": [
      "0\n",
      "1\n",
      "2\n",
      "3\n",
      "4\n",
      "4\n"
     ]
    }
   ],
   "source": [
    "for i in range(5):\n",
    "    print(i)\n",
    "print(i)"
   ]
  },
  {
   "cell_type": "code",
   "execution_count": 6,
   "id": "1d82c003",
   "metadata": {},
   "outputs": [
    {
     "name": "stdout",
     "output_type": "stream",
     "text": [
      "Inicio\n",
      "0\n",
      "1\n",
      "2\n",
      "3\n",
      "4\n",
      "Fin\n"
     ]
    }
   ],
   "source": [
    "#En python la estructura de control for es la siguiente\n",
    "\n",
    "print (\"Inicio\")\n",
    "for i in range(5): # rango (0,5,1)\n",
    "    print(i)\n",
    "print (\"Fin\")"
   ]
  },
  {
   "cell_type": "code",
   "execution_count": 7,
   "id": "c7839d71",
   "metadata": {},
   "outputs": [
    {
     "name": "stdout",
     "output_type": "stream",
     "text": [
      "Ejemplo 1\n",
      "25\n"
     ]
    }
   ],
   "source": [
    "#Ejemplo 1, sumar los números del 1 al 10 de 2 en 2\n",
    "\n",
    "print (\"Ejemplo 1\")\n",
    "suma = 0\n",
    "for i in range(1, 11, 2): # 1, 3, 5, 7, 9\n",
    "    suma = suma + i #suma += i\n",
    "print(suma)"
   ]
  },
  {
   "cell_type": "code",
   "execution_count": 8,
   "id": "7ad5997c",
   "metadata": {},
   "outputs": [
    {
     "name": "stdout",
     "output_type": "stream",
     "text": [
      "Ejemplo 2\n",
      "     *\n",
      "    ***\n",
      "   *****\n",
      "  *******\n",
      " *********\n",
      "***********\n"
     ]
    }
   ],
   "source": [
    "#Ejemplo 2, crear un árbol de navidad de 6 niveles\n",
    "\n",
    "print (\"Ejemplo 2\")\n",
    "for i in range(0, 6):\n",
    "    print(\" \"*(5-i) + \"*\"*i*2+\"*\")\n"
   ]
  },
  {
   "cell_type": "code",
   "execution_count": 9,
   "id": "cd495d95",
   "metadata": {},
   "outputs": [
    {
     "name": "stdout",
     "output_type": "stream",
     "text": [
      "Ejemplo 3\n",
      "1 4 9 16 25 36 49 64 81 100 "
     ]
    }
   ],
   "source": [
    "#Ejemplo 3, crear una serie de números cuadrados del 1 al 10\n",
    "\n",
    "print (\"Ejemplo 3\")\n",
    "for i in range(1, 11):\n",
    "    print(i**2, end=\" \")\n"
   ]
  },
  {
   "cell_type": "code",
   "execution_count": 10,
   "id": "1075a0c7",
   "metadata": {},
   "outputs": [
    {
     "name": "stdout",
     "output_type": "stream",
     "text": [
      "Ejemplo 4\n",
      "[0, 2, 4, 6, 8, 10]\n"
     ]
    }
   ],
   "source": [
    "#Ejemplo 4, crear una lista de números pares del 1 al 10\n",
    "\n",
    "print (\"Ejemplo 4\")\n",
    "pares = []\n",
    "for i in range(0, 11, 2):\n",
    "    pares.append(i)\n",
    "print(pares)"
   ]
  },
  {
   "cell_type": "markdown",
   "id": "8ff5497b",
   "metadata": {},
   "source": [
    "**Como se declara un for con secuencias**\n",
    "\n",
    "La estructura de control for también puede iterar sobre secuencias\n",
    "\n",
    "- Listas\n",
    "- Tuplas\n",
    "- Diccionarios\n",
    "- Cadenas de texto"
   ]
  },
  {
   "cell_type": "markdown",
   "id": "c18267c5",
   "metadata": {},
   "source": [
    "**for tiene la siguiente estructura**\n",
    "\n",
    "for variable in secuencia:\n",
    "    print(variable)\n",
    "- for es la palabra reservada\n",
    "- variable es el nombre de la variable que se usará para iterar\n",
    "- in es la palabra reservada de pertenencia\n",
    "- secuencia es la secuencia de elementos\n",
    "- : es el delimitador de inicio del ciclo\n",
    "- print(variable) es el código a ejecutar posee un nivel de indentación"
   ]
  },
  {
   "cell_type": "code",
   "execution_count": 11,
   "id": "676f0355",
   "metadata": {},
   "outputs": [
    {
     "name": "stdout",
     "output_type": "stream",
     "text": [
      "🍎\n",
      "🍌\n",
      "🍇\n",
      "🍉\n"
     ]
    }
   ],
   "source": [
    "#Cuando se itera sobre una secuencia es común nombrar las variables con nombres que representen el elemento\n",
    "\n",
    "for fruta in ['🍎','🍌','🍇','🍉']:\n",
    "    print(fruta)"
   ]
  },
  {
   "cell_type": "code",
   "execution_count": 12,
   "id": "da57e77f",
   "metadata": {},
   "outputs": [
    {
     "name": "stdout",
     "output_type": "stream",
     "text": [
      "Ejemplo 5\n",
      "🎄\n",
      "🎆\n",
      "🎁\n",
      "🎊\n",
      "✨\n",
      "🧨\n"
     ]
    }
   ],
   "source": [
    "#Ejemplo 5, imprimir los elementos de una lista fiestas\n",
    "\n",
    "print (\"Ejemplo 5\")\n",
    "fiesta = ['🎄','🎆','🎁','🎊','✨','🧨']\n",
    "for objeto in fiesta:\n",
    "    print(objeto)"
   ]
  },
  {
   "cell_type": "code",
   "execution_count": 13,
   "id": "17b085f8",
   "metadata": {},
   "outputs": [
    {
     "name": "stdout",
     "output_type": "stream",
     "text": [
      "Ejemplo 6\n",
      "🍅, 🍇, 🍈, 🍉, 🍊, "
     ]
    }
   ],
   "source": [
    "#Ejemplo 6, imprimir los elementos de una tupla de frutas separados por coma\n",
    "\n",
    "print (\"Ejemplo 6\")\n",
    "frutas =  ('🍅','🍇','🍈','🍉','🍊')\n",
    "for fruta in frutas:\n",
    "    print(fruta, end=\", \")"
   ]
  },
  {
   "cell_type": "code",
   "execution_count": 14,
   "id": "d2a5c422",
   "metadata": {},
   "outputs": [
    {
     "name": "stdout",
     "output_type": "stream",
     "text": [
      "Ejemplo 7\n",
      "🍅 Tomate\n",
      "🍇 Uva\n",
      "🍈 Melón\n",
      "🍉 Sandía\n",
      "🍊 Naranja\n"
     ]
    }
   ],
   "source": [
    "#Ejemplo 7, imprimir los elementos de un diccionario\n",
    "\n",
    "print (\"Ejemplo 7\")\n",
    "frutas = {'🍅':'Tomate','🍇':'Uva','🍈':'Melón','🍉':'Sandía','🍊':'Naranja'}\n",
    "for clave in frutas:\n",
    "    print(clave, frutas[clave])"
   ]
  },
  {
   "cell_type": "code",
   "execution_count": 15,
   "id": "bfdaf9f3",
   "metadata": {},
   "outputs": [
    {
     "name": "stdout",
     "output_type": "stream",
     "text": [
      "Ejemplo 8\n",
      "🥚->🐣->🐥->🐤->🐔->🍗->"
     ]
    }
   ],
   "source": [
    "#Ejemplo 8, imprimir los elementos del ciclo de vida de un pollo con flechas\n",
    "\n",
    "print (\"Ejemplo 8\")\n",
    "ciclo_vida = '🥚🐣🐥🐤🐔🍗'\n",
    "for etapa in ciclo_vida:\n",
    "    print(etapa, end=\"->\")"
   ]
  },
  {
   "cell_type": "markdown",
   "id": "44515979",
   "metadata": {},
   "source": [
    "*Se puede recorrer elementos con indexación como listas y tuplas de 3 formas*\n",
    "\n",
    "- Mediante in como pertenencia\n",
    "- Mediante len() y range()\n",
    "- Mediante enumerate()"
   ]
  },
  {
   "cell_type": "markdown",
   "id": "13e4c59a",
   "metadata": {},
   "source": [
    "**Mediante in**\n",
    "\n",
    "\n"
   ]
  },
  {
   "cell_type": "code",
   "execution_count": 16,
   "id": "7a8d5c86",
   "metadata": {},
   "outputs": [
    {
     "name": "stdout",
     "output_type": "stream",
     "text": [
      "Ejemplo 9\n",
      "🐶\n",
      "🐱\n",
      "🐰\n",
      "🐭\n"
     ]
    }
   ],
   "source": [
    "#Ejemplo 9, Listar los elementos de la siguiente serie ['🐶','🐱','🐰','🐭']\n",
    "\n",
    "print (\"Ejemplo 9\")\n",
    "animales = ['🐶','🐱','🐰','🐭']\n",
    "for animal in animales:\n",
    "    print(animal)"
   ]
  },
  {
   "cell_type": "markdown",
   "id": "0eba1aaf",
   "metadata": {},
   "source": [
    "**Mediante len() y range()**\n",
    "\n",
    "\n"
   ]
  },
  {
   "cell_type": "code",
   "execution_count": 17,
   "id": "38b78afd",
   "metadata": {},
   "outputs": [
    {
     "name": "stdout",
     "output_type": "stream",
     "text": [
      "Ejemplo 10\n",
      "🐶\n",
      "🐱\n",
      "🐰\n",
      "🐭\n"
     ]
    }
   ],
   "source": [
    "#Ejemplo 10, Listar los elementos de la siguiente serie ['🐶','🐱','🐰','🐭']\n",
    "\n",
    "print (\"Ejemplo 10\")\n",
    "animales = ['🐶','🐱','🐰','🐭']\n",
    "for i in range(len(animales)):\n",
    "    print(animales[i])"
   ]
  },
  {
   "cell_type": "markdown",
   "id": "54c91e9a",
   "metadata": {},
   "source": [
    "**Mediante enumerate()**\n",
    "\n",
    "Primero veremos la función enumerate()\n",
    "Es una función que devuelve un objeto enumerado que contiene pares de índices y valores como tuplas"
   ]
  },
  {
   "cell_type": "code",
   "execution_count": 18,
   "id": "c0697f7c",
   "metadata": {},
   "outputs": [
    {
     "name": "stdout",
     "output_type": "stream",
     "text": [
      "Ejemplo 11\n",
      "0 🐶 🐶\n",
      "1 🐱 🐱\n",
      "2 🐰 🐰\n",
      "3 🐭 🐭\n"
     ]
    }
   ],
   "source": [
    "#Ejemplo 11, Listar los elementos de la siguiente serie ['🐶','🐱','🐰','🐭']\n",
    "\n",
    "print (\"Ejemplo 11\")\n",
    "animales = ['🐶','🐱','🐰','🐭']\n",
    "for i, animal in enumerate(animales):\n",
    "    print(i, animal, animales[i])\n"
   ]
  },
  {
   "cell_type": "markdown",
   "id": "32d8f839",
   "metadata": {},
   "source": [
    "*While*\n",
    "- El ciclo while es un ciclo que se ejecuta mientras una condición sea verdadera\n",
    "- Es como un ciclo for pero no se sabe cuantas veces se ejecutará\n",
    "- Similar a un if pero se ejecuta varias veces\n",
    "\n",
    "*La estructura de control while es la siguiente*\n",
    "\n",
    "while condicion:\n",
    "    print(\"Código a ejecutar\")\n",
    "while es la palabra reservada\n",
    "condicion es la expresión que se evaluará tiene que ser True o False\n",
    ": es el delimitador de inicio del ciclo\n",
    "print(\"Código a ejecutar\") es el código a ejecutar posee un nivel de indentación\n",
    "condicion se evalúa en cada iteración"
   ]
  },
  {
   "cell_type": "code",
   "execution_count": 19,
   "id": "f3967486",
   "metadata": {},
   "outputs": [
    {
     "name": "stdout",
     "output_type": "stream",
     "text": [
      "Ejemplo 12\n",
      "0\n",
      "1\n",
      "2\n",
      "3\n",
      "4\n",
      "5\n"
     ]
    }
   ],
   "source": [
    "#Ejemplo 12, imprimir los números mientras sean menores o igual a 5 empezando desde 0\n",
    "\n",
    "print (\"Ejemplo 12\")\n",
    "i = 0\n",
    "while i <= 5:\n",
    "    print(i)\n",
    "    i += 1"
   ]
  },
  {
   "cell_type": "markdown",
   "id": "d9e3e32f",
   "metadata": {},
   "source": [
    "*Break*\n",
    "\n",
    "La sentencia break es una palabra reservada que se usa para salir de un ciclo"
   ]
  },
  {
   "cell_type": "code",
   "execution_count": 1,
   "id": "b028dc90",
   "metadata": {},
   "outputs": [
    {
     "name": "stdout",
     "output_type": "stream",
     "text": [
      "Ejemplo 14\n",
      "🍎\n",
      "🍌\n",
      "🍇\n",
      "🍉\n",
      "🍊\n",
      "Fin\n"
     ]
    }
   ],
   "source": [
    "#Ejemplo 14, De la siguiente lista de frutas imprimir los elementos hasta que se encuentre un gusano 🐛 con for\n",
    "\n",
    "frutas = ['🍎','🍌','🍇','🍉','🍊','🐛','🍋','🍍']\n",
    "print (\"Ejemplo 14\")\n",
    "for fruta in frutas:\n",
    "    if fruta == '🐛':\n",
    "        break\n",
    "    print(fruta)\n",
    "print (\"Fin\")"
   ]
  },
  {
   "cell_type": "code",
   "execution_count": 2,
   "id": "c07636f0",
   "metadata": {},
   "outputs": [
    {
     "name": "stdout",
     "output_type": "stream",
     "text": [
      "Ejemplo 14\n",
      "🍎\n",
      "🍌\n",
      "🍇\n",
      "🍉\n",
      "🍊\n",
      "🐛\n",
      "Fin\n"
     ]
    }
   ],
   "source": [
    "#Con while\n",
    "\n",
    "frutas = ['🍎','🍌','🍇','🍉','🍊','🐛','🍋','🍍']\n",
    "print (\"Ejemplo 14\")\n",
    "i = \"\"\n",
    "while i != '🐛':\n",
    "    i = frutas.pop(0)\n",
    "    print(i)\n",
    "print (\"Fin\")"
   ]
  },
  {
   "cell_type": "markdown",
   "id": "0250d803",
   "metadata": {},
   "source": [
    "**Ciclos infinitos**\n",
    "\n",
    "- Un ciclo infinito es un ciclo que no tiene una condición de salida\n",
    "- Se ejecuta indefinidamente hasta que se detiene manualmente con Ctrl+C o mediante un break"
   ]
  }
 ],
 "metadata": {
  "kernelspec": {
   "display_name": "Python 3",
   "language": "python",
   "name": "python3"
  },
  "language_info": {
   "codemirror_mode": {
    "name": "ipython",
    "version": 3
   },
   "file_extension": ".py",
   "mimetype": "text/x-python",
   "name": "python",
   "nbconvert_exporter": "python",
   "pygments_lexer": "ipython3",
   "version": "3.13.5"
  }
 },
 "nbformat": 4,
 "nbformat_minor": 5
}
