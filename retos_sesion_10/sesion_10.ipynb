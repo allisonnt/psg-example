{
 "cells": [
  {
   "cell_type": "markdown",
   "id": "1c0060d7",
   "metadata": {},
   "source": [
    "# **Sesión 10**\n",
    "## *Estructura de datos Conjuntos*\n",
    "\n",
    "**Estructura de datos**\n",
    "- Una estructura de datos es una forma de organizar y almacenar datos\n",
    "- De manera eficiente para su uso y manipulación\n",
    "- Las más comunes son tuplas, listas, conjuntos y diccionarios\n",
    "\n",
    "**¿Qué es un conjunto?**\n",
    "\n",
    "- Un conjunto es una estructura de datos, al igual que una lista o una tupla\n",
    "- Al igual que las listas almacena objetos o items que puede ser de a cualquier tipo\n",
    "\n",
    "Un conjunto es una secuencia de objetos MUTABLES\n",
    "\n",
    "- NO ordenados\n",
    "- NO indexados\n",
    "- NO duplicados"
   ]
  },
  {
   "cell_type": "code",
   "execution_count": 1,
   "id": "d68bb521",
   "metadata": {},
   "outputs": [
    {
     "name": "stdout",
     "output_type": "stream",
     "text": [
      "{'🍕', '🌭', '🍔', '🍟'}\n",
      "{'🌭', '🍕', '🥗', '🍟', '🍔'}\n",
      "{'🍕', '🌭', '🍔', '🍟'}\n"
     ]
    },
    {
     "ename": "TypeError",
     "evalue": "'set' object is not subscriptable",
     "output_type": "error",
     "traceback": [
      "\u001b[31m---------------------------------------------------------------------------\u001b[39m",
      "\u001b[31mTypeError\u001b[39m                                 Traceback (most recent call last)",
      "\u001b[36mCell\u001b[39m\u001b[36m \u001b[39m\u001b[32mIn[1]\u001b[39m\u001b[32m, line 13\u001b[39m\n\u001b[32m     11\u001b[39m \u001b[38;5;66;03m#NO indexados: Los elementos de un conjunto no pueden ser accedidos por un índice\u001b[39;00m\n\u001b[32m     12\u001b[39m conjunto = {\u001b[33m'\u001b[39m\u001b[33m🍕\u001b[39m\u001b[33m'\u001b[39m,\u001b[33m'\u001b[39m\u001b[33m🍔\u001b[39m\u001b[33m'\u001b[39m,\u001b[33m'\u001b[39m\u001b[33m🍟\u001b[39m\u001b[33m'\u001b[39m,\u001b[33m'\u001b[39m\u001b[33m🌭\u001b[39m\u001b[33m'\u001b[39m}\n\u001b[32m---> \u001b[39m\u001b[32m13\u001b[39m \u001b[38;5;28mprint\u001b[39m(\u001b[43mconjunto\u001b[49m\u001b[43m[\u001b[49m\u001b[32;43m0\u001b[39;49m\u001b[43m]\u001b[49m) \u001b[38;5;66;03m# TypeError: 'set' object is not subscriptable\u001b[39;00m\n\u001b[32m     15\u001b[39m \u001b[38;5;66;03m#NO duplicados: Los elementos de un conjunto no pueden ser duplicados\u001b[39;00m\n\u001b[32m     16\u001b[39m conjunto = {\u001b[33m'\u001b[39m\u001b[33m🍕\u001b[39m\u001b[33m'\u001b[39m,\u001b[33m'\u001b[39m\u001b[33m🍔\u001b[39m\u001b[33m'\u001b[39m,\u001b[33m'\u001b[39m\u001b[33m🍟\u001b[39m\u001b[33m'\u001b[39m,\u001b[33m'\u001b[39m\u001b[33m🌭\u001b[39m\u001b[33m'\u001b[39m,\u001b[33m'\u001b[39m\u001b[33m🍕\u001b[39m\u001b[33m'\u001b[39m,\u001b[33m'\u001b[39m\u001b[33m🍟\u001b[39m\u001b[33m'\u001b[39m}\n",
      "\u001b[31mTypeError\u001b[39m: 'set' object is not subscriptable"
     ]
    }
   ],
   "source": [
    "#Mutable\n",
    "conjunto = {'🍕','🍔','🍟','🌭'}\n",
    "print(conjunto) # {'🍔', '🌭', '🍕', '🍟'}\n",
    "conjunto.add('🥗')\n",
    "print(conjunto)  # {'🍔', '🍕', '🥗', '🍟', '🌭'}\n",
    "\n",
    "#NO ordenados: Los elementos de un conjunto no tienen un orden especifico\n",
    "conjunto = {'🍕','🍔','🍟','🌭'}\n",
    "print(conjunto) # {'🍔', '🌭', '🍕', '🍟'}\n",
    "\n",
    "#NO indexados: Los elementos de un conjunto no pueden ser accedidos por un índice\n",
    "conjunto = {'🍕','🍔','🍟','🌭'}\n",
    "print(conjunto[0]) # TypeError: 'set' object is not subscriptable\n",
    "\n",
    "#NO duplicados: Los elementos de un conjunto no pueden ser duplicados\n",
    "conjunto = {'🍕','🍔','🍟','🌭','🍕','🍟'}\n",
    "print(conjunto) # {'🍕', '🍟', '🌭', '🍔'}\n",
    "\n"
   ]
  },
  {
   "cell_type": "markdown",
   "id": "8c95246e",
   "metadata": {},
   "source": [
    "**##Usos de los conjuntos**\n",
    "- Análisis de texto eliminando palabras repetidas\n",
    "- Gestión de inventarios\n",
    "- Control de usuarios\n",
    "- Control de permisos\n",
    "\n",
    "**¿Cómo declarar un conjunto?**\n",
    "\n",
    "En python se declara un conjunto utilizando llaves {} y separando los elementos con comas ,\n",
    "\n",
    "- mi_conjunto = {elemento1, elemento2, elemento3, ...}\n",
    "- mi_conjunto: Es el nombre del conjunto\n",
    "- elemento1, elemento2, elemento3: Son los elementos del conjunto\n",
    "\n",
    "También se puede declarar un conjunto utilizando la función set() Y declarar conjuntos utilizando conjuntos por comprensión\n",
    "\n"
   ]
  },
  {
   "cell_type": "code",
   "execution_count": 2,
   "id": "64fb88d4",
   "metadata": {},
   "outputs": [
    {
     "name": "stdout",
     "output_type": "stream",
     "text": [
      "Conjunto de enteros\n",
      "{1, 2, 3, 4, 5}\n",
      "<class 'set'>\n",
      "Conjunto de cadenas\n",
      "{'🍕', '🌭', '🍔', '🍟'}\n",
      "<class 'set'>\n",
      "Conjunto mixto\n",
      "{1, 3.14, '☕'}\n",
      "<class 'set'>\n"
     ]
    }
   ],
   "source": [
    "#Conjunto de enteros\n",
    "print (\"Conjunto de enteros\")\n",
    "conjunto = {1, 2, 3, 4, 5}\n",
    "print(conjunto) \n",
    "print(type(conjunto))\n",
    "\n",
    "#Conjunto de cadenas\n",
    "print (\"Conjunto de cadenas\")\n",
    "conjunto = {'🍕','🍔','🍟','🌭'}\n",
    "print(conjunto)\n",
    "print(type(conjunto))\n",
    "\n",
    "#Conjunto mixto\n",
    "print (\"Conjunto mixto\")\n",
    "conjunto = {1, True, 3.14, '☕'}\n",
    "print(conjunto)\n",
    "print(type(conjunto))"
   ]
  },
  {
   "cell_type": "markdown",
   "id": "23afe608",
   "metadata": {},
   "source": [
    " *función set()*\n",
    "\n",
    "- para crear conjuntos vacíos o a partir de una secuencia\n",
    "- Permite convertir secuencias como listas, tuplas, cadenas en conjuntos"
   ]
  },
  {
   "cell_type": "code",
   "execution_count": 3,
   "id": "1fb778e5",
   "metadata": {},
   "outputs": [
    {
     "name": "stdout",
     "output_type": "stream",
     "text": [
      "Conjunto vacío\n",
      "set()\n",
      "<class 'set'>\n",
      "Conjunto a partir de la cadena\n",
      "{'l', 'n', 'H', 'd', 'u', 'o', ' ', 'a', 'M'}\n",
      "<class 'set'>\n",
      "Conjunto a partir de una tupla\n",
      "{1, 2, 3, 4, 5}\n",
      "<class 'set'>\n",
      "Conjunto a partir de una lista\n",
      "{False, True}\n",
      "<class 'set'>\n",
      "Conjunto por comprensión\n",
      "{'🍔', '🍟', '🍕'}\n",
      "<class 'set'>\n"
     ]
    }
   ],
   "source": [
    "#Conjunto vacío\n",
    "print (\"Conjunto vacío\")\n",
    "conjunto = set()\n",
    "print(conjunto)\n",
    "print(type(conjunto))\n",
    "\n",
    "#Conjunto a partir de la cadena\n",
    "print (\"Conjunto a partir de la cadena\")\n",
    "cadena = 'Hola Mundo'\n",
    "conjunto = set(cadena)\n",
    "print(conjunto)\n",
    "print(type(conjunto))\n",
    "\n",
    "#Conjunto a partir de una tupla\n",
    "print (\"Conjunto a partir de una tupla\")\n",
    "tupla = (1, 2, 3, 4, 5, 5)\n",
    "conjunto = set(tupla)\n",
    "print(conjunto)\n",
    "print(type(conjunto))\n",
    "\n",
    "#Conjunto a partir de una lista\n",
    "print (\"Conjunto a partir de una lista\")\n",
    "lista = [True, False, 0, 1]\n",
    "conjunto = set(lista)\n",
    "print(conjunto)\n",
    "print(type(conjunto))\n",
    "\n",
    "#Conjunto por comprensión\n",
    "print (\"Conjunto por comprensión\")\n",
    "conjunto = {x for x in '🍕🍔🍟🍕🍔🍟🍔🍟'}\n",
    "print(conjunto)\n",
    "print(type(conjunto))\n",
    "\n"
   ]
  },
  {
   "cell_type": "markdown",
   "id": "4f145fb1",
   "metadata": {},
   "source": [
    "*#Indexación y Slicing*\n",
    "\n",
    "- Los conjuntos no soportan indexación ni slicing\n",
    "- Porque no son ordenados ni indexados"
   ]
  },
  {
   "cell_type": "code",
   "execution_count": 4,
   "id": "aa631c12",
   "metadata": {},
   "outputs": [
    {
     "ename": "TypeError",
     "evalue": "'set' object is not subscriptable",
     "output_type": "error",
     "traceback": [
      "\u001b[31m---------------------------------------------------------------------------\u001b[39m",
      "\u001b[31mTypeError\u001b[39m                                 Traceback (most recent call last)",
      "\u001b[36mCell\u001b[39m\u001b[36m \u001b[39m\u001b[32mIn[4]\u001b[39m\u001b[32m, line 2\u001b[39m\n\u001b[32m      1\u001b[39m conjunto = {\u001b[32m1\u001b[39m, \u001b[32m2\u001b[39m, \u001b[32m3\u001b[39m, \u001b[32m4\u001b[39m, \u001b[32m5\u001b[39m}\n\u001b[32m----> \u001b[39m\u001b[32m2\u001b[39m \u001b[38;5;28mprint\u001b[39m(\u001b[43mconjunto\u001b[49m\u001b[43m[\u001b[49m\u001b[32;43m0\u001b[39;49m\u001b[43m]\u001b[49m) \u001b[38;5;66;03m# TypeError: 'set' object is not subscriptable\u001b[39;00m\n\u001b[32m      4\u001b[39m conjunto = {\u001b[32m1\u001b[39m, \u001b[32m2\u001b[39m, \u001b[32m3\u001b[39m, \u001b[32m4\u001b[39m, \u001b[32m5\u001b[39m}\n\u001b[32m      5\u001b[39m \u001b[38;5;28mprint\u001b[39m(conjunto[\u001b[32m0\u001b[39m:\u001b[32m3\u001b[39m]) \u001b[38;5;66;03m# TypeError: 'set' object is not subscriptable\u001b[39;00m\n",
      "\u001b[31mTypeError\u001b[39m: 'set' object is not subscriptable"
     ]
    }
   ],
   "source": [
    "conjunto = {1, 2, 3, 4, 5}\n",
    "print(conjunto[0]) # TypeError: 'set' object is not subscriptable\n",
    "\n",
    "conjunto = {1, 2, 3, 4, 5}\n",
    "print(conjunto[0:3]) # TypeError: 'set' object is not subscriptable"
   ]
  },
  {
   "cell_type": "markdown",
   "id": "26b8796e",
   "metadata": {},
   "source": [
    "**Concatenación de conjuntos**\n",
    "\n",
    "Los conjuntos no soportan la concatenación con el operador +"
   ]
  },
  {
   "cell_type": "code",
   "execution_count": 5,
   "id": "8872d4f4",
   "metadata": {},
   "outputs": [
    {
     "ename": "TypeError",
     "evalue": "unsupported operand type(s) for +: 'set' and 'set'",
     "output_type": "error",
     "traceback": [
      "\u001b[31m---------------------------------------------------------------------------\u001b[39m",
      "\u001b[31mTypeError\u001b[39m                                 Traceback (most recent call last)",
      "\u001b[36mCell\u001b[39m\u001b[36m \u001b[39m\u001b[32mIn[5]\u001b[39m\u001b[32m, line 3\u001b[39m\n\u001b[32m      1\u001b[39m conjunto1 = {\u001b[32m1\u001b[39m, \u001b[32m2\u001b[39m, \u001b[32m3\u001b[39m}\n\u001b[32m      2\u001b[39m conjunto2 = {\u001b[32m4\u001b[39m, \u001b[32m5\u001b[39m, \u001b[32m6\u001b[39m}\n\u001b[32m----> \u001b[39m\u001b[32m3\u001b[39m \u001b[38;5;28mprint\u001b[39m(\u001b[43mconjunto1\u001b[49m\u001b[43m \u001b[49m\u001b[43m+\u001b[49m\u001b[43m \u001b[49m\u001b[43mconjunto2\u001b[49m)\n\u001b[32m      4\u001b[39m \u001b[38;5;66;03m# TypeError: unsupported operand type(s) for +: 'set' and 'set'\u001b[39;00m\n",
      "\u001b[31mTypeError\u001b[39m: unsupported operand type(s) for +: 'set' and 'set'"
     ]
    }
   ],
   "source": [
    "conjunto1 = {1, 2, 3}\n",
    "conjunto2 = {4, 5, 6}\n",
    "print(conjunto1 + conjunto2)\n",
    "# TypeError: unsupported operand type(s) for +: 'set' and 'set'"
   ]
  },
  {
   "cell_type": "markdown",
   "id": "c8114a16",
   "metadata": {},
   "source": [
    "**Repetición con conjuntos**\n",
    "\n",
    "Los conjuntos no soportan la repetición con el operador *"
   ]
  },
  {
   "cell_type": "code",
   "execution_count": 6,
   "id": "96fdaf1a",
   "metadata": {},
   "outputs": [
    {
     "ename": "TypeError",
     "evalue": "unsupported operand type(s) for *: 'set' and 'int'",
     "output_type": "error",
     "traceback": [
      "\u001b[31m---------------------------------------------------------------------------\u001b[39m",
      "\u001b[31mTypeError\u001b[39m                                 Traceback (most recent call last)",
      "\u001b[36mCell\u001b[39m\u001b[36m \u001b[39m\u001b[32mIn[6]\u001b[39m\u001b[32m, line 2\u001b[39m\n\u001b[32m      1\u001b[39m conjunto = {\u001b[32m1\u001b[39m, \u001b[32m2\u001b[39m, \u001b[32m3\u001b[39m}\n\u001b[32m----> \u001b[39m\u001b[32m2\u001b[39m \u001b[38;5;28mprint\u001b[39m(\u001b[43mconjunto\u001b[49m\u001b[43m \u001b[49m\u001b[43m*\u001b[49m\u001b[43m \u001b[49m\u001b[32;43m3\u001b[39;49m)\n\u001b[32m      3\u001b[39m \u001b[38;5;66;03m# TypeError: unsupported operand type(s) for *: 'set' and 'int'\u001b[39;00m\n",
      "\u001b[31mTypeError\u001b[39m: unsupported operand type(s) for *: 'set' and 'int'"
     ]
    }
   ],
   "source": [
    "conjunto = {1, 2, 3}\n",
    "print(conjunto * 3)\n",
    "# TypeError: unsupported operand type(s) for *: 'set' and 'int'"
   ]
  },
  {
   "cell_type": "markdown",
   "id": "ef98bff6",
   "metadata": {},
   "source": [
    "**## Métodos de los conjuntos ##**\n",
    "\n",
    "Los conjuntos soportan métodos como:\n",
    "\n",
    "- Métodos de adición\n",
    "- Métodos de eliminación\n",
    "- Métodos de operaciones con conjuntos\n",
    "- Métodos de asignación con operaciones\n",
    "- Métodos de búsqueda\n",
    "- Métodos de copia"
   ]
  },
  {
   "cell_type": "markdown",
   "id": "87c57934",
   "metadata": {},
   "source": [
    "**Métodos de adición**\n",
    "\n",
    "Los métodos de adición permiten agregar elementos a un conjunto"
   ]
  },
  {
   "cell_type": "code",
   "execution_count": 7,
   "id": "78e7bc75",
   "metadata": {},
   "outputs": [
    {
     "name": "stdout",
     "output_type": "stream",
     "text": [
      "Método add()\n",
      "{'🍕', '🌭', '🍔', '🍟'}\n",
      "{'🌭', '🍕', '🥗', '🍟', '🍔'}\n",
      "Método update()\n",
      "{'🍕', '🌭', '🍔', '🍟'}\n",
      "{'🌭', '🥤', '🍕', '🍦', '🍟', '🍔'}\n",
      "{'🌭', '🥤', '🍪', '🍕', '🍦', '🍩', '🍟', '🍔'}\n",
      "{'🌭', '🥤', '🍫', '🍪', '🍕', '🍬', '🍦', '🍩', '🍟', '🍔'}\n",
      "{'🌭', '🥤', '🍫', '🍪', '🍕', '🍬', '🍭', '🍮', '🍦', '🍩', '🍟', '🍔'}\n"
     ]
    }
   ],
   "source": [
    "#add(valor) recibe un valor y lo agrega al conjunto si no existe\n",
    "print (\"Método add()\")\n",
    "conjunto = {'🍕','🍔','🍟','🌭'}\n",
    "print (conjunto)\n",
    "conjunto.add('🥗')\n",
    "print(conjunto) \n",
    "\n",
    "#update(valores) recibe una secuencia de valores y los agrega al conjunto si no existen\n",
    "print (\"Método update()\")\n",
    "conjunto = {'🍕','🍔','🍟','🌭'}\n",
    "print (conjunto)\n",
    "conjunto.update(['🥤','🍦'])\n",
    "print(conjunto) \n",
    "conjunto.update('🍩🍪')\n",
    "print(conjunto) \n",
    "conjunto.update(('🍫','🍬'))\n",
    "print(conjunto)\n",
    "conjunto.update({'🍭','🍮'})\n",
    "print(conjunto)\n",
    "\n"
   ]
  },
  {
   "cell_type": "markdown",
   "id": "a09a39ef",
   "metadata": {},
   "source": [
    "**Métodos de eliminación**\n",
    "\n",
    "Los métodos de eliminación permiten eliminar elementos de un conjunto\n",
    "\n",
    "- remove()\n",
    "- discard()\n",
    "- pop()\n",
    "- clear()"
   ]
  },
  {
   "cell_type": "code",
   "execution_count": 8,
   "id": "a0dbfda8",
   "metadata": {},
   "outputs": [
    {
     "name": "stdout",
     "output_type": "stream",
     "text": [
      "Método remove()\n",
      "{'🍕', '🌭', '🍔', '🍟'}\n",
      "{'🍕', '🌭', '🍟'}\n",
      "Método discard()\n",
      "{'🍕', '🌭', '🍔', '🍟'}\n",
      "{'🍕', '🌭', '🍟'}\n",
      "{'🍕', '🌭', '🍟'}\n",
      "Método pop()\n",
      "{'🍔', '🌭', '🥤', '🍦', '🍟', '🍕'}\n",
      "🍔\n",
      "{'🌭', '🥤', '🍦', '🍟', '🍕'}\n",
      "🌭\n",
      "{'🥤', '🍦', '🍟', '🍕'}\n",
      "Método clear()\n",
      "{'🍕', '🌭', '🍔', '🍟'}\n",
      "set()\n"
     ]
    }
   ],
   "source": [
    "#remove(valor) recibe un valor y lo elimina del conjunto si existe, si no existe lanza un error\n",
    "print (\"Método remove()\")\n",
    "conjunto = {'🍕','🍔','🍟','🌭'} \n",
    "print (conjunto)\n",
    "conjunto.remove('🍔')\n",
    "print(conjunto)\n",
    "# conjunto.remove('🍔')\n",
    "# print(conjunto)\n",
    "# Key Error: '🍔'\n",
    "\n",
    "#discard(valor) recibe un valor y lo elimina del conjunto si existe, si no existe no lanza un error\n",
    "print (\"Método discard()\")\n",
    "conjunto = {'🍕','🍔','🍟','🌭'}\n",
    "print (conjunto)\n",
    "conjunto.discard('🍔')\n",
    "print(conjunto)\n",
    "conjunto.discard('🍔')\n",
    "print(conjunto)\n",
    "\n",
    "#pop() elimina un elemento aleatorio del conjunto y lo retorna\n",
    "print (\"Método pop()\")\n",
    "conjunto = {'🍕','🍔','🍟','🌭', '🥤','🍦'}\n",
    "print (conjunto)\n",
    "print(conjunto.pop())\n",
    "print(conjunto)\n",
    "print(conjunto.pop())\n",
    "print(conjunto)\n",
    "\n",
    "#clear() elimina todos los elementos del conjunto\n",
    "print (\"Método clear()\")\n",
    "conjunto = {'🍕','🍔','🍟','🌭'}\n",
    "print (conjunto)\n",
    "conjunto.clear()\n",
    "print(conjunto)\n",
    "\n"
   ]
  },
  {
   "cell_type": "markdown",
   "id": "73134ae1",
   "metadata": {},
   "source": [
    "**Métodos de operaciones con conjuntos**\n",
    "\n",
    "- union() : Unión de conjuntos\n",
    "- intersection() : Intersección de conjuntos\n",
    "- difference() : Diferencia de conjuntos\n",
    "- symmetric_difference() : Diferencia simétrica de conjuntos\n",
    "\n",
    "union(conjunto) recibe un conjunto y retorna la unión de ambos, Contiene todos los elementos de ambos sin repetir\n"
   ]
  },
  {
   "cell_type": "code",
   "execution_count": 9,
   "id": "0c0ad443",
   "metadata": {},
   "outputs": [
    {
     "name": "stdout",
     "output_type": "stream",
     "text": [
      "Método union()\n",
      "{'🍟', '🥤', '🍔'} {'🍨', '🥤', '🍕'}\n",
      "{'🍨', '🍕', '🥤', '🍟', '🍔'}\n"
     ]
    }
   ],
   "source": [
    "print (\"Método union()\")\n",
    "conjunto1 = {'🍔','🍟', '🥤'}\n",
    "conjunto2 = {'🍕','🍨','🥤'}\n",
    "print (conjunto1, conjunto2)\n",
    "union = conjunto1.union(conjunto2)\n",
    "print(union)\n"
   ]
  },
  {
   "cell_type": "markdown",
   "id": "2e93417c",
   "metadata": {},
   "source": [
    "**intersection(conjunto) recibe un conjunto y retorna la intersección de ambos**"
   ]
  },
  {
   "cell_type": "code",
   "execution_count": 10,
   "id": "3dcdd68f",
   "metadata": {},
   "outputs": [
    {
     "name": "stdout",
     "output_type": "stream",
     "text": [
      "Método intersection()\n",
      "{'🍟', '🥤', '🍔'} {'🍨', '🥤', '🍕'}\n",
      "{'🥤'}\n"
     ]
    }
   ],
   "source": [
    "print (\"Método intersection()\")\n",
    "conjunto1 = {'🍔','🍟', '🥤'}\n",
    "conjunto2 = {'🍕','🍨','🥤'}\n",
    "print (conjunto1, conjunto2)\n",
    "interseccion = conjunto1.intersection(conjunto2)\n",
    "print(interseccion)"
   ]
  },
  {
   "cell_type": "markdown",
   "id": "5347fbfb",
   "metadata": {},
   "source": [
    "**difference(conjunto) recibe un conjunto y retorna la diferencia de ambos conjuntos**\n",
    "\n",
    "Los que están en el 1er conjunto pero no en el 2do"
   ]
  },
  {
   "cell_type": "code",
   "execution_count": 11,
   "id": "259e9f0f",
   "metadata": {},
   "outputs": [
    {
     "name": "stdout",
     "output_type": "stream",
     "text": [
      "Método difference()\n",
      "1: {'🍟', '🥤', '🍔'} 2: {'🍨', '🥤', '🍕'}\n",
      "1 y 2: {'🍟', '🍔'}\n",
      "2 y 1: {'🍨', '🍕'}\n"
     ]
    }
   ],
   "source": [
    "print (\"Método difference()\")\n",
    "conjunto1 = {'🍔','🍟', '🥤'}\n",
    "conjunto2 = {'🍕','🍨','🥤'}\n",
    "print (\"1:\",conjunto1, \"2:\",conjunto2)\n",
    "diferencia = conjunto1.difference(conjunto2)\n",
    "print(\"1 y 2:\",diferencia)\n",
    "diferencia = conjunto2.difference(conjunto1)\n",
    "print(\"2 y 1:\",diferencia)"
   ]
  },
  {
   "cell_type": "markdown",
   "id": "fb50e99e",
   "metadata": {},
   "source": [
    "**symmetric_difference(conjunto) recibe un conjunto y retorna la diferencia simétrica de ambos**"
   ]
  },
  {
   "cell_type": "code",
   "execution_count": 12,
   "id": "14ff514f",
   "metadata": {},
   "outputs": [
    {
     "name": "stdout",
     "output_type": "stream",
     "text": [
      "Método symmetric_difference()\n",
      "{'🍟', '🥤', '🍔'} {'🍨', '🥤', '🍕'}\n",
      "{'🍨', '🍕', '🍟', '🍔'}\n"
     ]
    }
   ],
   "source": [
    "print (\"Método symmetric_difference()\")\n",
    "conjunto1 = {'🍔','🍟', '🥤'}\n",
    "conjunto2 = {'🍕','🍨','🥤'}\n",
    "print (conjunto1, conjunto2)\n",
    "diferencia_simetrica = conjunto1.symmetric_difference(conjunto2)\n",
    "print(diferencia_simetrica)"
   ]
  },
  {
   "cell_type": "markdown",
   "id": "dfe32027",
   "metadata": {},
   "source": [
    "**Métodos de asignación con operaciones**\n",
    "\n",
    "Permiten realizar operaciones con conjuntos y asignar el resultado al conjunto inicial\n",
    "\n",
    "- intersection_update() : Intersección\n",
    "- difference_update() : Diferencia\n",
    "- symmetric_difference_update() : Diferencia simétrica"
   ]
  },
  {
   "cell_type": "code",
   "execution_count": 13,
   "id": "2abed0a7",
   "metadata": {},
   "outputs": [
    {
     "name": "stdout",
     "output_type": "stream",
     "text": [
      "Método intersection_update()\n",
      "{'🍟', '🥤', '🍔'} {'🍨', '🥤', '🍕'}\n",
      "{'🥤'}\n",
      "Método difference_update()\n",
      "1: {'🍟', '🥤', '🍔'} 2: {'🍨', '🥤', '🍕'}\n",
      "1: {'🍟', '🍔'} 2: {'🍨', '🥤', '🍕'}\n",
      "Método symmetric_difference_update()\n",
      "{'🍟', '🥤', '🍔'} {'🍨', '🥤', '🍕'}\n",
      "{'🍨', '🍕', '🍟', '🍔'}\n"
     ]
    }
   ],
   "source": [
    "#intersection_update(conjunto)\n",
    "print (\"Método intersection_update()\")\n",
    "conjunto1 = {'🍔','🍟', '🥤'}\n",
    "conjunto2 = {'🍕','🍨','🥤'}\n",
    "print (conjunto1, conjunto2)\n",
    "conjunto1.intersection_update(conjunto2)\n",
    "print(conjunto1)\n",
    "\n",
    "#difference_update(conjunto) \n",
    "print (\"Método difference_update()\")\n",
    "conjunto1 = {'🍔','🍟', '🥤'}\n",
    "conjunto2 = {'🍕','🍨','🥤'}\n",
    "print (\"1:\",conjunto1, \"2:\",conjunto2)\n",
    "conjunto1.difference_update(conjunto2)\n",
    "print (\"1:\",conjunto1, \"2:\",conjunto2)\n",
    "\n",
    "#symmetric_difference_update(conjunto)\n",
    "print (\"Método symmetric_difference_update()\")\n",
    "conjunto1 = {'🍔','🍟', '🥤'}\n",
    "conjunto2 = {'🍕','🍨','🥤'}\n",
    "print (conjunto1, conjunto2)\n",
    "conjunto1.symmetric_difference_update(conjunto2)\n",
    "print(conjunto1)\n",
    "\n"
   ]
  },
  {
   "cell_type": "markdown",
   "id": "be17236c",
   "metadata": {},
   "source": [
    "**Métodos de búsqueda**\n",
    "\n",
    "Los métodos de búsqueda permiten buscar elementos en un conjunto\n",
    "\n",
    "- issubset() : Subconjunto\n",
    "- issuperset() : Superconjunto\n",
    "- isdisjoint() : Disjunto"
   ]
  },
  {
   "cell_type": "code",
   "execution_count": 15,
   "id": "5bbcd1ae",
   "metadata": {},
   "outputs": [
    {
     "name": "stdout",
     "output_type": "stream",
     "text": [
      "Método issubset()\n",
      "{'🍟', '🥤', '🍔'} {'🍨', '🥤', '🍕'} {'🍟', '🍔'}\n",
      "False\n",
      "True\n",
      "Método issuperset()\n",
      "{'🍟', '🥤', '🍔'} {'🍨', '🥤', '🍕'} {'🍟', '🍔'}\n",
      "False\n",
      "True\n",
      "Método isdisjoint()\n",
      "{'🍟', '🥤', '🍔'} {'🍨', '🍕'} {'🍟', '🍔'}\n",
      "True\n",
      "False\n"
     ]
    }
   ],
   "source": [
    "#issubset(conjunto) \n",
    "print (\"Método issubset()\")\n",
    "conjunto1 = {'🍔','🍟', '🥤'}\n",
    "conjunto2 = {'🍕','🍨','🥤'}\n",
    "conjunto3 = {'🍔','🍟'}\n",
    "print (conjunto1, conjunto2,conjunto3)\n",
    "# ¿El conjunto1 es subconjunto del conjunto2?\n",
    "print(conjunto1.issubset(conjunto2))\n",
    "# ¿El conjunto3 es subconjunto del conjunto1?\n",
    "print(conjunto3.issubset(conjunto1))\n",
    "\n",
    "#issuperset(conjunto)\n",
    "print (\"Método issuperset()\")\n",
    "conjunto1 = {'🍔','🍟', '🥤'}\n",
    "conjunto2 = {'🍕','🍨','🥤'}\n",
    "conjunto3 = {'🍔','🍟'}\n",
    "print (conjunto1, conjunto2,conjunto3)\n",
    "# ¿El conjunto1 es superconjunto del conjunto2?\n",
    "print(conjunto1.issuperset(conjunto2)) # C1 contiene a C2?\n",
    "# ¿El conjunto1 es superconjunto del conjunto2?\n",
    "print(conjunto1.issuperset(conjunto3)) \n",
    "\n",
    "#isdisjoint(conjunto)\n",
    "print (\"Método isdisjoint()\")\n",
    "conjunto1 = {'🍔','🍟', '🥤'}\n",
    "conjunto2 = {'🍕','🍨'}\n",
    "conjunto3 = {'🍔','🍟'}\n",
    "print (conjunto1, conjunto2,conjunto3)\n",
    "# ¿El conjunto1 no tiene elementos en común con el conjunto2?\n",
    "print(conjunto1.isdisjoint(conjunto2))\n",
    "# ¿El conjunto1 no tiene elementos en común con el conjunto3?\n",
    "print(conjunto1.isdisjoint(conjunto3))\n",
    "\n"
   ]
  },
  {
   "cell_type": "markdown",
   "id": "c7e50034",
   "metadata": {},
   "source": [
    "**Métodos de copia**\n",
    "\n",
    "Los métodos de copia permiten copiar un conjunto\n",
    "- copy()"
   ]
  },
  {
   "cell_type": "code",
   "execution_count": 16,
   "id": "7de41828",
   "metadata": {},
   "outputs": [
    {
     "name": "stdout",
     "output_type": "stream",
     "text": [
      "Asignación por referencia\n",
      "{'🍕', '🌭', '🍔', '🍟'}\n",
      "{'🌭', '🍕', '🥗', '🍟', '🍔'}\n",
      "{'🌭', '🍕', '🥗', '🍟', '🍔'}\n",
      "Método copy()\n",
      "{'🍕', '🌭', '🍔', '🍟'}\n",
      "{'🍕', '🌭', '🍔', '🍟'}\n",
      "{'🌭', '🍕', '🥗', '🍟', '🍔'}\n"
     ]
    }
   ],
   "source": [
    "#NO se crea una copia del conjunto sino una referencia al conjunto original\n",
    "print (\"Asignación por referencia\")\n",
    "conjunto = {'🍕','🍔','🍟','🌭'}\n",
    "print (conjunto)\n",
    "copia = conjunto\n",
    "copia.add('🥗')\n",
    "print(conjunto)\n",
    "print(copia)\n",
    "\n",
    "#método copy()\n",
    "print (\"Método copy()\")\n",
    "conjunto = {'🍕','🍔','🍟','🌭'}\n",
    "print (conjunto)\n",
    "copia = conjunto.copy()\n",
    "copia.add('🥗')\n",
    "print(conjunto)\n",
    "print(copia)\n",
    "\n"
   ]
  },
  {
   "cell_type": "markdown",
   "id": "a5dab4b6",
   "metadata": {},
   "source": [
    "**Funciones con conjuntos**\n",
    "\n",
    "Los conjuntos interactúan con funciones propias de python que permiten secuencias\n",
    "- len()\n",
    "- max()\n",
    "- min()\n",
    "- sum()"
   ]
  },
  {
   "cell_type": "code",
   "execution_count": 17,
   "id": "aeece14a",
   "metadata": {},
   "outputs": [
    {
     "name": "stdout",
     "output_type": "stream",
     "text": [
      "Función len()\n",
      "{'🍕', '🌭', '🍔', '🍟'}\n",
      "4\n",
      "Función max()\n",
      "{1, 2, 3, 4, 5}\n",
      "5\n",
      "{'🍕', '🌭', '🍔', '🍟'}\n",
      "🍟\n",
      "Función min()\n",
      "{1, 2, 3, 4, 5}\n",
      "1\n",
      "{'🍨', '🍟', '🍕', '🍔'}\n",
      "🍔\n",
      "Función sum()\n",
      "{1, 2, 3, 4, 5}\n",
      "15\n"
     ]
    }
   ],
   "source": [
    "#len(conjunto) retorna la cantidad de elementos del conjunto\n",
    "print (\"Función len()\")\n",
    "conjunto = {'🍕','🍔','🍟','🌭'}\n",
    "print (conjunto)\n",
    "print(len(conjunto))\n",
    "\n",
    "#max(conjunto)\n",
    "print (\"Función max()\")\n",
    "conjunto = {1, 2, 3, 4, 5}\n",
    "print (conjunto)\n",
    "print (max(conjunto))\n",
    "conjunto = {'🍕','🍔','🍟','🌭'}\n",
    "print (conjunto)\n",
    "print(max(conjunto))\n",
    "\n",
    "#min(conjunto)\n",
    "print (\"Función min()\")\n",
    "conjunto = {1, 2, 3, 4, 5}\n",
    "print (conjunto)\n",
    "print (min(conjunto))\n",
    "conjunto = {'🍨','🍔','🍟','🍕'}\n",
    "print (conjunto)\n",
    "print(min(conjunto))\n",
    "\n",
    "#sum(conjunto)\n",
    "print (\"Función sum()\")\n",
    "conjunto = {1, 2, 3, 4, 5}\n",
    "print (conjunto)\n",
    "print (sum(conjunto))\n",
    "\n"
   ]
  },
  {
   "cell_type": "markdown",
   "id": "48861a13",
   "metadata": {},
   "source": [
    "**Operadores con conjuntos**\n",
    "\n",
    "Los conjuntos soportan operadores que permiten realizar operaciones\n",
    "- Operadores de adición\n",
    "- Operadores de comparación\n",
    "- Operadores para operaciones con conjuntos\n",
    "- Operadores para asignación con operaciones"
   ]
  },
  {
   "cell_type": "code",
   "execution_count": 18,
   "id": "52ebd60c",
   "metadata": {},
   "outputs": [
    {
     "name": "stdout",
     "output_type": "stream",
     "text": [
      "Operador |=\n",
      "{'🍟', '🥤', '🍔'} {'🍨', '🍕'}\n",
      "{'🍨', '🍕', '🥤', '🍟', '🍔'}\n"
     ]
    }
   ],
   "source": [
    "#ADICION |= recibe un conjunto y agrega al conjunto inicial los elementos del conjunto recibido\n",
    "print (\"Operador |=\")\n",
    "conjunto1 = {'🍔','🍟', '🥤'}\n",
    "conjunto2 = {'🍕','🍨'}\n",
    "print (conjunto1, conjunto2)\n",
    "conjunto1 |= conjunto2\n",
    "print(conjunto1)\n",
    "\n"
   ]
  },
  {
   "cell_type": "markdown",
   "id": "8ad97a2c",
   "metadata": {},
   "source": [
    "**Operadores de comparación**\n",
    "\n",
    "Los operadores de comparación permiten comparar conjuntos\n",
    "- == : Igualdad\n",
    "- != : Desigualdad\n",
    "- < : Es subconjunto y no igual\n",
    "- > : Es superconjunto y no igual\n",
    "- <= : Es subconjunto o igual\n",
    "- >= : Es superconjunto o igual"
   ]
  },
  {
   "cell_type": "code",
   "execution_count": 19,
   "id": "5d5e05b8",
   "metadata": {},
   "outputs": [
    {
     "name": "stdout",
     "output_type": "stream",
     "text": [
      "Operador ==\n",
      "{'🍟', '🥤', '🍔'} {'🍟', '🥤', '🍔'} {'🍨', '🍕'}\n",
      "True\n",
      "False\n",
      "Operador !=\n",
      "{'🍟', '🥤', '🍔'} {'🍟', '🥤', '🍔'} {'🍨', '🍕'}\n",
      "False\n",
      "True\n",
      "Operador <\n",
      "{'🍟', '🍔'} {'🍟', '🥤', '🍔'} {'🍨', '🍕'}\n",
      "True\n",
      "False\n",
      "Operador >\n",
      "{'🍔', '🍟', '🥤', '🍕'} {'🍟', '🥤', '🍔'} {'🍨', '🍕'}\n",
      "True\n",
      "False\n",
      "Operador <=\n",
      "{'🍟', '🍔'} {'🍟', '🍔'} {'🍨', '🍕'}\n",
      "True\n",
      "False\n",
      "Operador >=\n",
      "{'🍟', '🍔'} {'🍟', '🍔'} {'🍨', '🍕'}\n",
      "True\n",
      "False\n"
     ]
    }
   ],
   "source": [
    "# == compara si dos conjuntos son iguales\n",
    "print (\"Operador ==\")\n",
    "conjunto1 = {'🍔','🍟', '🥤'}\n",
    "conjunto2 = {'🍔','🍟', '🥤'}\n",
    "conjunto3 = {'🍕','🍨'}\n",
    "print (conjunto1, conjunto2, conjunto3)\n",
    "print(conjunto1 == conjunto2)\n",
    "print(conjunto1 == conjunto3)\n",
    "\n",
    "#!= compara si dos conjuntos son diferentes\n",
    "print (\"Operador !=\")\n",
    "conjunto1 = {'🍔','🍟', '🥤'}\n",
    "conjunto2 = {'🍔','🍟', '🥤'}\n",
    "conjunto3 = {'🍕','🍨'}\n",
    "print (conjunto1, conjunto2, conjunto3)\n",
    "print(conjunto1 != conjunto2)\n",
    "print(conjunto1 != conjunto3)\n",
    "\n",
    "#< compara si un conjunto es subconjunto y no igual a otro\n",
    "\n",
    "print (\"Operador <\")\n",
    "conjunto1 = {'🍔','🍟'}\n",
    "conjunto2 = {'🍔','🍟', '🥤'}\n",
    "conjunto3 = {'🍕','🍨'}\n",
    "print (conjunto1, conjunto2, conjunto3)\n",
    "print(conjunto1 < conjunto2)\n",
    "print(conjunto1 < conjunto3)\n",
    "\n",
    "#> compara si un conjunto es superconjunto y no igual a otro\n",
    "print (\"Operador >\")\n",
    "conjunto1 = {'🍔','🍟','🥤','🍕'}\n",
    "conjunto2 = {'🍔','🍟', '🥤'}\n",
    "conjunto3 = {'🍕','🍨'}\n",
    "print (conjunto1, conjunto2, conjunto3)\n",
    "print(conjunto1 > conjunto2)\n",
    "print(conjunto1 > conjunto3)\n",
    "\n",
    "#<= compara si un conjunto es subconjunto o igual a otro\n",
    "print (\"Operador <=\")\n",
    "conjunto1 = {'🍔','🍟'}\n",
    "conjunto2 = {'🍔','🍟'}\n",
    "conjunto3 = {'🍕','🍨'}\n",
    "print (conjunto1, conjunto2, conjunto3)\n",
    "print(conjunto1 <= conjunto2)\n",
    "print(conjunto1 <= conjunto3)\n",
    "\n",
    "#>= compara si un conjunto es superconjunto o igual a otro\n",
    "print (\"Operador >=\")\n",
    "conjunto1 = {'🍔','🍟'}\n",
    "conjunto2 = {'🍔','🍟'}\n",
    "conjunto3 = {'🍕','🍨'}\n",
    "print (conjunto1, conjunto2, conjunto3)\n",
    "print(conjunto1 >= conjunto2)\n",
    "print(conjunto1 >= conjunto3)\n",
    "\n",
    "\n"
   ]
  },
  {
   "cell_type": "markdown",
   "id": "446c510b",
   "metadata": {},
   "source": [
    "**peradores para operaciones con conjuntos**\n",
    "\n",
    "Los operadores para operaciones con conjuntos permiten realizar operaciones con conjuntos\n",
    "- | : Unión\n",
    "- & : Intersección\n",
    "- - : Diferencia\n",
    "- ^ : Diferencia simétrica"
   ]
  },
  {
   "cell_type": "code",
   "execution_count": 20,
   "id": "2178d960",
   "metadata": {},
   "outputs": [
    {
     "name": "stdout",
     "output_type": "stream",
     "text": [
      "Operador |\n",
      "{'🍟', '🥤', '🍔'} {'🍨', '🥤', '🍕'}\n",
      "{'🍨', '🍕', '🥤', '🍟', '🍔'}\n",
      "Operador &\n",
      "{'🍟', '🥤', '🍔'} {'🍨', '🥤', '🍕'}\n",
      "{'🥤'}\n",
      "Operador -\n",
      "1: {'🍟', '🥤', '🍔'} 2: {'🍨', '🥤', '🍕'}\n",
      "1 - 2: {'🍟', '🍔'}\n",
      "2 - 1: {'🍨', '🍕'}\n",
      "Operador ^\n",
      "{'🍟', '🥤', '🍔'} {'🍨', '🥤', '🍕'}\n",
      "{'🍨', '🍕', '🍟', '🍔'}\n"
     ]
    }
   ],
   "source": [
    "#| retorna la unión de dos conjuntos\n",
    "print (\"Operador |\")\n",
    "conjunto1 = {'🍔','🍟', '🥤'}\n",
    "conjunto2 = {'🍕','🍨','🥤'}\n",
    "print (conjunto1, conjunto2)\n",
    "union = conjunto1 | conjunto2\n",
    "print(union)\n",
    "\n",
    "#& retorna la intersección de dos conjuntos\n",
    "print (\"Operador &\")\n",
    "conjunto1 = {'🍔','🍟', '🥤'}\n",
    "conjunto2 = {'🍕','🍨','🥤'}\n",
    "print (conjunto1, conjunto2)\n",
    "interseccion = conjunto1 & conjunto2\n",
    "print(interseccion)\n",
    "\n",
    "#- retorna la diferencia de dos conjuntos\n",
    "print (\"Operador -\")\n",
    "conjunto1 = {'🍔','🍟', '🥤'}\n",
    "conjunto2 = {'🍕','🍨','🥤'}\n",
    "print (\"1:\",conjunto1, \"2:\",conjunto2)\n",
    "diferencia = conjunto1 - conjunto2\n",
    "print(\"1 - 2:\",diferencia)\n",
    "diferencia = conjunto2 - conjunto1\n",
    "print(\"2 - 1:\",diferencia)\n",
    "\n",
    "#^ retorna la diferencia simétrica de dos conjuntos\n",
    "print (\"Operador ^\")\n",
    "conjunto1 = {'🍔','🍟', '🥤'}\n",
    "conjunto2 = {'🍕','🍨','🥤'}\n",
    "print (conjunto1, conjunto2)\n",
    "diferencia_simetrica = conjunto1 ^ conjunto2\n",
    "print(diferencia_simetrica)\n",
    "\n",
    "\n",
    "\n"
   ]
  },
  {
   "cell_type": "markdown",
   "id": "211fda40",
   "metadata": {},
   "source": [
    "**Operadores para asignación con operaciones**\n",
    "\n",
    "Los operadores para asignación con operaciones permiten realizar operaciones con conjuntos y asignar el resultado al conjunto inicial\n",
    "- |= : Unión\n",
    "- &= : Intersección\n",
    "- -= : Diferencia\n",
    "- ^= : Diferencia simétrica"
   ]
  },
  {
   "cell_type": "code",
   "execution_count": 21,
   "id": "70d07b45",
   "metadata": {},
   "outputs": [
    {
     "name": "stdout",
     "output_type": "stream",
     "text": [
      "Operador |= Unión\n",
      "{'🍟', '🥤', '🍔'} {'🍨', '🥤', '🍕'}\n",
      "{'🍨', '🍕', '🥤', '🍟', '🍔'}\n",
      "Operador &= Intersección\n",
      "{'🍟', '🥤', '🍔'} {'🍨', '🥤', '🍕'}\n",
      "{'🥤'}\n",
      "Operador -= Diferencia\n",
      "1: {'🍟', '🥤', '🍔'} 2: {'🍨', '🥤', '🍕'}\n",
      "1 - 2: {'🍟', '🍔'}\n",
      "2 - 1: {'🍨', '🍕'}\n",
      "Operador ^= Diferencia simétrica\n",
      "{'🍟', '🥤', '🍔'} {'🍨', '🥤', '🍕'}\n",
      "{'🍨', '🍕', '🍟', '🍔'}\n"
     ]
    }
   ],
   "source": [
    "#|= recibe un conjunto y agrega al conjunto inicial los elementos del conjunto recibido\n",
    "print (\"Operador |= Unión\")\n",
    "conjunto1 = {'🍔','🍟', '🥤'}\n",
    "conjunto2 = {'🍕','🍨','🥤'}\n",
    "print (conjunto1, conjunto2)\n",
    "conjunto1 |= conjunto2\n",
    "print(conjunto1)\n",
    "\n",
    "#&= recibe un conjunto y asigna al conjunto inicial la intersección de ambos conjuntos\n",
    "print (\"Operador &= Intersección\")\n",
    "conjunto1 = {'🍔','🍟', '🥤'}\n",
    "conjunto2 = {'🍕','🍨','🥤'}\n",
    "print (conjunto1, conjunto2)\n",
    "conjunto1 &= conjunto2\n",
    "print(conjunto1)\n",
    "\n",
    "#-= recibe un conjunto y asigna al conjunto inicial la diferencia de ambos conjuntos\n",
    "print (\"Operador -= Diferencia\")\n",
    "conjunto1 = {'🍔','🍟', '🥤'}\n",
    "conjunto2 = {'🍕','🍨','🥤'}\n",
    "print (\"1:\",conjunto1, \"2:\",conjunto2)\n",
    "conjunto1 -= conjunto2\n",
    "print(\"1 - 2:\",conjunto1)\n",
    "conjunto1 = {'🍔','🍟', '🥤'}\n",
    "conjunto2 -= conjunto1\n",
    "print(\"2 - 1:\",conjunto2)\n",
    "\n",
    "\n",
    "#^= recibe un conjunto y asigna al conjunto inicial la diferencia simétrica de ambos conjuntos\n",
    "print (\"Operador ^= Diferencia simétrica\")\n",
    "conjunto1 = {'🍔','🍟', '🥤'}\n",
    "conjunto2 = {'🍕','🍨','🥤'}\n",
    "print (conjunto1, conjunto2)\n",
    "conjunto1 ^= conjunto2\n",
    "print(conjunto1)\n",
    "\n"
   ]
  },
  {
   "cell_type": "markdown",
   "id": "8186c28f",
   "metadata": {},
   "source": [
    "**Conjuntos inmutables**\n",
    "\n",
    "Los conjuntos inmutables son conjuntos que no pueden ser modificados después de su creación\n",
    "\n",
    "En python se declaran utilizando la función frozenset()"
   ]
  },
  {
   "cell_type": "code",
   "execution_count": 22,
   "id": "03c9885f",
   "metadata": {},
   "outputs": [
    {
     "ename": "SyntaxError",
     "evalue": "invalid syntax (1999638452.py, line 10)",
     "output_type": "error",
     "traceback": [
      "  \u001b[36mCell\u001b[39m\u001b[36m \u001b[39m\u001b[32mIn[22]\u001b[39m\u001b[32m, line 10\u001b[39m\n\u001b[31m    \u001b[39m\u001b[31mprint(conjunto |= {6}) # SyntaxError: invalid syntax\u001b[39m\n                   ^\n\u001b[31mSyntaxError\u001b[39m\u001b[31m:\u001b[39m invalid syntax\n"
     ]
    }
   ],
   "source": [
    "conjunto = frozenset({'🍔','🍕','🥗','🍟','🌭'})\n",
    "print(conjunto)\n",
    "print(type(conjunto))\n",
    "\n",
    "#Poseen los mismos métodos que los conjuntos mutables \n",
    "conjunto = frozenset({1, 2, 3, 4, 5})\n",
    "print(conjunto)\n",
    "print(conjunto.add(6)) # AttributeError: 'frozenset' object has no attribute 'add'\n",
    "print(conjunto.remove(1)) # AttributeError: 'frozenset' object has no attribute 'remove'\n",
    "print(conjunto |= {6}) # SyntaxError: invalid syntax"
   ]
  },
  {
   "cell_type": "markdown",
   "id": "ca3d1dd1",
   "metadata": {},
   "source": [
    "**Conjuntos anidados**\n",
    "\n",
    "Los conjuntos anidados son conjuntos que contienen otros conjuntos pero tienen que ser inmutables para ser anidados"
   ]
  },
  {
   "cell_type": "code",
   "execution_count": 24,
   "id": "2420eace",
   "metadata": {},
   "outputs": [
    {
     "name": "stdout",
     "output_type": "stream",
     "text": [
      "Conjunto de conjuntos\n",
      "{frozenset({'🍐', '🍈', '🍏'}), frozenset({'🍓', '🍅', '🍎'})}\n",
      "<class 'set'>\n",
      "Conjunto de conjuntos\n"
     ]
    },
    {
     "ename": "TypeError",
     "evalue": "unhashable type: 'set'",
     "output_type": "error",
     "traceback": [
      "\u001b[31m---------------------------------------------------------------------------\u001b[39m",
      "\u001b[31mTypeError\u001b[39m                                 Traceback (most recent call last)",
      "\u001b[36mCell\u001b[39m\u001b[36m \u001b[39m\u001b[32mIn[24]\u001b[39m\u001b[32m, line 9\u001b[39m\n\u001b[32m      6\u001b[39m \u001b[38;5;66;03m#Si se intenta anidar un conjunto mutable se lanza un error\u001b[39;00m\n\u001b[32m      8\u001b[39m \u001b[38;5;28mprint\u001b[39m (\u001b[33m\"\u001b[39m\u001b[33mConjunto de conjuntos\u001b[39m\u001b[33m\"\u001b[39m)\n\u001b[32m----> \u001b[39m\u001b[32m9\u001b[39m conjunto = {{\u001b[33m'\u001b[39m\u001b[33m🍅\u001b[39m\u001b[33m'\u001b[39m,\u001b[33m'\u001b[39m\u001b[33m🍓\u001b[39m\u001b[33m'\u001b[39m,\u001b[33m'\u001b[39m\u001b[33m🍎\u001b[39m\u001b[33m'\u001b[39m}, {\u001b[33m'\u001b[39m\u001b[33m🍈\u001b[39m\u001b[33m'\u001b[39m,\u001b[33m'\u001b[39m\u001b[33m🍐\u001b[39m\u001b[33m'\u001b[39m,\u001b[33m'\u001b[39m\u001b[33m🍏\u001b[39m\u001b[33m'\u001b[39m}} \u001b[38;5;66;03m#TypeError: unhashable type: 'set'\u001b[39;00m\n\u001b[32m     10\u001b[39m \u001b[38;5;28mprint\u001b[39m(conjunto)\n\u001b[32m     11\u001b[39m \u001b[38;5;28mprint\u001b[39m(\u001b[38;5;28mtype\u001b[39m(conjunto))\n",
      "\u001b[31mTypeError\u001b[39m: unhashable type: 'set'"
     ]
    }
   ],
   "source": [
    "print (\"Conjunto de conjuntos\")\n",
    "conjunto = {frozenset({'🍅','🍓','🍎'}), frozenset({'🍈','🍐','🍏'})}\n",
    "print(conjunto)\n",
    "print(type(conjunto))\n",
    "\n",
    "#Si se intenta anidar un conjunto mutable se lanza un error\n",
    "\n",
    "print (\"Conjunto de conjuntos\")\n",
    "conjunto = {{'🍅','🍓','🍎'}, {'🍈','🍐','🍏'}} #TypeError: unhashable type: 'set'\n",
    "print(conjunto)\n",
    "print(type(conjunto))"
   ]
  },
  {
   "attachments": {
    "image.png": {
     "image/png": "[encoded data removed]"
    }
   },
   "cell_type": "markdown",
   "id": "66115597",
   "metadata": {},
   "source": [
    "**FIN DE LA SESION 1O** 🐍❤️\n",
    "\n",
    "![image.png](attachment:image.png)\n",
    "\n"
   ]
  }
 ],
 "metadata": {
  "kernelspec": {
   "display_name": "Python 3",
   "language": "python",
   "name": "python3"
  },
  "language_info": {
   "codemirror_mode": {
    "name": "ipython",
    "version": 3
   },
   "file_extension": ".py",
   "mimetype": "text/x-python",
   "name": "python",
   "nbconvert_exporter": "python",
   "pygments_lexer": "ipython3",
   "version": "3.13.5"
  }
 },
 "nbformat": 4,
 "nbformat_minor": 5
}
