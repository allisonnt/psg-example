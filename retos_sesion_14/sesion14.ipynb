{
 "cells": [
  {
   "cell_type": "markdown",
   "id": "67152da5",
   "metadata": {},
   "source": [
    "# **Sesión 14**\n",
    "\n",
    "## Funciones Bloques de código\n",
    "\n",
    "*¿Qué es una función?*\n",
    "\n",
    "Una función es un bloque de código que realiza una tarea específica\n",
    "\n",
    "Se le asigna un nombre y se puede llamar en cualquier parte del programa\n",
    "\n",
    "Solo se ejecuta cuando se llama por su nombre\n",
    "\n",
    "Permite dividir un programa en bloques de código más pequeños\n",
    "\n",
    "Facilita la lectura y mantenimiento del código\n",
    "\n",
    "Permite reutilizar el código\n",
    "\n",
    "Hasta el momento hemos utilizado algunas funciones como\n",
    "\n",
    "- print()\n",
    "- input()\n",
    "- len()\n",
    "- max()\n",
    "- min()\n",
    "- sum()\n",
    "- range()\n",
    "- enumerate()\n",
    "\n",
    "También hemos utilizado funciones dentro de tipos y estructuras de datos con notación de punto\n",
    "\n",
    "- append()\n",
    "- remove()\n",
    "- sort()\n",
    "- upper()\n",
    "- lower()\n",
    "\n",
    "**¿Cómo se declara una función?** \n",
    "\n",
    "Para definir un bloque de código como función se utiliza la palabra reservada def\n",
    "\n",
    "- def nombre_funcion():\n",
    "-     print (\"Bloque de código\")\n",
    "- def es la palabra reservada\n",
    "- nombre_funcion es el nombre de la función\n",
    "- () son los paréntesis que pueden contener parámetros\n",
    "- : es el delimitador de inicio del bloque de código\n",
    "- print es el código a ejecutar\n",
    "- Posee un nivel de indentación\n",
    "\n",
    "Para devolver un valor se utiliza la palabra reservada return seguida del valor a devolver\n",
    "\n",
    "def nombre_funcion():\n",
    "    return \"Bloque de código\"\n",
    "\n",
    "**Funciones según PEP-8**\n",
    "\n",
    "- Los nombres de las funciones deben ser en minúsculas y separados por guiones bajos\n",
    "- Los nombres de las funciones deben ser descriptivos\n",
    "\n",
    "**Ejecución de una función**\n",
    "\n",
    "- Las funciones se deben definir antes de ser llamadas\n",
    "\n",
    "def nombre_funcion():\n",
    "    print (\"Bloque de código\")\n",
    " \n",
    "nombre_funcion()\n",
    "- Bloque de código\n",
    "- Se genera un error si se llama a una función que no ha sido definida\n",
    "\n",
    "nombre_funcion()\n",
    " \n",
    "def nombre_funcion():\n",
    "    print (\"Bloque de código\")\n",
    "NameError: name 'nombre_funcion' is not defined\n",
    "\n",
    "**Funciones sin argumentos y sin retorno**\n",
    "- No esta definido ningún parámetro\n",
    "- No recibe argumentos de entrada\n",
    "- No devuelve ningún valor"
   ]
  },
  {
   "cell_type": "code",
   "execution_count": 1,
   "id": "9b213b04",
   "metadata": {},
   "outputs": [
    {
     "name": "stdout",
     "output_type": "stream",
     "text": [
      "Bloque de código\n"
     ]
    }
   ],
   "source": [
    "def funcion():\n",
    "    print (\"Bloque de código\")\n",
    " \n",
    "funcion()"
   ]
  },
  {
   "cell_type": "code",
   "execution_count": 2,
   "id": "36cf35db",
   "metadata": {},
   "outputs": [
    {
     "name": "stdout",
     "output_type": "stream",
     "text": [
      "Ejemplo 1\n",
      "1. Definir función\n",
      "2. Llamar función\n",
      "[0, 2, 4, 6, 8, 10, 12, 14, 16, 18, 20]\n",
      "[0, 2, 4, 6, 8, 10, 12, 14, 16, 18, 20]\n"
     ]
    }
   ],
   "source": [
    "print (\"Ejemplo 1\")\n",
    "print (\"1. Definir función\")\n",
    "def imprimir_pares():\n",
    "    pares = [i for i in range(0, 21, 2)]\n",
    "    print (pares)\n",
    " \n",
    "print (\"2. Llamar función\")\n",
    "imprimir_pares()\n",
    "imprimir_pares()"
   ]
  },
  {
   "cell_type": "markdown",
   "id": "0dc7382e",
   "metadata": {},
   "source": [
    "**Funciones sin argumentos y con un retorno**\n",
    "\n",
    "- No esta definido ningún parámetro\n",
    "- No recibe argumentos de entrada\n",
    "- Devuelve un valor"
   ]
  },
  {
   "cell_type": "code",
   "execution_count": 3,
   "id": "04d42d54",
   "metadata": {},
   "outputs": [
    {
     "name": "stdout",
     "output_type": "stream",
     "text": [
      "Bloque de código\n"
     ]
    }
   ],
   "source": [
    "def funcion():\n",
    "    return \"Bloque de código\"\n",
    " \n",
    "resultado = funcion()\n",
    "print (resultado)"
   ]
  },
  {
   "cell_type": "code",
   "execution_count": 4,
   "id": "da3f1355",
   "metadata": {},
   "outputs": [
    {
     "name": "stdout",
     "output_type": "stream",
     "text": [
      "Ejemplo 2\n",
      "1. Definir función\n",
      "2. Llamar función\n",
      "Hello\n"
     ]
    }
   ],
   "source": [
    "print (\"Ejemplo 2\")\n",
    "print (\"1. Definir función\")\n",
    "def saludo():\n",
    "    saludos = {\"Hola\", \"Hello\", \"Bonjour\", \"Ciao\"}\n",
    "    return saludos.pop()\n",
    " \n",
    "print (\"2. Llamar función\")\n",
    "resultado = saludo()\n",
    "print (resultado)"
   ]
  },
  {
   "cell_type": "markdown",
   "id": "f64ddf73",
   "metadata": {},
   "source": [
    "**Funciones sin argumentos y con múltiple retorno**\n",
    "\n",
    "- No recibe argumentos de entrada\n",
    "- Devuelve múltiples valores\n",
    "- Devuelve una tupla en Python"
   ]
  },
  {
   "cell_type": "code",
   "execution_count": 5,
   "id": "48fb4c06",
   "metadata": {},
   "outputs": [
    {
     "name": "stdout",
     "output_type": "stream",
     "text": [
      "('Bloque', 'de', 'código')\n"
     ]
    }
   ],
   "source": [
    "def funcion():\n",
    "    return \"Bloque\", \"de\", \"código\"\n",
    "\n",
    "resultado = funcion()\n",
    "print (resultado)"
   ]
  },
  {
   "cell_type": "code",
   "execution_count": 6,
   "id": "63005816",
   "metadata": {},
   "outputs": [
    {
     "name": "stdout",
     "output_type": "stream",
     "text": [
      "Ejemplo 3\n",
      "1. Definir función\n",
      "2. Llamar función\n",
      "('Holi', 'Hello')\n"
     ]
    }
   ],
   "source": [
    "print (\"Ejemplo 3\")\n",
    "print (\"1. Definir función\")\n",
    "def saludo():\n",
    "    saludos_es = {\"Hola\", \"Holi\", \"Buenos días\"}\n",
    "    saludos_en = {\"Hello\", \"Hi\", \"Good morning\"}\n",
    "    return saludos_es.pop(), saludos_en.pop()\n",
    " \n",
    "print (\"2. Llamar función\")\n",
    "resultado = saludo()\n",
    "print (resultado)"
   ]
  },
  {
   "cell_type": "markdown",
   "id": "30bbe269",
   "metadata": {},
   "source": [
    "**Funciones con un argumento y sin retorno**\n",
    "\n",
    "- Tiene definido un parámetro de entrada\n",
    "- Recibe un argumento de entrada\n",
    "- No devuelve ningún valor"
   ]
  },
  {
   "cell_type": "code",
   "execution_count": 7,
   "id": "d410f953",
   "metadata": {},
   "outputs": [
    {
     "name": "stdout",
     "output_type": "stream",
     "text": [
      "Bloque de código\n"
     ]
    }
   ],
   "source": [
    "def funcion(parametro):\n",
    "    print (parametro)\n",
    "\n",
    "funcion(\"Bloque de código\") #1 Argumento"
   ]
  },
  {
   "cell_type": "code",
   "execution_count": 8,
   "id": "4f02035a",
   "metadata": {},
   "outputs": [
    {
     "name": "stdout",
     "output_type": "stream",
     "text": [
      "Ejemplo 4\n",
      "1. Definir función\n",
      "2. Llamar función\n",
      "25\n",
      "100\n"
     ]
    }
   ],
   "source": [
    "print (\"Ejemplo 4\")\n",
    "print (\"1. Definir función\")\n",
    "def cuadrado(numero):\n",
    "    print (numero**2)\n",
    " \n",
    "print (\"2. Llamar función\")\n",
    "cuadrado(5)\n",
    "cuadrado(10)"
   ]
  },
  {
   "cell_type": "markdown",
   "id": "b14f8c74",
   "metadata": {},
   "source": [
    "**Funciones con múltiples argumentos y sin retorno**\n",
    "- Tiene definido múltiples parámetros de entrada\n",
    "- Recibe múltiples argumentos de entrada separados por coma\n",
    "- No devuelve ningún valor\n",
    "- Los argumentos son variables de la función\n",
    "- El orden de los argumentos debe coincidir con los parámetros"
   ]
  },
  {
   "cell_type": "code",
   "execution_count": 9,
   "id": "7ca020e6",
   "metadata": {},
   "outputs": [
    {
     "name": "stdout",
     "output_type": "stream",
     "text": [
      "Ejemplo 5\n",
      "1. Definir función\n",
      "2. Llamar función\n",
      "✨🎉✨🎉✨🎉✨🎉✨🎉✨🎉✨🎉✨🎉✨🎉✨🎉\n"
     ]
    }
   ],
   "source": [
    "print (\"Ejemplo 5\")\n",
    "print (\"1. Definir función\")\n",
    "def repetir(cadena, veces):\n",
    "    print (cadena*veces)\n",
    " \n",
    "print (\"2. Llamar función\")\n",
    "repetir(\"✨🎉\", 10)"
   ]
  },
  {
   "cell_type": "markdown",
   "id": "7794a428",
   "metadata": {},
   "source": [
    "**Funciones con múltiples argumentos y con un retorno**\n",
    "- Tiene definido múltiples parámetros de entrada\n",
    "- Recibe múltiples argumentos de entrada separados por coma\n",
    "- Devuelve un valor\n",
    "- El orden de los argumentos debe coincidir con los parámetros"
   ]
  },
  {
   "cell_type": "code",
   "execution_count": 10,
   "id": "743e6c68",
   "metadata": {},
   "outputs": [
    {
     "name": "stdout",
     "output_type": "stream",
     "text": [
      "Ejemplo 6\n",
      "1. Definir función\n",
      "2. Llamar función\n",
      "[15, 5, 50, 2.0]\n"
     ]
    }
   ],
   "source": [
    "print (\"Ejemplo 6\")\n",
    "print (\"1. Definir función\")\n",
    "def operaciones(numero1, numero2):\n",
    "    suma = numero1 + numero2\n",
    "    resta = numero1 - numero2\n",
    "    multiplicacion = numero1 * numero2\n",
    "    division = numero1 / numero2\n",
    "    return [suma, resta, multiplicacion, division]\n",
    " \n",
    "print (\"2. Llamar función\")\n",
    "resultado = operaciones(10, 5)\n",
    "print (resultado)"
   ]
  },
  {
   "cell_type": "markdown",
   "id": "0e8a3cca",
   "metadata": {},
   "source": [
    "**Funciones con múltiples argumentos y con múltiple retorno**\n",
    "- Tiene definido múltiples parámetros de entrada\n",
    "- Recibe múltiples argumentos de entrada separados por coma\n",
    "- Devuelve múltiples valores\n",
    "- Devuelve una tupla en Python"
   ]
  },
  {
   "cell_type": "code",
   "execution_count": 11,
   "id": "be12a2a2",
   "metadata": {},
   "outputs": [
    {
     "name": "stdout",
     "output_type": "stream",
     "text": [
      "Ejemplo 7\n",
      "1. Definir función\n",
      "2. Llamar función\n",
      "15 5 50 2.0\n"
     ]
    }
   ],
   "source": [
    "print (\"Ejemplo 7\")\n",
    "print (\"1. Definir función\")\n",
    "def operaciones(numero1, numero2):\n",
    "    suma = numero1 + numero2\n",
    "    resta = numero1 - numero2\n",
    "    multiplicacion = numero1 * numero2\n",
    "    division = numero1 / numero2\n",
    "    return suma, resta, multiplicacion, division\n",
    " \n",
    "print (\"2. Llamar función\")\n",
    "suma, resta, multiplicacion, division = operaciones(10, 5)\n",
    "print (suma, resta, multiplicacion, division)"
   ]
  },
  {
   "cell_type": "markdown",
   "id": "8976ff71",
   "metadata": {},
   "source": [
    "**Variables globales y locales**\n",
    "- Las variables globales son accesibles desde cualquier parte del programa\n",
    "- Las variables locales son accesibles solo dentro de un bloque de código como una función\n",
    "- Si hay una variable local y una global con el mismo nombre, la variable local tendrá prioridad donde está definida"
   ]
  },
  {
   "cell_type": "code",
   "execution_count": 12,
   "id": "fcc93008",
   "metadata": {},
   "outputs": [
    {
     "name": "stdout",
     "output_type": "stream",
     "text": [
      "0. Variable global\n",
      "1. Variable local\n",
      "2. Variable global\n"
     ]
    }
   ],
   "source": [
    "variable = \"Variable global\"\n",
    "print ('0.',variable)\n",
    "\n",
    "def funcion():\n",
    "    variable = \"Variable local\"\n",
    "    print ('1.',variable)\n",
    "\n",
    "funcion()\n",
    "print ('2.',variable)"
   ]
  },
  {
   "cell_type": "code",
   "execution_count": 13,
   "id": "26d6a6ae",
   "metadata": {},
   "outputs": [
    {
     "name": "stdout",
     "output_type": "stream",
     "text": [
      "(30, 5)\n"
     ]
    }
   ],
   "source": [
    "numeros = [10, 5, 20, 15, 25, 30] #Global\n",
    "\n",
    "def mayor_menor(): #No recibe argumentos\n",
    "    mayor = max(numeros) #Local\n",
    "    menor = min(numeros) #Local\n",
    "    return mayor, menor #Devuelve dos valores\n",
    "\n",
    "resultado = mayor_menor()\n",
    "print (resultado)"
   ]
  },
  {
   "cell_type": "markdown",
   "id": "5d10e17c",
   "metadata": {},
   "source": [
    "**Args y Kwargs**\n",
    "- *args es una lista de parámetros sin clave\n",
    "- **kwargs es un diccionario de parámetros con clave"
   ]
  },
  {
   "cell_type": "code",
   "execution_count": 14,
   "id": "825615d8",
   "metadata": {},
   "outputs": [
    {
     "name": "stdout",
     "output_type": "stream",
     "text": [
      "Ejemplo 9\n",
      "1. Definir función\n",
      "2. Llamar función\n",
      "🍎🍌🍍🍎🍌🍍🍎🍌🍍\n"
     ]
    }
   ],
   "source": [
    "print (\"Ejemplo 9\")\n",
    "print (\"1. Definir función\")\n",
    "def concatenar(numero, *cadenas):\n",
    "    concatenado = \"\"\n",
    "    for cadena in cadenas:\n",
    "        concatenado += cadena\n",
    "    return concatenado*numero\n",
    " \n",
    "print (\"2. Llamar función\")\n",
    "resultado = concatenar(3, \"🍎\", \"🍌\", \"🍍\")\n",
    "print (resultado)"
   ]
  },
  {
   "cell_type": "markdown",
   "id": "43e67ccd",
   "metadata": {},
   "source": [
    "**Kwargs**\n",
    "- Los argumentos utilizando **kwargs son enviados como un diccionario\n",
    "- Los **kwargs se escriben después de los parámetros de la función\n",
    "- Se utiliza cuando no se sabe la cantidad de argumentos que se enviarán con clave\n",
    "- Pueden ser iterados\n",
    "- Se accede a los valores con la clave del diccionario"
   ]
  },
  {
   "cell_type": "code",
   "execution_count": 15,
   "id": "aefb515e",
   "metadata": {},
   "outputs": [
    {
     "name": "stdout",
     "output_type": "stream",
     "text": [
      "Ejemplo 10\n",
      "1. Definir función\n",
      "2. Llamar función\n",
      "Nombre: JHON\n",
      "Apellido: DOE\n",
      "Edad: 20\n",
      "Boliviano: TRUE\n",
      "\n"
     ]
    }
   ],
   "source": [
    "print (\"Ejemplo 10\")\n",
    "print (\"1. Definir función\")\n",
    "def datos_persona(**datos):\n",
    "    mensaje = \"\"\n",
    "    for clave, valor in datos.items():\n",
    "        mensaje += f\"{str(clave).title()}: {str(valor).upper()}\\n\"\n",
    "    return mensaje\n",
    "print (\"2. Llamar función\")\n",
    "resultado = datos_persona(nombre=\"Jhon\", apellido=\"Doe\", edad=20, boliviano=True)\n",
    "print (resultado)"
   ]
  },
  {
   "cell_type": "markdown",
   "id": "d4e03b53",
   "metadata": {},
   "source": [
    "**Documentación de funciones**\n",
    "\n",
    "Es importante documentar las funciones para que otros programadores puedan entender su funcionamiento\n",
    "\n",
    "- Se puede documentar una función con un comentario de varias líneas\n",
    "- Se accede con la función .__doc__"
   ]
  },
  {
   "cell_type": "code",
   "execution_count": 16,
   "id": "e93ca87d",
   "metadata": {},
   "outputs": [
    {
     "name": "stdout",
     "output_type": "stream",
     "text": [
      "Acceso a la documentación\n",
      "\n",
      "Documentación aquí\n",
      "\n",
      "Fin de la ejecución\n"
     ]
    }
   ],
   "source": [
    "print (\"Acceso a la documentación\")\n",
    "def funcion():\n",
    "    \"\"\"\n",
    "    Documentación aquí\n",
    "    \"\"\"\n",
    "    print (\"Bloque de código\")\n",
    "print (funcion.__doc__)\n",
    "print (\"Fin de la ejecución\")"
   ]
  },
  {
   "cell_type": "markdown",
   "id": "23dfba1d",
   "metadata": {},
   "source": [
    "**Llamado de funciones dentro de funciones**\n",
    "- Se pueden llamar funciones dentro de otras funciones\n",
    "- Se utiliza para dividir una función en bloques de código más pequeños\n",
    "- Se puede llamar una función dentro de un bucle o condicional"
   ]
  },
  {
   "cell_type": "code",
   "execution_count": 17,
   "id": "fa57f714",
   "metadata": {},
   "outputs": [
    {
     "name": "stdout",
     "output_type": "stream",
     "text": [
      "Ejemplo 11\n",
      "1. Definir función Principal\n",
      "2. Definir función Cuadrado\n",
      "3. Definir función Cubo\n"
     ]
    }
   ],
   "source": [
    "print (\"Ejemplo 11\")\n",
    "print (\"1. Definir función Principal\")\n",
    "def principal(numero):\n",
    "    cuadrado = cuadrado_numero(numero)\n",
    "    cubo = cubo_numero(numero)\n",
    "    return cuadrado, cubo\n",
    " \n",
    "print (\"2. Definir función Cuadrado\")\n",
    "def cuadrado_numero(numero):\n",
    "    return numero**2\n",
    " \n",
    "print (\"3. Definir función Cubo\")\n",
    "def cubo_numero(numero):\n",
    "    return numero**3"
   ]
  },
  {
   "cell_type": "markdown",
   "id": "cf10ecd8",
   "metadata": {},
   "source": [
    "**Funciones Recursivas**\n",
    "- Una función recursiva es una función que se llama a sí misma\n",
    "- Se utiliza para reprocesar un bloque de código\n",
    "- Se debe tener un caso base para evitar un bucle infinito"
   ]
  },
  {
   "cell_type": "code",
   "execution_count": 18,
   "id": "48d30196",
   "metadata": {},
   "outputs": [
    {
     "name": "stdout",
     "output_type": "stream",
     "text": [
      "Ejemplo 12\n",
      "1. Definir función\n",
      "2. Llamar función\n",
      "20\n"
     ]
    }
   ],
   "source": [
    "print (\"Ejemplo 12\")\n",
    "print (\"1. Definir función\")\n",
    "def numero_par(numero):\n",
    "    if numero == 0:\n",
    "        return 0\n",
    "    else:\n",
    "        return numero_par(numero-1) + 2\n",
    " \n",
    "print (\"2. Llamar función\")\n",
    "resultado = numero_par(10)\n",
    "print (resultado)"
   ]
  },
  {
   "cell_type": "markdown",
   "id": "6a14280b",
   "metadata": {},
   "source": [
    "**Funciones anónimas o lambda**\n",
    "- Una función anónima es una función sin nombre\n",
    "- Se utiliza para funciones pequeñas y simples\n",
    "- Se utiliza para funciones que se van a pasar como argumento\n",
    "- Se realiza en una sola línea\n",
    "- se puede asignar a una variable"
   ]
  },
  {
   "cell_type": "code",
   "execution_count": 19,
   "id": "d2c261c2",
   "metadata": {},
   "outputs": [
    {
     "name": "stdout",
     "output_type": "stream",
     "text": [
      "Ejemplo 13\n",
      "25\n",
      "100\n"
     ]
    }
   ],
   "source": [
    "print (\"Ejemplo 13\")\n",
    "cuadrado = lambda numero: numero**2\n",
    "resultado = cuadrado(5)\n",
    "print (resultado)\n",
    "resultado = cuadrado(10)\n",
    "print (resultado)"
   ]
  }
 ],
 "metadata": {
  "kernelspec": {
   "display_name": "Python 3",
   "language": "python",
   "name": "python3"
  },
  "language_info": {
   "codemirror_mode": {
    "name": "ipython",
    "version": 3
   },
   "file_extension": ".py",
   "mimetype": "text/x-python",
   "name": "python",
   "nbconvert_exporter": "python",
   "pygments_lexer": "ipython3",
   "version": "3.13.5"
  }
 },
 "nbformat": 4,
 "nbformat_minor": 5
}
