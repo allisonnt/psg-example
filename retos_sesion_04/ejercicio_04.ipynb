{
 "cells": [
  {
   "cell_type": "markdown",
   "id": "1dfe3f92",
   "metadata": {},
   "source": [
    "# 🏃‍♀️🎯 Juego: Pelota Manchada\n",
    "\n",
    "Pelota manchada es un juego tradicional en el que uno o más jugadores corren para evitar ser tocados por quien tiene la pelota. El objetivo es \"manchar\" (tocar) a otro jugador lanzando o tocándolo con la pelota, y así cambiar de rol. Gana quien logre evitar ser manchado el mayor tiempo posible.\n",
    "\n",
    "Este juego ha sido adaptado en formato visual usando símbolos para representar a los jugadores, el campo y la pelota.\n",
    "\n",
    "## 📋 Reglas del juego\n",
    "\n",
    "1. El juego se juega en un campo rectangular con varios jugadores.\n",
    "2. Un jugador empieza como \"manchador\" (👹) y lleva la pelota (⚽).\n",
    "3. Los otros jugadores (🏃‍♀️, 🏃) deben moverse por el campo para evitar ser tocados.\n",
    "4. El manchador puede moverse por el campo y \"lanzar\" la pelota hacia los demás.\n",
    "5. Si la pelota llega a un jugador, ese jugador se convierte en el nuevo manchador.\n",
    "6. El juego continúa por turnos o por tiempo.\n"
   ]
  },
  {
   "cell_type": "code",
   "execution_count": 1,
   "id": "26f1088a",
   "metadata": {},
   "outputs": [
    {
     "name": "stdout",
     "output_type": "stream",
     "text": [
      "Campo de juego:\n",
      "\n",
      "🟩 🟩 🟩 🟩 🟩 🟩\n",
      "🟩 🏃 🟩 ⚽ 🟩 🟩\n",
      "🟩 🟩 👹 🟩 🏃‍♀️ 🟩\n",
      "🟩 🟩 🟩 🟩 🟩 🟩\n",
      "🟩 🟩 🟩 🟩 🟩 🟩\n"
     ]
    }
   ],
   "source": [
    "# 🟩 Diseño del campo de juego de pelota manchada\n",
    "\n",
    "print(\"Campo de juego:\")\n",
    "print()\n",
    "print(\"🟩 🟩 🟩 🟩 🟩 🟩\")\n",
    "print(\"🟩 🏃 🟩 ⚽ 🟩 🟩\")\n",
    "print(\"🟩 🟩 👹 🟩 🏃‍♀️ 🟩\")\n",
    "print(\"🟩 🟩 🟩 🟩 🟩 🟩\")\n",
    "print(\"🟩 🟩 🟩 🟩 🟩 🟩\")"
   ]
  },
  {
   "cell_type": "markdown",
   "id": "c6bea58c",
   "metadata": {},
   "source": [
    "## 🎲 Descripción de las piezas del juego\n",
    "\n",
    "- 🟩: Área libre del campo\n",
    "- 🏃‍♀️ / 🏃: Jugadores que intentan escapar del manchador\n",
    "- 👹: Manchador (jugador con la pelota)\n",
    "- ⚽: Pelota en movimiento"
   ]
  },
  {
   "cell_type": "code",
   "execution_count": 2,
   "id": "39f9a971",
   "metadata": {},
   "outputs": [
    {
     "name": "stdout",
     "output_type": "stream",
     "text": [
      "🟩 - Área libre del campo\n",
      "🏃 - Jugador masculino\n",
      "🏃‍♀️ - Jugadora femenina\n",
      "👹 - Manchador actual (jugador con la pelota)\n",
      "⚽ - Pelota en movimiento\n"
     ]
    }
   ],
   "source": [
    "# 🧩 Diseño de las piezas\n",
    "\n",
    "print(\"🟩 - Área libre del campo\")\n",
    "print(\"🏃 - Jugador masculino\")\n",
    "print(\"🏃‍♀️ - Jugadora femenina\")\n",
    "print(\"👹 - Manchador actual (jugador con la pelota)\")\n",
    "print(\"⚽ - Pelota en movimiento\")"
   ]
  }
 ],
 "metadata": {
  "kernelspec": {
   "display_name": "Python 3",
   "language": "python",
   "name": "python3"
  },
  "language_info": {
   "codemirror_mode": {
    "name": "ipython",
    "version": 3
   },
   "file_extension": ".py",
   "mimetype": "text/x-python",
   "name": "python",
   "nbconvert_exporter": "python",
   "pygments_lexer": "ipython3",
   "version": "3.13.3"
  }
 },
 "nbformat": 4,
 "nbformat_minor": 5
}
