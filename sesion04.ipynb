{
 "cells": [
  {
   "cell_type": "markdown",
   "id": "611fcdc0",
   "metadata": {},
   "source": [
    "# Sesion 04\n",
    "- Mi primer notebook\n",
    "- Imprimir  Dollar tree\n",
    "- crear Markdown\n",
    "- Subir a mi repositorio de GitHub\n",
    "\n",
    "## 💸💲🌲"
   ]
  },
  {
   "cell_type": "code",
   "execution_count": null,
   "id": "20e2d0f9",
   "metadata": {},
   "outputs": [
    {
     "name": "stdout",
     "output_type": "stream",
     "text": [
      "Hola, Mundo desde Notebook\n",
      "    💸  \n",
      "    $$    \n",
      "   $$$$   \n",
      "  $$$$$$  \n",
      " $$$$$$$$ \n",
      "    !!    \n"
     ]
    }
   ],
   "source": [
    "# Code 01\n",
    "print (\"Hola, Mundo desde Notebook\")\n",
    "\n",
    "# Dollar tree\n",
    "print (\"    💸  \") \n",
    "print (\"    $$    \") \n",
    "print (\"   $$$$   \") \n",
    "print (\"  $$$$$$  \") \n",
    "print (\" $$$$$$$$ \") \n",
    "print (\"    !!       \") "
   ]
  }
 ],
 "metadata": {
  "kernelspec": {
   "display_name": "Python 3",
   "language": "python",
   "name": "python3"
  },
  "language_info": {
   "codemirror_mode": {
    "name": "ipython",
    "version": 3
   },
   "file_extension": ".py",
   "mimetype": "text/x-python",
   "name": "python",
   "nbconvert_exporter": "python",
   "pygments_lexer": "ipython3",
   "version": "3.13.3"
  }
 },
 "nbformat": 4,
 "nbformat_minor": 5
}
