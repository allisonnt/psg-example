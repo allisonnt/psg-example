{
 "cells": [
  {
   "cell_type": "markdown",
   "id": "4de32da0",
   "metadata": {},
   "source": [
    "## Sesión 11: Estructura de datos Diccionarios\n",
    "\n",
    "# Estructura de datos\n",
    "\n",
    "- Una estructura de datos es una forma de organizar y almacenar datos\n",
    "- De manera eficiente para su uso y manipulación\n",
    "- Las más comunes son tuplas, listas, conjuntos y diccionarios\n",
    "\n",
    "# ¿Qué es un diccionario?\n",
    "- Es una estructura de datos que permite almacenar pares de elementos clave-valor\n",
    "- Al igual que las listas y las tuplas, los diccionarios son colecciones de elementos\n",
    "\n",
    "**Se llaman diccionarios porque funcionan de manera similar a un diccionario de palabras**\n",
    "\n",
    "- La palabra es la clave\n",
    "- El significado es el valor\n",
    "\n",
    "Un diccionario es una secuencia de objetos MUTABLES\n",
    "\n",
    "- Ordenado\n",
    "- Indexado por claves\n",
    "- Reescribe duplicados\n",
    "\n",
    "**Mutable:** \n",
    "Los elementos de un diccionario pueden ser modificados después de su creación"
   ]
  },
  {
   "cell_type": "code",
   "execution_count": 2,
   "id": "2648881b",
   "metadata": {},
   "outputs": [
    {
     "name": "stdout",
     "output_type": "stream",
     "text": [
      "{'perro': '🐶', 'gato': '🐱', 'ave': '🐦'}\n",
      "{'perro': '🐩', 'gato': '🐱', 'ave': '🐦'}\n"
     ]
    }
   ],
   "source": [
    "diccionario = {'perro': '🐶', 'gato': '🐱', 'ave': '🐦'}\n",
    "print(diccionario) # {'perro': '🐶', 'gato': '🐱', 'ave': '🐦'}\n",
    "diccionario['perro'] = '🐩'\n",
    "print(diccionario) # {'perro': '🐩', 'gato': '🐱', 'ave': '🐦'}"
   ]
  },
  {
   "cell_type": "markdown",
   "id": "0e62a10d",
   "metadata": {},
   "source": [
    "Ordenados: Los elementos de un diccionario mantienen el orden de inserción de los elementos"
   ]
  },
  {
   "cell_type": "code",
   "execution_count": 3,
   "id": "0e5872a3",
   "metadata": {},
   "outputs": [
    {
     "name": "stdout",
     "output_type": "stream",
     "text": [
      "{'perro': '🐶', 'gato': '🐱', 'ave': '🐦'}\n"
     ]
    }
   ],
   "source": [
    "diccionario = {'perro': '🐶', 'gato': '🐱', 'ave': '🐦'}\n",
    "print(diccionario) # {'perro': '🐶', 'gato': '🐱', 'ave': '🐦'}\n"
   ]
  },
  {
   "cell_type": "markdown",
   "id": "43bb7698",
   "metadata": {},
   "source": [
    "Indexado por claves: Los elementos de un diccionario son indexados por claves\n",
    "\n"
   ]
  },
  {
   "cell_type": "code",
   "execution_count": 4,
   "id": "aae66982",
   "metadata": {},
   "outputs": [
    {
     "name": "stdout",
     "output_type": "stream",
     "text": [
      "🐶\n",
      "🐱\n"
     ]
    }
   ],
   "source": [
    "diccionario = {'perro': '🐶', 'gato': '🐱', 'ave': '🐦'}\n",
    "print(diccionario['perro']) # 🐶\n",
    "print(diccionario['gato']) # 🐱"
   ]
  },
  {
   "cell_type": "markdown",
   "id": "71c578e2",
   "metadata": {},
   "source": [
    "Reescribe duplicados: Los diccionarios no permiten claves duplicadas se reescribe el valor de la clave"
   ]
  },
  {
   "cell_type": "code",
   "execution_count": 5,
   "id": "a00a6c05",
   "metadata": {},
   "outputs": [
    {
     "name": "stdout",
     "output_type": "stream",
     "text": [
      "{'perro': '🐩', 'gato': '🐱', 'ave': '🐦'}\n"
     ]
    }
   ],
   "source": [
    "diccionario = {'perro': '🐶', 'gato': '🐱', 'ave': '🐦', 'perro': '🐩'}\n",
    "print(diccionario) # {'perro': '🐩', 'gato': '🐱', 'ave': '🐦'}"
   ]
  },
  {
   "cell_type": "markdown",
   "id": "504d138b",
   "metadata": {},
   "source": [
    "**Usos de los diccionarios**\n",
    "- Almacenar información estructurada\n",
    "- Guardar configuraciones y traducciones\n",
    "- Recuperar información de bases de datos\n",
    "- Describir objetos\n",
    "\n",
    "*¿Cómo declarar un diccionario?*\n",
    "\n",
    "- En python se declara utilizando llaves {}\n",
    "- Separando los pares clave-valor con comas ,\n",
    "- Separando la clave del valor con dos puntos :\n",
    "\n",
    "**mi_diccionario:** \n",
    "\n",
    "Es el nombre de la variable que almacena el diccionario\n",
    "clave1, clave2, clave3: Son las claves del diccionario\n",
    "valor1, valor2, valor3: Son los valores del diccionario\n",
    "'clave1':'valor1': Son los pares clave-valor unidos por dos puntos :\n",
    "También se puede declarar un diccionario utilizando la función dict()\n",
    "\n",
    "Y declarar diccionario utilizando diccionarios por comprensión\n",
    "\n",
    "Crearemos un archivo con el nombre sesion11.py\n",
    "\n",
    "Empezaremos a crear diccionarios\n",
    "\n"
   ]
  },
  {
   "cell_type": "code",
   "execution_count": 6,
   "id": "34358e3e",
   "metadata": {},
   "outputs": [
    {
     "name": "stdout",
     "output_type": "stream",
     "text": [
      "Diccionario de clave entera y valor entero\n",
      "{1: 10, 2: 20, 3: 30}\n",
      "<class 'dict'>\n"
     ]
    }
   ],
   "source": [
    "#Diccionario de clave entera y valor entero\n",
    "\n",
    "print (\"Diccionario de clave entera y valor entero\")\n",
    "diccionario = {1: 10, 2: 20, 3: 30}\n",
    "print(diccionario)\n",
    "print(type(diccionario))"
   ]
  },
  {
   "cell_type": "code",
   "execution_count": 7,
   "id": "2dc896f5",
   "metadata": {},
   "outputs": [
    {
     "name": "stdout",
     "output_type": "stream",
     "text": [
      "Diccionario de clave entero y valor cadena\n",
      "{1: 'uno', 2: 'dos', 3: 'tres'}\n",
      "<class 'dict'>\n"
     ]
    }
   ],
   "source": [
    "#Diccionario de clave entero y valor cadena\n",
    "\n",
    "print (\"Diccionario de clave entero y valor cadena\")\n",
    "diccionario = {1: 'uno', 2: 'dos', 3: 'tres'}\n",
    "print(diccionario)\n",
    "print(type(diccionario))"
   ]
  },
  {
   "cell_type": "code",
   "execution_count": 8,
   "id": "d7047d49",
   "metadata": {},
   "outputs": [
    {
     "name": "stdout",
     "output_type": "stream",
     "text": [
      "Diccionario de clave cadena y valor entero\n",
      "{'uno': 1, 'dos': 2, 'tres': 3}\n",
      "<class 'dict'>\n"
     ]
    }
   ],
   "source": [
    "#Diccionario de clave cadena y valor entero\n",
    "\n",
    "print (\"Diccionario de clave cadena y valor entero\")\n",
    "diccionario = {'uno': 1, 'dos': 2, 'tres': 3}\n",
    "print(diccionario)\n",
    "print(type(diccionario))"
   ]
  },
  {
   "cell_type": "code",
   "execution_count": 9,
   "id": "642a29a6",
   "metadata": {},
   "outputs": [
    {
     "name": "stdout",
     "output_type": "stream",
     "text": [
      "Diccionario de clave cadena y valor cadena\n",
      "{'perro': '🐶', 'gato': '🐱', 'ave': '🐦'}\n",
      "<class 'dict'>\n"
     ]
    }
   ],
   "source": [
    "#Diccionario de clave cadena y valor cadena\n",
    "\n",
    "print (\"Diccionario de clave cadena y valor cadena\")\n",
    "diccionario = {'perro': '🐶', 'gato': '🐱', 'ave': '🐦'}\n",
    "print(diccionario)\n",
    "print(type(diccionario))"
   ]
  },
  {
   "cell_type": "code",
   "execution_count": 10,
   "id": "845d575f",
   "metadata": {},
   "outputs": [
    {
     "name": "stdout",
     "output_type": "stream",
     "text": [
      "Diccionario mixto\n",
      "{1: 'ID-XXXXX', 'edad': 3, 'animal': '🐶', ('John', 'Doe'): 6917222722, 'salvaje': False}\n",
      "<class 'dict'>\n"
     ]
    }
   ],
   "source": [
    "#Diccionario mixto\n",
    "\n",
    "print (\"Diccionario mixto\")\n",
    "diccionario = {1:\"ID-XXXXX\", \"edad\": 3, 'animal': '🐶' , (\"John\",\"Doe\"): 6917222722, \"salvaje\": False}\n",
    "print(diccionario)\n",
    "print(type(diccionario))"
   ]
  },
  {
   "cell_type": "markdown",
   "id": "11c8210c",
   "metadata": {},
   "source": [
    "Se utiliza la función dict() para crear diccionarios vacíos o a partir de secuencias\n",
    "\n",
    "Permite convertir secuencias como listas, tuplas, conjuntos en diccionarios las secuencias deben tener pares clave-valor\n",
    "\n",
    "Diccionario vacío, se declara con llaves {} o con la función dict()\n",
    "\n",
    "Es la razón por la que no se usa {} para crear un conjunto vacío\n",
    "\n",
    "Los diccionarios nacieron antes que los conjuntos\n",
    "\n",
    "Para mantener la consistencia y claridad y coherencia\n",
    "\n",
    "Se mantuvo la sintaxis de los diccionarios vacíos con {}"
   ]
  },
  {
   "cell_type": "code",
   "execution_count": 11,
   "id": "cf0e4cad",
   "metadata": {},
   "outputs": [
    {
     "name": "stdout",
     "output_type": "stream",
     "text": [
      "Diccionario a partir de una lista\n",
      "[['perro', '🐶'], ['gato', '🐱'], ['ave', '🐦']]\n",
      "{'perro': '🐶', 'gato': '🐱', 'ave': '🐦'}\n",
      "<class 'dict'>\n"
     ]
    }
   ],
   "source": [
    "#Diccionario a partir de una lista anidada\n",
    "#Necesita que la lista tenga elementos pares\n",
    "\n",
    "print (\"Diccionario a partir de una lista\")\n",
    "lista = [['perro', '🐶'] , ['gato','🐱'] , ['ave','🐦']]\n",
    "print(lista)\n",
    "diccionario = dict(lista)\n",
    "print(diccionario)\n",
    "print(type(diccionario))"
   ]
  },
  {
   "cell_type": "code",
   "execution_count": 13,
   "id": "ed07aa27",
   "metadata": {},
   "outputs": [
    {
     "name": "stdout",
     "output_type": "stream",
     "text": [
      "Diccionario a partir de una tupla de tuplas\n",
      "(('perro', '🐶'), ('gatos', '🐱'), ('ave', ['🐦', '🦅']))\n",
      "{'perro': '🐶', 'gatos': '🐱', 'ave': ['🐦', '🦅']}\n",
      "<class 'dict'>\n"
     ]
    }
   ],
   "source": [
    "#Diccionario a partir de una tupla\n",
    "#Necesita que la tupla tenga elementos pares\n",
    "\n",
    "print (\"Diccionario a partir de una tupla de tuplas\")\n",
    "tupla = (('perro', '🐶') , ('gatos','🐱') , ('ave',['🐦','🦅']))\n",
    "print(tupla)\n",
    "diccionario = dict(tupla)\n",
    "print(diccionario)\n",
    "print(type(diccionario))"
   ]
  },
  {
   "cell_type": "code",
   "execution_count": 14,
   "id": "eaf92a36",
   "metadata": {},
   "outputs": [
    {
     "name": "stdout",
     "output_type": "stream",
     "text": [
      "Diccionario mediante comprensión\n",
      "{'🐶': '🐶🐶🐶', '🐱': '🐱🐱🐱', '🐹': '🐹🐹🐹', '🐰': '🐰🐰🐰'}\n",
      "<class 'dict'>\n"
     ]
    }
   ],
   "source": [
    "#Diccionario mediante comprensión\n",
    "\n",
    "print (\"Diccionario mediante comprensión\")\n",
    "diccionario = {animal:animal*3 for animal in '🐶🐱🐹🐰'}\n",
    "print(diccionario)\n",
    "print(type(diccionario))"
   ]
  },
  {
   "cell_type": "markdown",
   "id": "c0d6933d",
   "metadata": {},
   "source": [
    "**Indexación y Slicing**\n",
    "\n",
    "- Los diccionarios poseen indexación por clave\n",
    "- No se puede acceder a los elementos de un diccionario por posición\n",
    "- Si se puede acceder a los elementos de un diccionario por clave\n",
    "- No se puede realizar slicing en un diccionario"
   ]
  },
  {
   "cell_type": "code",
   "execution_count": 15,
   "id": "5bc8fa54",
   "metadata": {},
   "outputs": [
    {
     "name": "stdout",
     "output_type": "stream",
     "text": [
      "Acceder mediante clave\n",
      "{'perro': '🐶', 'gato': '🐱', 'ave': '🐦'}\n",
      "🐶 <class 'str'>\n",
      "🐱 <class 'str'>\n",
      "🐦 <class 'str'>\n"
     ]
    }
   ],
   "source": [
    "#Accedemos a los elementos de un diccionario por clave\n",
    "\n",
    "print (\"Acceder mediante clave\")\n",
    "diccionario = {'perro': '🐶', 'gato': '🐱', 'ave': '🐦'}\n",
    "print(diccionario)\n",
    "print(diccionario['perro'],type(diccionario['perro']))\n",
    "print(diccionario['gato'],type(diccionario['gato']))\n",
    "print(diccionario['ave'],type(diccionario['ave']))"
   ]
  },
  {
   "cell_type": "markdown",
   "id": "c2d6c26d",
   "metadata": {},
   "source": [
    "El acceso no solo nos permite obtener el valor de la clave\n",
    "\n",
    "Sino que también nos permite modificar el valor de la clave"
   ]
  },
  {
   "cell_type": "code",
   "execution_count": 16,
   "id": "a4667a35",
   "metadata": {},
   "outputs": [
    {
     "name": "stdout",
     "output_type": "stream",
     "text": [
      "Cambiar el valor de una clave\n",
      "{'perro': '🐶', 'gato': '🐱', 'ave': '🐦'}\n",
      "{'perro': '🐩', 'gato': '🐱', 'ave': '🐦'}\n"
     ]
    }
   ],
   "source": [
    "#Cambiar el valor de un clave\n",
    "\n",
    "print (\"Cambiar el valor de una clave\")\n",
    "diccionario = {'perro': '🐶', 'gato': '🐱', 'ave': '🐦'}\n",
    "print(diccionario)\n",
    "diccionario['perro'] = '🐩'\n",
    "print(diccionario)"
   ]
  },
  {
   "cell_type": "code",
   "execution_count": 17,
   "id": "b7655300",
   "metadata": {},
   "outputs": [
    {
     "name": "stdout",
     "output_type": "stream",
     "text": [
      "Crear un nuevo par clave-valor\n",
      "{'perro': '🐶', 'gato': '🐱', 'ave': '🐦'}\n",
      "{'perro': '🐶', 'gato': '🐱', 'ave': '🐦', 'pez': '🐠'}\n"
     ]
    }
   ],
   "source": [
    "#Si la clave no existe, se crea un nuevo par clave-valor\n",
    "\n",
    "print (\"Crear un nuevo par clave-valor\")\n",
    "diccionario = {'perro': '🐶', 'gato': '🐱', 'ave': '🐦'}\n",
    "print(diccionario)\n",
    "diccionario['pez'] = '🐠'\n",
    "print(diccionario)"
   ]
  },
  {
   "cell_type": "code",
   "execution_count": 18,
   "id": "8b4a8ec1",
   "metadata": {},
   "outputs": [
    {
     "name": "stdout",
     "output_type": "stream",
     "text": [
      "Eliminar un par clave-valor\n",
      "{'perro': '🐶', 'gato': '🐱', 'ave': '🐦'}\n",
      "{'perro': '🐶', 'gato': '🐱'}\n"
     ]
    }
   ],
   "source": [
    "#Para eliminar un par clave-valor se utiliza la palabra reservada \"del\"\n",
    "\n",
    "print (\"Eliminar un par clave-valor\")\n",
    "diccionario = {'perro': '🐶', 'gato': '🐱', 'ave': '🐦'}\n",
    "print(diccionario)\n",
    "del diccionario['ave']\n",
    "print(diccionario)"
   ]
  },
  {
   "cell_type": "code",
   "execution_count": 19,
   "id": "77d7403f",
   "metadata": {},
   "outputs": [
    {
     "name": "stdout",
     "output_type": "stream",
     "text": [
      "Modificar la clave\n",
      "{'perro': '🐶', 'gato': '🐱', 'ave': '🐦'}\n",
      "{'gato': '🐱', 'ave': '🐦', 'perrito': '🐶'}\n"
     ]
    }
   ],
   "source": [
    "#No se puede modificar la clave son inmutables y únicas\n",
    "#Se puede reasignar la clave creando un nuevo par clave-valor y eliminando el anterior\n",
    "\n",
    "print (\"Modificar la clave\")\n",
    "diccionario = {'perro': '🐶', 'gato': '🐱', 'ave': '🐦'}\n",
    "print(diccionario)\n",
    "diccionario['perrito'] = diccionario['perro']\n",
    "del diccionario['perro']\n",
    "print(diccionario)"
   ]
  },
  {
   "cell_type": "markdown",
   "id": "c385953b",
   "metadata": {},
   "source": [
    "## Concatenación de diccionarios\n",
    "\n",
    "No se puede concatenar diccionarios con el operador +\n"
   ]
  },
  {
   "cell_type": "code",
   "execution_count": 21,
   "id": "8da0f375",
   "metadata": {},
   "outputs": [
    {
     "name": "stdout",
     "output_type": "stream",
     "text": [
      "Concatenar diccionarios\n"
     ]
    },
    {
     "ename": "TypeError",
     "evalue": "unsupported operand type(s) for +: 'dict' and 'dict'",
     "output_type": "error",
     "traceback": [
      "\u001b[31m---------------------------------------------------------------------------\u001b[39m",
      "\u001b[31mTypeError\u001b[39m                                 Traceback (most recent call last)",
      "\u001b[36mCell\u001b[39m\u001b[36m \u001b[39m\u001b[32mIn[21]\u001b[39m\u001b[32m, line 4\u001b[39m\n\u001b[32m      2\u001b[39m diccionario1 = {\u001b[33m'\u001b[39m\u001b[33mperro\u001b[39m\u001b[33m'\u001b[39m: \u001b[33m'\u001b[39m\u001b[33m🐶\u001b[39m\u001b[33m'\u001b[39m, \u001b[33m'\u001b[39m\u001b[33mgato\u001b[39m\u001b[33m'\u001b[39m: \u001b[33m'\u001b[39m\u001b[33m🐱\u001b[39m\u001b[33m'\u001b[39m}\n\u001b[32m      3\u001b[39m diccionario2 = {\u001b[33m'\u001b[39m\u001b[33mave\u001b[39m\u001b[33m'\u001b[39m: \u001b[33m'\u001b[39m\u001b[33m🐦\u001b[39m\u001b[33m'\u001b[39m, \u001b[33m'\u001b[39m\u001b[33mpez\u001b[39m\u001b[33m'\u001b[39m: \u001b[33m'\u001b[39m\u001b[33m🐠\u001b[39m\u001b[33m'\u001b[39m}\n\u001b[32m----> \u001b[39m\u001b[32m4\u001b[39m concatenado = \u001b[43mdiccionario1\u001b[49m\u001b[43m \u001b[49m\u001b[43m+\u001b[49m\u001b[43m \u001b[49m\u001b[43mdiccionario2\u001b[49m \u001b[38;5;66;03m# TypeError: unsupported operand type(s) for +: 'dict' and 'dict'\u001b[39;00m\n\u001b[32m      6\u001b[39m \u001b[38;5;66;03m#Repetición de diccionarios\u001b[39;00m\n\u001b[32m      7\u001b[39m \u001b[38;5;66;03m#No se puede repetir diccionarios con el operador *+*\u001b[39;00m\n\u001b[32m      9\u001b[39m \u001b[38;5;28mprint\u001b[39m (\u001b[33m\"\u001b[39m\u001b[33mRepetir diccionarios\u001b[39m\u001b[33m\"\u001b[39m)\n",
      "\u001b[31mTypeError\u001b[39m: unsupported operand type(s) for +: 'dict' and 'dict'"
     ]
    }
   ],
   "source": [
    "print (\"Concatenar diccionarios\")\n",
    "diccionario1 = {'perro': '🐶', 'gato': '🐱'}\n",
    "diccionario2 = {'ave': '🐦', 'pez': '🐠'}\n",
    "concatenado = diccionario1 + diccionario2 # TypeError: unsupported operand type(s) for +: 'dict' and 'dict'\n",
    "\n",
    "#Repetición de diccionarios\n",
    "#No se puede repetir diccionarios con el operador *+*\n",
    "\n",
    "print (\"Repetir diccionarios\")\n",
    "diccionario = {'perro': '🐶', 'gato': '🐱'}\n",
    "repetido = diccionario * 3 # TypeError: unsupported operand type(s) "
   ]
  },
  {
   "cell_type": "markdown",
   "id": "175f560a",
   "metadata": {},
   "source": [
    "**Métodos de los diccionarios**\n",
    "\n",
    "Los diccionarios poseen los siguientes métodos:\n",
    "- Métodos de acceso\n",
    "- Métodos de adición\n",
    "- Métodos de eliminación\n",
    "- Métodos de copia\n",
    "\n",
    "**Métodos de acceso**\n",
    "Nos permiten obtener información del diccionario\n",
    "\n",
    "- get()\n",
    "- items()\n",
    "- keys()\n",
    "- values()"
   ]
  },
  {
   "cell_type": "code",
   "execution_count": 22,
   "id": "0072c793",
   "metadata": {},
   "outputs": [
    {
     "name": "stdout",
     "output_type": "stream",
     "text": [
      "Método get(clave)\n",
      "{'perro': '🐶', 'gato': '🐱', 'ave': '🐦'}\n",
      "🐶 <class 'str'>\n",
      "None <class 'NoneType'>\n"
     ]
    }
   ],
   "source": [
    "#get(clave): Recibe una clave y retorna el valor del par clave-valor, si la clave no existe retorna None\n",
    "\n",
    "print (\"Método get(clave)\")\n",
    "diccionario = {'perro': '🐶', 'gato': '🐱', 'ave': '🐦'}\n",
    "print (diccionario)\n",
    "perro = diccionario.get('perro')\n",
    "print(perro, type(perro))\n",
    "pez = diccionario.get('pez')\n",
    "print(pez, type(pez))"
   ]
  },
  {
   "cell_type": "code",
   "execution_count": 23,
   "id": "b562d356",
   "metadata": {},
   "outputs": [
    {
     "name": "stdout",
     "output_type": "stream",
     "text": [
      "Método items()\n",
      "{'perro': '🐶', 'gato': '🐱', 'ave': '🐦'}\n",
      "dict_items([('perro', '🐶'), ('gato', '🐱'), ('ave', '🐦')]) <class 'dict_items'>\n",
      "[('perro', '🐶'), ('gato', '🐱'), ('ave', '🐦')] <class 'list'>\n",
      "('perro', '🐶') <class 'tuple'>\n"
     ]
    }
   ],
   "source": [
    "#items(): Retorna una lista de tuplas con los pares clave-valor, se puede iterar para obtener los pares clave-valor\n",
    "\n",
    "print (\"Método items()\")\n",
    "diccionario = {'perro': '🐶', 'gato': '🐱', 'ave': '🐦'}\n",
    "print(diccionario)\n",
    "items = diccionario.items()\n",
    "print(items, type(items))\n",
    "items = list(items) # Convertir a lista\n",
    "print(items, type(items))\n",
    "print(items[0], type(items[0]))\n"
   ]
  },
  {
   "cell_type": "code",
   "execution_count": 24,
   "id": "a93784d6",
   "metadata": {},
   "outputs": [
    {
     "name": "stdout",
     "output_type": "stream",
     "text": [
      "Método keys()\n",
      "{'perro': '🐶', 'gato': '🐱', 'ave': '🐦'}\n",
      "dict_keys(['perro', 'gato', 'ave']) <class 'dict_keys'>\n",
      "['perro', 'gato', 'ave'] <class 'list'>\n",
      "perro <class 'str'>\n"
     ]
    }
   ],
   "source": [
    "#keys(): Retorna una lista con las claves del diccionario, se puede iterar para obtener las claves\n",
    "\n",
    "print (\"Método keys()\")\n",
    "diccionario = {'perro': '🐶', 'gato': '🐱', 'ave': '🐦'}\n",
    "print(diccionario)\n",
    "keys = diccionario.keys()\n",
    "print(keys, type(keys))\n",
    "keys = list(keys) # Convertir a lista\n",
    "print(keys, type(keys))\n",
    "print(keys[0], type(keys[0]))"
   ]
  },
  {
   "cell_type": "code",
   "execution_count": 25,
   "id": "cf708abf",
   "metadata": {},
   "outputs": [
    {
     "name": "stdout",
     "output_type": "stream",
     "text": [
      "Método values()\n",
      "{'perro': '🐶', 'gato': '🐱', 'ave': '🐦'}\n",
      "dict_values(['🐶', '🐱', '🐦']) <class 'dict_values'>\n",
      "['🐶', '🐱', '🐦'] <class 'list'>\n",
      "🐶 <class 'str'>\n"
     ]
    }
   ],
   "source": [
    "#values(): Retorna una lista con los valores del diccionario, se puede iterar para obtener los valores\n",
    "\n",
    "print (\"Método values()\")\n",
    "diccionario = {'perro': '🐶', 'gato': '🐱', 'ave': '🐦'}\n",
    "print(diccionario)\n",
    "values = diccionario.values()\n",
    "print(values, type(values))\n",
    "values = list(values) # Convertir a lista\n",
    "print(values, type(values))\n",
    "print(values[0], type(values[0]))"
   ]
  },
  {
   "cell_type": "markdown",
   "id": "d1942a74",
   "metadata": {},
   "source": [
    "**Métodos de adición**\n",
    "Nos permiten agregar elementos al diccionario\n",
    "\n",
    "update()"
   ]
  },
  {
   "cell_type": "markdown",
   "id": "cfb724f3",
   "metadata": {},
   "source": [
    "update(diccionario): Recibe un diccionario y agrega los pares clave-valor al diccionario, si la clave ya existe reescribe el valor"
   ]
  },
  {
   "cell_type": "code",
   "execution_count": 26,
   "id": "da85ed45",
   "metadata": {},
   "outputs": [
    {
     "name": "stdout",
     "output_type": "stream",
     "text": [
      "Método update(diccionario)\n",
      "{'perro': '🐶', 'gato': '🐱', 'ave': '🐦'}\n",
      "{'perro': '🐩', 'gato': '🐱', 'ave': '🐦', 'pez': '🐠'}\n"
     ]
    }
   ],
   "source": [
    "print (\"Método update(diccionario)\")\n",
    "diccionario = {'perro': '🐶', 'gato': '🐱', 'ave': '🐦'}\n",
    "print(diccionario)\n",
    "diccionario.update({'pez': '🐠', 'perro': '🐩'})\n",
    "print(diccionario)"
   ]
  },
  {
   "cell_type": "markdown",
   "id": "d79d17ed",
   "metadata": {},
   "source": [
    "update(clave=valor): Recibe claves y valores, agrega el par clave-valor al diccionario, si la clave ya existe reescribe el valor\n",
    "\n"
   ]
  },
  {
   "cell_type": "code",
   "execution_count": 27,
   "id": "7c1d0534",
   "metadata": {},
   "outputs": [
    {
     "name": "stdout",
     "output_type": "stream",
     "text": [
      "Método update(clave=valor)\n",
      "{'perro': '🐶', 'gato': '🐱', 'ave': '🐦'}\n",
      "{'perro': '🐩', 'gato': '🐱', 'ave': '🐦', 'pez': '🐠'}\n"
     ]
    }
   ],
   "source": [
    "print (\"Método update(clave=valor)\")\n",
    "diccionario = {'perro': '🐶', 'gato': '🐱', 'ave': '🐦'}\n",
    "print(diccionario)\n",
    "diccionario.update(pez='🐠', perro='🐩')\n",
    "print(diccionario)"
   ]
  },
  {
   "cell_type": "markdown",
   "id": "a4238728",
   "metadata": {},
   "source": [
    "**Métodos de eliminación**\n",
    "Permiten eliminar elementos del diccionario\n",
    "\n",
    "- clear()\n",
    "- pop()\n",
    "- popitem()"
   ]
  },
  {
   "cell_type": "code",
   "execution_count": 28,
   "id": "18ccb1e6",
   "metadata": {},
   "outputs": [
    {
     "name": "stdout",
     "output_type": "stream",
     "text": [
      "Método clear()\n",
      "{'perro': '🐶', 'gato': '🐱', 'ave': '🐦'}\n",
      "{}\n"
     ]
    }
   ],
   "source": [
    "#clear(): Elimina todos los elementos del diccionario\n",
    "\n",
    "print (\"Método clear()\")\n",
    "diccionario = {'perro': '🐶', 'gato': '🐱', 'ave': '🐦'}\n",
    "print(diccionario)\n",
    "diccionario.clear()\n",
    "print(diccionario)"
   ]
  },
  {
   "cell_type": "code",
   "execution_count": 29,
   "id": "5ae71b6d",
   "metadata": {},
   "outputs": [
    {
     "name": "stdout",
     "output_type": "stream",
     "text": [
      "Método pop(clave)\n",
      "{'perro': '🐶', 'gato': '🐱', 'ave': '🐦'}\n",
      "🐱 <class 'str'>\n",
      "{'perro': '🐶', 'ave': '🐦'}\n"
     ]
    }
   ],
   "source": [
    "#pop(clave): Recibe una clave y elimina el par clave-valor del diccionario, retorna el valor de la clave\n",
    "\n",
    "print (\"Método pop(clave)\")\n",
    "diccionario = {'perro': '🐶', 'gato': '🐱', 'ave': '🐦'}\n",
    "print(diccionario)\n",
    "gato = diccionario.pop('gato')\n",
    "print(gato, type(gato))\n",
    "print(diccionario)"
   ]
  },
  {
   "cell_type": "code",
   "execution_count": 30,
   "id": "19144a61",
   "metadata": {},
   "outputs": [
    {
     "name": "stdout",
     "output_type": "stream",
     "text": [
      "Método popitem()\n",
      "{'perro': '🐶', 'gato': '🐱'}\n",
      "('gato', '🐱') <class 'tuple'>\n",
      "{'perro': '🐶'}\n"
     ]
    }
   ],
   "source": [
    "#popitem(): Elimina el último par clave-valor del diccionario, retorna el par clave-valor, si el diccionario está vacío retorna un error\n",
    "\n",
    "print (\"Método popitem()\")\n",
    "diccionario = {'perro': '🐶', 'gato': '🐱'}\n",
    "print(diccionario)\n",
    "par = diccionario.popitem()\n",
    "print(par, type(par))\n",
    "print(diccionario)\n",
    "# par = diccionario.popitem()\n",
    "# print(par, type(par)) # KeyError: 'popitem(): dictionary is empty'"
   ]
  },
  {
   "cell_type": "markdown",
   "id": "e04dcc8b",
   "metadata": {},
   "source": [
    "**Métodos de copia**\n",
    "Permiten copiar el diccionario con una nueva referencia de memoria\n",
    "\n",
    "- copy()"
   ]
  },
  {
   "cell_type": "code",
   "execution_count": 31,
   "id": "8ba15fb5",
   "metadata": {},
   "outputs": [
    {
     "name": "stdout",
     "output_type": "stream",
     "text": [
      "Asignación por referencia\n",
      "{'perro': '🐶', 'gato': '🐱', 'ave': '🐦'}\n",
      "{'perro': '🐶', 'gato': '🐱', 'ave': '🐦'}\n",
      "{'perro': '🐶', 'gato': '🐱', 'ave': '🦅'}\n",
      "{'perro': '🐶', 'gato': '🐱', 'ave': '🦅'}\n"
     ]
    }
   ],
   "source": [
    "#Cuando se asigna un diccionario a una nueva variable se asigna por referencia\n",
    "#NO se crea un dict nuevo sino una referencia al original\n",
    "\n",
    "print (\"Asignación por referencia\")\n",
    "diccionario = {'perro': '🐶', 'gato': '🐱', 'ave': '🐦'}\n",
    "print(diccionario)\n",
    "copia = diccionario\n",
    "print(copia)\n",
    "copia['ave'] = '🦅'\n",
    "print(diccionario)\n",
    "print(copia)"
   ]
  },
  {
   "cell_type": "code",
   "execution_count": 32,
   "id": "0b716397",
   "metadata": {},
   "outputs": [
    {
     "name": "stdout",
     "output_type": "stream",
     "text": [
      "Método copy()\n",
      "{'perro': '🐶', 'gato': '🐱', 'ave': '🐦'}\n",
      "{'perro': '🐶', 'gato': '🐱', 'ave': '🐦'}\n",
      "{'perro': '🐶', 'gato': '🐱', 'ave': '🐦'}\n",
      "{'perro': '🐶', 'gato': '🐱', 'ave': '🦅'}\n"
     ]
    }
   ],
   "source": [
    "#Para crear una copia del diccionario se utiliza el método copy()\n",
    "\n",
    "print (\"Método copy()\")\n",
    "diccionario = {'perro': '🐶', 'gato': '🐱', 'ave': '🐦'}\n",
    "print(diccionario)\n",
    "copia = diccionario.copy()\n",
    "print(copia)\n",
    "copia['ave'] = '🦅'\n",
    "print(diccionario)\n",
    "print(copia)"
   ]
  },
  {
   "cell_type": "markdown",
   "id": "7d92e862",
   "metadata": {},
   "source": [
    "## Funciones con diccionarios\n",
    "Los diccionarios interactúan con funciones propias de python\n",
    "\n",
    "- len()\n",
    "- in / not in\n",
    "- iter()\n",
    "- Existen otras funciones pueden encontrarse en la documentación"
   ]
  },
  {
   "cell_type": "code",
   "execution_count": 33,
   "id": "8e30d64c",
   "metadata": {},
   "outputs": [
    {
     "name": "stdout",
     "output_type": "stream",
     "text": [
      "Función in  / not in\n",
      "{'perro': '🐶', 'gato': '🐱', 'ave': '🐦'}\n",
      "True <class 'bool'>\n",
      "True <class 'bool'>\n"
     ]
    }
   ],
   "source": [
    "#in / not in: Verifica si una clave existe en el diccionario\n",
    "\n",
    "print (\"Función in  / not in\")\n",
    "diccionario = {'perro': '🐶', 'gato': '🐱', 'ave': '🐦'}\n",
    "print(diccionario)\n",
    "existe = 'perro' in diccionario\n",
    "print(existe, type(existe))\n",
    "no_existe = 'pez' not in diccionario\n",
    "print(no_existe, type(no_existe))"
   ]
  },
  {
   "cell_type": "code",
   "execution_count": 34,
   "id": "84d9751d",
   "metadata": {},
   "outputs": [
    {
     "name": "stdout",
     "output_type": "stream",
     "text": [
      "Función iter()\n",
      "{'perro': '🐶', 'gato': '🐱', 'ave': '🐦'}\n",
      "<class 'dict_itemiterator'>\n",
      "('perro', '🐶') <class 'tuple'>\n",
      "('gato', '🐱') <class 'tuple'>\n",
      "('ave', '🐦') <class 'tuple'>\n"
     ]
    }
   ],
   "source": [
    "#iter(diccionario.items): Recibe items del diccionario y retorna un iterador\n",
    "\n",
    "print (\"Función iter()\")\n",
    "diccionario = {'perro': '🐶', 'gato': '🐱', 'ave': '🐦'}\n",
    "print(diccionario)\n",
    "iterador = iter(diccionario.items())\n",
    "print(type(iterador))\n",
    "siguiente = next(iterador)\n",
    "print(siguiente, type(siguiente))\n",
    "siguiente = next(iterador)\n",
    "print(siguiente, type(siguiente))\n",
    "siguiente = next(iterador)\n",
    "print(siguiente, type(siguiente))"
   ]
  },
  {
   "cell_type": "markdown",
   "id": "42840c1f",
   "metadata": {},
   "source": [
    "## Diccionarios anidados\n",
    "Los diccionarios pueden contener otros diccionarios"
   ]
  },
  {
   "cell_type": "code",
   "execution_count": 35,
   "id": "3bce8bb3",
   "metadata": {},
   "outputs": [
    {
     "name": "stdout",
     "output_type": "stream",
     "text": [
      "Diccionarios anidados\n",
      "{'perro': '🐶', 'gato': '🐱', 'ave': {'pajaro': '🐦', 'aguila': '🦅'}}\n",
      "{'pajaro': '🐦', 'aguila': '🦅'}\n",
      "🐦\n",
      "🦅\n"
     ]
    }
   ],
   "source": [
    "print (\"Diccionarios anidados\")\n",
    "diccionario = {'perro': '🐶', 'gato': '🐱',  'ave': {'pajaro': '🐦', 'aguila': '🦅'}}\n",
    "print(diccionario)\n",
    "aves = diccionario['ave']\n",
    "print(aves)\n",
    "ave = aves['pajaro']\n",
    "print(ave)\n",
    "ave = aves['aguila']\n",
    "print(ave)"
   ]
  }
 ],
 "metadata": {
  "kernelspec": {
   "display_name": "Python 3",
   "language": "python",
   "name": "python3"
  },
  "language_info": {
   "codemirror_mode": {
    "name": "ipython",
    "version": 3
   },
   "file_extension": ".py",
   "mimetype": "text/x-python",
   "name": "python",
   "nbconvert_exporter": "python",
   "pygments_lexer": "ipython3",
   "version": "3.13.6"
  }
 },
 "nbformat": 4,
 "nbformat_minor": 5
}
