{
 "cells": [
  {
   "cell_type": "markdown",
   "id": "47e6faf1",
   "metadata": {},
   "source": [
    "# Sesión 12\n",
    "## Estructura de control de flujo Sentencias condicionales\n",
    "\n",
    "## Estructura de control\n",
    "\n",
    "En un programa las estructuras de control son el orden en el que se ejecutan las instrucciones\n",
    "Python soporta las siguientes estructuras de control\n",
    "\n",
    "- Secuencial o lineal\n",
    "- Selección o condicionales\n",
    "- Repetición o ciclos\n",
    "\n",
    "**Secuencial o lineal**\n",
    "Es la ejecución de las instrucciones en el orden en el que se escriben\n",
    "\n",
    "**Selección o condicionales**\n",
    "Las estructuras de selección o condicionales permiten ejecutar un bloque de código si se cumple una condición\n",
    "\n",
    "En Python se utilizan las siguientes condicionales\n",
    "\n",
    "- if\n",
    "- else\n",
    "- if anidado\n",
    "- elif\n",
    "\n",
    "**if**\n",
    "\n",
    "La sentencia if permite ejecutar un bloque de código si se cumple una condición\n",
    "La condición tiene que ser un booleano"
   ]
  },
  {
   "cell_type": "code",
   "execution_count": 1,
   "id": "60c76667",
   "metadata": {},
   "outputs": [
    {
     "ename": "NameError",
     "evalue": "name 'condicion' is not defined",
     "output_type": "error",
     "traceback": [
      "\u001b[31m---------------------------------------------------------------------------\u001b[39m",
      "\u001b[31mNameError\u001b[39m                                 Traceback (most recent call last)",
      "\u001b[36mCell\u001b[39m\u001b[36m \u001b[39m\u001b[32mIn[1]\u001b[39m\u001b[32m, line 4\u001b[39m\n\u001b[32m      1\u001b[39m \u001b[38;5;66;03m#Como se declara un if\u001b[39;00m\n\u001b[32m      2\u001b[39m \u001b[38;5;66;03m#if tiene la siguiente estructura\u001b[39;00m\n\u001b[32m----> \u001b[39m\u001b[32m4\u001b[39m \u001b[38;5;28;01mif\u001b[39;00m \u001b[43mcondicion\u001b[49m:\n\u001b[32m      5\u001b[39m     \u001b[38;5;28mprint\u001b[39m (\u001b[33m\"\u001b[39m\u001b[33mCumple\u001b[39m\u001b[33m\"\u001b[39m)\n",
      "\u001b[31mNameError\u001b[39m: name 'condicion' is not defined"
     ]
    }
   ],
   "source": [
    "#Como se declara un if\n",
    "#if tiene la siguiente estructura\n",
    "\n",
    "if condicion:\n",
    "    print (\"Cumple\")"
   ]
  },
  {
   "cell_type": "code",
   "execution_count": 2,
   "id": "88b8b367",
   "metadata": {},
   "outputs": [
    {
     "name": "stdout",
     "output_type": "stream",
     "text": [
      "Inicio\n",
      "Cumple condición\n",
      "Fin\n"
     ]
    }
   ],
   "source": [
    "# En Python la estructura de un condicional if es la siguiente\n",
    "\n",
    "print (\"Inicio\")\n",
    "condicion = True\n",
    "if condicion:\n",
    "    # Bloque de código\n",
    "    print (\"Cumple condición\")\n",
    "print (\"Fin\")"
   ]
  },
  {
   "cell_type": "code",
   "execution_count": 3,
   "id": "7cf2aac2",
   "metadata": {},
   "outputs": [
    {
     "name": "stdout",
     "output_type": "stream",
     "text": [
      "Inicio\n",
      "El número es par\n",
      "Fin\n"
     ]
    }
   ],
   "source": [
    "#Ejemplo: Dado un número, imprimir si es par\n",
    "\n",
    "print (\"Inicio\")\n",
    "numero = 4\n",
    "if numero % 2 == 0: # Si el módulo de 2 es 0\n",
    "    print (\"El número es par\")\n",
    "print (\"Fin\")"
   ]
  },
  {
   "cell_type": "markdown",
   "id": "b9ab7caa",
   "metadata": {},
   "source": [
    "**if-else**\n",
    "\n",
    "La sentencia else permite ejecutar un bloque de código si no se cumple la condición del if\n",
    "Si la condición es True se ejecuta el bloque de código del if\n",
    "Si la condición es False se ejecuta el bloque de código del else"
   ]
  },
  {
   "cell_type": "code",
   "execution_count": 4,
   "id": "6c52b359",
   "metadata": {},
   "outputs": [
    {
     "name": "stdout",
     "output_type": "stream",
     "text": [
      "Cumple\n"
     ]
    }
   ],
   "source": [
    "#Como se declara un if-else\n",
    "#if-else tiene la siguiente estructura\n",
    "\n",
    "if condicion:\n",
    "    print (\"Cumple\")\n",
    "else:\n",
    "    print (\"No cumple\")"
   ]
  },
  {
   "cell_type": "code",
   "execution_count": 5,
   "id": "6f88b35e",
   "metadata": {},
   "outputs": [
    {
     "name": "stdout",
     "output_type": "stream",
     "text": [
      "Inicio\n",
      "No cumple condición\n",
      "Fin\n"
     ]
    }
   ],
   "source": [
    "#En Python la estructura de un condicional if-else es la siguiente\n",
    "\n",
    "print (\"Inicio\")\n",
    "condicion = False\n",
    "if condicion:\n",
    "    # Bloque de código\n",
    "    print (\"Cumple condición\")\n",
    "else:\n",
    "    # Bloque de código\n",
    "    print (\"No cumple condición\")\n",
    "print (\"Fin\")"
   ]
  },
  {
   "cell_type": "code",
   "execution_count": 6,
   "id": "66f72e09",
   "metadata": {},
   "outputs": [
    {
     "name": "stdout",
     "output_type": "stream",
     "text": [
      "Inicio\n",
      "El número es impar\n",
      "Fin\n"
     ]
    }
   ],
   "source": [
    "#Ejemplo: Dado un número, imprimir si es par o impar\n",
    "\n",
    "print (\"Inicio\")\n",
    "numero = 3\n",
    "if numero % 2 == 0: # Si el módulo de 2 es 0\n",
    "    print (\"El número es par\")\n",
    "else:\n",
    "    print (\"El número es impar\")\n",
    "print (\"Fin\")"
   ]
  },
  {
   "cell_type": "markdown",
   "id": "162f3d28",
   "metadata": {},
   "source": [
    "**if-anidado**\n",
    "\n",
    "La sentencia if anidado permite ejecutar un bloque de código si se cumple una condición\n",
    "Dentro del bloque de código del if-else se puede anidar otro if-else de manera ilimitada"
   ]
  },
  {
   "cell_type": "code",
   "execution_count": 7,
   "id": "bd88d2e7",
   "metadata": {},
   "outputs": [
    {
     "ename": "NameError",
     "evalue": "name 'condicion_1' is not defined",
     "output_type": "error",
     "traceback": [
      "\u001b[31m---------------------------------------------------------------------------\u001b[39m",
      "\u001b[31mNameError\u001b[39m                                 Traceback (most recent call last)",
      "\u001b[36mCell\u001b[39m\u001b[36m \u001b[39m\u001b[32mIn[7]\u001b[39m\u001b[32m, line 4\u001b[39m\n\u001b[32m      1\u001b[39m \u001b[38;5;66;03m#Como se declara un if-anidado\u001b[39;00m\n\u001b[32m      2\u001b[39m \u001b[38;5;66;03m#if-anidado tiene la siguiente estructura\u001b[39;00m\n\u001b[32m----> \u001b[39m\u001b[32m4\u001b[39m \u001b[38;5;28;01mif\u001b[39;00m \u001b[43mcondicion_1\u001b[49m:\n\u001b[32m      5\u001b[39m     \u001b[38;5;28mprint\u001b[39m (\u001b[33m\"\u001b[39m\u001b[33mCumple 1\u001b[39m\u001b[33m\"\u001b[39m)\n\u001b[32m      6\u001b[39m     \u001b[38;5;28;01mif\u001b[39;00m condicion_2:\n",
      "\u001b[31mNameError\u001b[39m: name 'condicion_1' is not defined"
     ]
    }
   ],
   "source": [
    "#Como se declara un if-anidado\n",
    "#if-anidado tiene la siguiente estructura\n",
    "\n",
    "if condicion_1:\n",
    "    print (\"Cumple 1\")\n",
    "    if condicion_2:\n",
    "        print (\"Cumple 2\")\n",
    "    else:\n",
    "        print (\"No cumple 2\")\n",
    "else:\n",
    "    print (\"No cumple 1\")"
   ]
  },
  {
   "cell_type": "code",
   "execution_count": 8,
   "id": "ea160338",
   "metadata": {},
   "outputs": [
    {
     "name": "stdout",
     "output_type": "stream",
     "text": [
      "Inicio Anidado\n",
      "Cumple condición 1\n",
      "No cumple condición 2\n",
      "Fin\n"
     ]
    }
   ],
   "source": [
    "#En Python la estructura de un condicional if-anidado es la siguiente\n",
    "\n",
    "print (\"Inicio Anidado\")\n",
    "condicion_1 = True\n",
    "condicion_2 = False\n",
    "if condicion_1:\n",
    "    print (\"Cumple condición 1\")\n",
    "    if condicion_2:\n",
    "        print (\"Cumple condición 2\")\n",
    "    else:\n",
    "        print (\"No cumple condición 2\")\n",
    "else:\n",
    "    print (\"No cumple condición 1\")\n",
    "print (\"Fin\")"
   ]
  },
  {
   "cell_type": "code",
   "execution_count": 9,
   "id": "91c0cc9c",
   "metadata": {},
   "outputs": [
    {
     "name": "stdout",
     "output_type": "stream",
     "text": [
      "Inicio Par, Impar o Cero\n",
      "El número es cero\n",
      "Fin\n"
     ]
    }
   ],
   "source": [
    "#Ejemplo: Dado un número, imprimir si es par, impar o cero\n",
    "\n",
    "print (\"Inicio Par, Impar o Cero\")\n",
    "numero = 0  \n",
    "if numero > 0 or numero < 0:\n",
    "    if numero % 2 == 0: # Si el módulo de 2 es 0\n",
    "        print (\"El número es par\")\n",
    "    else:\n",
    "        print (\"El número es impar\")\n",
    "else:\n",
    "    print (\"El número es cero\")\n",
    "print (\"Fin\")"
   ]
  },
  {
   "cell_type": "markdown",
   "id": "195758d5",
   "metadata": {},
   "source": [
    "**elif**\n",
    "\n",
    "La sentencia elif es la abreviatura de else if\n",
    "Permite ejecutar un bloque de código si no se cumple la condición del if y sí cumple una nueva condición"
   ]
  },
  {
   "cell_type": "code",
   "execution_count": 10,
   "id": "13227f75",
   "metadata": {},
   "outputs": [
    {
     "name": "stdout",
     "output_type": "stream",
     "text": [
      "Cumple 1\n"
     ]
    }
   ],
   "source": [
    "#Como se declara un elif\n",
    "#elif tiene la siguiente estructura\n",
    "\n",
    "if condicion_1:\n",
    "    print (\"Cumple 1\")\n",
    "elif condicion_2:\n",
    "    print (\"Cumple 2\")\n",
    "else:\n",
    "    print (\"No cumple 1 ni 2\")"
   ]
  },
  {
   "cell_type": "code",
   "execution_count": 11,
   "id": "98a8fa0f",
   "metadata": {},
   "outputs": [
    {
     "name": "stdout",
     "output_type": "stream",
     "text": [
      "Inicio ELIF\n",
      "Cumple condición 2\n",
      "Fin\n"
     ]
    }
   ],
   "source": [
    "#En Python la estructura de un condicional elif es la siguiente\n",
    "\n",
    "print (\"Inicio ELIF\")\n",
    "condicion_1 = False\n",
    "condicion_2 = True\n",
    "if condicion_1:\n",
    "    print (\"Cumple condición 1\")\n",
    "elif condicion_2:\n",
    "    print (\"Cumple condición 2\")\n",
    "else:\n",
    "    print (\"No cumple condición 1 ni 2\")\n",
    "print (\"Fin\")"
   ]
  },
  {
   "cell_type": "code",
   "execution_count": 12,
   "id": "fc1cde9b",
   "metadata": {},
   "outputs": [
    {
     "name": "stdout",
     "output_type": "stream",
     "text": [
      "Inicio Positivo, Negativo o Cero\n",
      "El número es negativo\n"
     ]
    }
   ],
   "source": [
    "#Ejemplo: Dado un número, imprimir si es positivo, negativo o cero\n",
    "\n",
    "print (\"Inicio Positivo, Negativo o Cero\")\n",
    "numero = -1\n",
    "if numero > 0:\n",
    "    print (\"El número es positivo\")\n",
    "elif numero < 0:\n",
    "    print (\"El número es negativo\")\n",
    "else:\n",
    "    print (\"El número es cero\")"
   ]
  },
  {
   "cell_type": "markdown",
   "id": "6a977343",
   "metadata": {},
   "source": [
    "**Operador ternario**\n",
    "\n",
    "El operador ternario es una forma de compactar una condicional en una sola línea\n",
    "Como su nombre lo indica, tiene tres partes\n",
    "\n",
    "- Condición\n",
    "- Resultado verdadero si es True\n",
    "- Resultado falso si es False"
   ]
  },
  {
   "cell_type": "code",
   "execution_count": 13,
   "id": "55ac5667",
   "metadata": {},
   "outputs": [
    {
     "name": "stdout",
     "output_type": "stream",
     "text": [
      "Inicio Ternario\n",
      "Cumple\n",
      "Fin\n"
     ]
    }
   ],
   "source": [
    "#En Python la estructura de un operador ternario es la siguiente\n",
    "\n",
    "print (\"Inicio Ternario\")\n",
    "condicion = True\n",
    "resultado = \"Cumple\" if condicion else \"No cumple\"\n",
    "print (resultado)\n",
    "print (\"Fin\")"
   ]
  },
  {
   "cell_type": "code",
   "execution_count": 14,
   "id": "acfe9f6e",
   "metadata": {},
   "outputs": [
    {
     "name": "stdout",
     "output_type": "stream",
     "text": [
      "Inicio Ternario Par, Impar\n",
      "El número es impar\n",
      "Fin\n"
     ]
    }
   ],
   "source": [
    "#Ejemplo: Dado un número, imprimir si es par o impar\n",
    "\n",
    "print (\"Inicio Ternario Par, Impar\")\n",
    "numero = 3\n",
    "resultado = \"El número es par\" if numero % 2 == 0 else \"El número es impar\"\n",
    "print (resultado)\n",
    "print (\"Fin\")"
   ]
  },
  {
   "cell_type": "markdown",
   "id": "db7438c5",
   "metadata": {},
   "source": [
    "**Truthiness**\n",
    "\n",
    "Es un término que se utiliza para describir el valor de verdad de un objeto\n",
    "En Python, todos los objetos tienen un valor de verdad\n",
    "Hay valores que se consideran True y otros que se consideran False\n",
    "\n",
    "En enteros\n",
    "\n",
    "- 0 es False\n",
    "- 1 es True\n",
    "- -1 es True\n",
    "- Todos los números enteros positivos y negativos son True excepto 0"
   ]
  },
  {
   "cell_type": "markdown",
   "id": "ea00fb83",
   "metadata": {},
   "source": [
    "En las cadenas\n",
    "\n",
    "- \"\" es False\n",
    "- \" \" es True\n",
    "- \"hola\" es True\n",
    "- \"0\" es True\n",
    "Todas las cadenas no vacías son True\n",
    "Las cadenas vacías son False"
   ]
  },
  {
   "cell_type": "code",
   "execution_count": 1,
   "id": "c2892ad8",
   "metadata": {},
   "outputs": [
    {
     "name": "stdout",
     "output_type": "stream",
     "text": [
      "['🍎', '🍑', '🍓', '🍉']\n",
      "Hay 1 manzanas\n",
      "['🍑', '🍓', '🍉']\n",
      "None\n",
      "['🍑', '🍓', '🍉', '🍎', '🍎']\n"
     ]
    }
   ],
   "source": [
    "cesta = ['🍎','🍑','🍓','🍉']\n",
    "print (cesta)\n",
    "if '🍎' in cesta:\n",
    "    print (f\"Hay {cesta.count('🍎')} manzanas\")\n",
    "else:\n",
    "    cesta.extend(['🍎','🍎'])\n",
    "    print (cesta)\n",
    "\n",
    "#Con operador ternario\n",
    "\n",
    "cesta = ['🍑','🍓','🍉']\n",
    "print (cesta)\n",
    "resultado = f\"Hay {cesta.count('🍎')} manzanas\" if '🍎' in cesta else cesta.extend(['🍎','🍎'])\n",
    "print (resultado)\n",
    "print (cesta)"
   ]
  },
  {
   "cell_type": "markdown",
   "id": "a10e6015",
   "metadata": {},
   "source": [
    "En un diccionario tienes almacenado un animal y quieres saber si es un mamífero\n",
    "\n",
    "animal = {'especie':'🐶', 'nombre': 'Firulais', 'mamifero': True}"
   ]
  },
  {
   "cell_type": "code",
   "execution_count": 2,
   "id": "e9e1bd32",
   "metadata": {},
   "outputs": [
    {
     "name": "stdout",
     "output_type": "stream",
     "text": [
      "{'especie': '🐶', 'nombre': 'Firulais', 'mamifero': True}\n",
      "Es un mamífero\n"
     ]
    }
   ],
   "source": [
    "animal = {'especie':'🐶', 'nombre': 'Firulais', 'mamifero': True}\n",
    "print (animal)\n",
    "if animal.get('mamifero'): # animal['mamifero']\n",
    "    print (\"Es un mamífero\")\n",
    "else:\n",
    "    print (\"No es un mamífero\")"
   ]
  },
  {
   "cell_type": "markdown",
   "id": "7508f48f",
   "metadata": {},
   "source": [
    "Dado dos conjuntos, verificar si tienen elementos en común y mostrarlos y si no, unirlos\n",
    "\n",
    "{'⚽','🏀','🏐'} , {'🏈','🏉','🏓'}"
   ]
  },
  {
   "cell_type": "code",
   "execution_count": 3,
   "id": "3f7b100e",
   "metadata": {},
   "outputs": [
    {
     "name": "stdout",
     "output_type": "stream",
     "text": [
      "{'🏀', '🏐', '⚽'} {'🏉', '🏓', '🏈'}\n",
      "{'🏀', '🏓', '🏈', '🏉', '🏐', '⚽'}\n"
     ]
    }
   ],
   "source": [
    "conjunto_1 = {'⚽','🏀','🏐'}\n",
    "conjunto_2 = {'🏈','🏉','🏓'}\n",
    "print (conjunto_1, conjunto_2)\n",
    "if conjunto_1.isdisjoint(conjunto_2): # len(conjunto_1.intersection(conjunto_2)) == 0\n",
    "    conjunto_1.update(conjunto_2)\n",
    "    print (conjunto_1)\n",
    "else:\n",
    "    print (\"Tienen elementos en común\")\n",
    "    print (conjunto_1.intersection(conjunto_2))"
   ]
  },
  {
   "cell_type": "markdown",
   "id": "99f87575",
   "metadata": {},
   "source": [
    "Validar si un correo electrónico es válido usando input\n",
    "\n",
    "- ✅: mail@domain.com, ma.il@domain.com\n",
    "- ❌: mail@domain, maildomain.com, @.\n",
    "- ❌: mail@@domain.com, mail@.com"
   ]
  },
  {
   "cell_type": "markdown",
   "id": "06904292",
   "metadata": {},
   "source": [
    "FIN DE LA SESION 12"
   ]
  }
 ],
 "metadata": {
  "kernelspec": {
   "display_name": "Python 3",
   "language": "python",
   "name": "python3"
  },
  "language_info": {
   "codemirror_mode": {
    "name": "ipython",
    "version": 3
   },
   "file_extension": ".py",
   "mimetype": "text/x-python",
   "name": "python",
   "nbconvert_exporter": "python",
   "pygments_lexer": "ipython3",
   "version": "3.13.5"
  }
 },
 "nbformat": 4,
 "nbformat_minor": 5
}
