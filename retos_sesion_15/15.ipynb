{
 "cells": [
  {
   "cell_type": "markdown",
   "id": "faeb3371",
   "metadata": {},
   "source": [
    "# Sesión 15\n",
    "\n",
    "## **Errores y Excepciones Try - Except**\n",
    "\n",
    "**¿Qué es un error?**\n",
    "\n",
    "Un error es una situación que se produce cuando una instrucción no puede ejecutarse correctamente.\n",
    "\n",
    "En Python, un error puede ser un error de sintaxis o un error de excepción\n",
    "\n",
    "Un error de sintaxis se produce cuando Python no puede interpretar nuestro código\n",
    "\n",
    "Generalmente porque hemos escrito mal alguna parte del código\n",
    "\n",
    "**¿Qué es una excepción?**\n",
    "\n",
    "Una excepción es un error que ocurre durante la ejecución de un programa\n",
    "\n",
    "Cuando se produce una excepción, el programa se detiene y muestra un mensaje de error\n",
    "\n",
    "La mayoría de las excepciones son ya gestionadas por Python\n",
    "\n",
    "Aveces es necesario gestionar las excepciones nosotros mismos\n",
    "\n",
    "**Estructura de una excepción Simple**\n",
    "\n",
    "- try: Bloque de código que puede lanzar una excepción posee indentación\n",
    "- except: Bloque de código que se ejecuta si se produce una excepción\n",
    "- Exception as e: Captura la excepción y la almacena en la variable e\n",
    "\n",
    "**Ejercicio 1**, \n",
    "\n",
    "Crear un programa que solicite dos números y realice la división de ambos números Si hay un error mostrar un mensaje de error\n",
    "\n",
    "El programa se detiene si se ingresa \"salir\""
   ]
  },
  {
   "cell_type": "code",
   "execution_count": 1,
   "id": "d48f32a0",
   "metadata": {},
   "outputs": [
    {
     "name": "stdout",
     "output_type": "stream",
     "text": [
      "Inicio Ejemplo 1\n",
      "💀 Error: division by zero <class 'ZeroDivisionError'>\n",
      "Fin Ejemplo 1\n"
     ]
    }
   ],
   "source": [
    "print (\"Inicio Ejemplo 1\")\n",
    "try:\n",
    "    x = 1 / 0\n",
    "    print (x)\n",
    "except Exception as e:\n",
    "    print(\"💀 Error:\", e, type(e))\n",
    "print (\"Fin Ejemplo 1\")"
   ]
  },
  {
   "cell_type": "markdown",
   "id": "bcc552b3",
   "metadata": {},
   "source": [
    "**Tipos de excepciones**\n",
    "\n",
    "Algunos tipos de excepciones son:\n",
    "\n",
    "- ZeroDivisionError: Se produce cuando se intenta dividir por cero\n",
    "- NameError: Se produce cuando no se encuentra una variable\n",
    "- TypeError: Se produce cuando se intenta realizar una operación no permitida\n",
    "- ValueError: Se produce cuando se intenta realizar una operación con un valor incorrecto\n",
    "- KeyError: Se produce cuando se intenta acceder a una clave que no existe en un diccionario\n",
    "- IndexError: Se produce cuando se intenta acceder a un índice que no existe en una lista"
   ]
  },
  {
   "cell_type": "code",
   "execution_count": null,
   "id": "789bc5e6",
   "metadata": {},
   "outputs": [],
   "source": [
    "print (\"Inicio Ejemplo 2\")\n",
    "divisor = 0\n",
    "try:\n",
    "    x = 1 / divisor\n",
    "    print (x)\n",
    "except ZeroDivisionError as e:\n",
    "    print(\"0️⃣ Error:\", e, type(e))\n",
    "except Exception as e:\n",
    "    print(\"💀 Error:\", e, type(e))\n",
    "print (\"Fin Ejemplo 2\")"
   ]
  },
  {
   "cell_type": "markdown",
   "id": "16a46f04",
   "metadata": {},
   "source": []
  }
 ],
 "metadata": {
  "kernelspec": {
   "display_name": "Python 3",
   "language": "python",
   "name": "python3"
  },
  "language_info": {
   "codemirror_mode": {
    "name": "ipython",
    "version": 3
   },
   "file_extension": ".py",
   "mimetype": "text/x-python",
   "name": "python",
   "nbconvert_exporter": "python",
   "pygments_lexer": "ipython3",
   "version": "3.13.5"
  }
 },
 "nbformat": 4,
 "nbformat_minor": 5
}
