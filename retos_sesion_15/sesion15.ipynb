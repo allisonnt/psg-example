{
 "cells": [
  {
   "cell_type": "markdown",
   "id": "fb03cefb",
   "metadata": {},
   "source": [
    "# Sesión 15\n",
    "\n",
    "## **Errores y Excepciones Try - Except**\n",
    "\n",
    "**¿Qué es un error?**\n",
    "\n",
    "Un error es una situación que se produce cuando una instrucción no puede ejecutarse correctamente.\n",
    "\n",
    "En Python, un error puede ser un error de sintaxis o un error de excepción\n",
    "\n",
    "Un error de sintaxis se produce cuando Python no puede interpretar nuestro código\n",
    "\n",
    "Generalmente porque hemos escrito mal alguna parte del código\n",
    "\n",
    "**¿Qué es una excepción?**\n",
    "\n",
    "Una excepción es un error que ocurre durante la ejecución de un programa\n",
    "\n",
    "Cuando se produce una excepción, el programa se detiene y muestra un mensaje de error\n",
    "\n",
    "La mayoría de las excepciones son ya gestionadas por Python\n",
    "\n",
    "Aveces es necesario gestionar las excepciones nosotros mismos\n",
    "\n",
    "**Estructura de una excepción Simple**\n",
    "\n",
    "- try: Bloque de código que puede lanzar una excepción posee indentación\n",
    "- except: Bloque de código que se ejecuta si se produce una excepción\n",
    "- Exception as e: Captura la excepción y la almacena en la variable e\n",
    "\n",
    "**Ejercicio 1**, \n",
    "\n",
    "Crear un programa que solicite dos números y realice la división de ambos números Si hay un error mostrar un mensaje de error\n",
    "\n",
    "El programa se detiene si se ingresa \"salir\"\n",
    "\n"
   ]
  },
  {
   "cell_type": "code",
   "execution_count": 1,
   "id": "43db718c",
   "metadata": {},
   "outputs": [
    {
     "name": "stdout",
     "output_type": "stream",
     "text": [
      "Inicio Ejemplo 1\n"
     ]
    },
    {
     "ename": "ZeroDivisionError",
     "evalue": "division by zero",
     "output_type": "error",
     "traceback": [
      "\u001b[31m---------------------------------------------------------------------------\u001b[39m",
      "\u001b[31mZeroDivisionError\u001b[39m                         Traceback (most recent call last)",
      "\u001b[36mCell\u001b[39m\u001b[36m \u001b[39m\u001b[32mIn[1]\u001b[39m\u001b[32m, line 2\u001b[39m\n\u001b[32m      1\u001b[39m \u001b[38;5;28mprint\u001b[39m (\u001b[33m\"\u001b[39m\u001b[33mInicio Ejemplo 1\u001b[39m\u001b[33m\"\u001b[39m)\n\u001b[32m----> \u001b[39m\u001b[32m2\u001b[39m x = \u001b[32;43m1\u001b[39;49m\u001b[43m \u001b[49m\u001b[43m/\u001b[49m\u001b[43m \u001b[49m\u001b[32;43m0\u001b[39;49m\n\u001b[32m      3\u001b[39m \u001b[38;5;28mprint\u001b[39m (x)\n\u001b[32m      4\u001b[39m \u001b[38;5;28mprint\u001b[39m (\u001b[33m\"\u001b[39m\u001b[33mFin Ejemplo 1\u001b[39m\u001b[33m\"\u001b[39m)\n",
      "\u001b[31mZeroDivisionError\u001b[39m: division by zero"
     ]
    }
   ],
   "source": [
    "print (\"Inicio Ejemplo 1\")\n",
    "x = 1 / 0\n",
    "print (x)\n",
    "print (\"Fin Ejemplo 1\")"
   ]
  },
  {
   "cell_type": "code",
   "execution_count": 2,
   "id": "57a6d8dc",
   "metadata": {},
   "outputs": [
    {
     "name": "stdout",
     "output_type": "stream",
     "text": [
      "Inicio Ejemplo 1\n",
      "💀 Error: division by zero <class 'ZeroDivisionError'>\n",
      "Fin Ejemplo 1\n"
     ]
    }
   ],
   "source": [
    "print (\"Inicio Ejemplo 1\")\n",
    "try:\n",
    "    x = 1 / 0\n",
    "    print (x)\n",
    "except Exception as e:\n",
    "    print(\"💀 Error:\", e, type(e))\n",
    "print (\"Fin Ejemplo 1\")"
   ]
  },
  {
   "cell_type": "markdown",
   "id": "e1331cd3",
   "metadata": {},
   "source": [
    "## Tipos de excepciones\n",
    "\n",
    "Algunos tipos de excepciones son:\n",
    "\n",
    "- ZeroDivisionError: Se produce cuando se intenta dividir por cero\n",
    "- NameError: Se produce cuando no se encuentra una variable\n",
    "- TypeError: Se produce cuando se intenta realizar una operación no permitida\n",
    "- ValueError: Se produce cuando se intenta realizar una operación con un valor incorrecto\n",
    "-  KeyError: Se produce cuando se intenta acceder a una clave que no existe en un diccionario\n",
    "- IndexError: Se produce cuando se intenta acceder a un índice que no existe en una lista\n",
    "\n",
    "**Excepciones múltiples**\n",
    "\n",
    "- try puede detectar un tipo de excepción específico y ejecutar un bloque de código diferente para cada tipo de excepción\n",
    "- Se debe poner un bloque except el tipo de excepción que se desea capturar con jerarquía de arriba hacía abajo"
   ]
  },
  {
   "cell_type": "code",
   "execution_count": 3,
   "id": "9de8e28f",
   "metadata": {},
   "outputs": [
    {
     "name": "stdout",
     "output_type": "stream",
     "text": [
      "Inicio Ejemplo 2\n",
      "0️⃣ Error: division by zero <class 'ZeroDivisionError'>\n",
      "Fin Ejemplo 2\n"
     ]
    }
   ],
   "source": [
    "print (\"Inicio Ejemplo 2\")\n",
    "divisor = 0\n",
    "try:\n",
    "    x = 1 / divisor\n",
    "    print (x)\n",
    "except ZeroDivisionError as e:\n",
    "    print(\"0️⃣ Error:\", e, type(e))\n",
    "except Exception as e:\n",
    "    print(\"💀 Error:\", e, type(e))\n",
    "print (\"Fin Ejemplo 2\")"
   ]
  },
  {
   "cell_type": "markdown",
   "id": "feef4217",
   "metadata": {},
   "source": [
    "**Jerarquía de excepciones**"
   ]
  },
  {
   "cell_type": "code",
   "execution_count": 4,
   "id": "2db36784",
   "metadata": {},
   "outputs": [
    {
     "name": "stdout",
     "output_type": "stream",
     "text": [
      "Inicio Ejemplo 2\n",
      "💀 Error: division by zero <class 'ZeroDivisionError'>\n",
      "Fin Ejemplo 2\n"
     ]
    }
   ],
   "source": [
    "print (\"Inicio Ejemplo 2\")\n",
    "divisor = 0\n",
    "try:\n",
    "    x = 1 / divisor\n",
    "    print (x)\n",
    "except Exception as e: # Captura cualquier excepción\n",
    "    print(\"💀 Error:\", e, type(e))\n",
    "except ZeroDivisionError as e:\n",
    "    print(\"0️⃣ Error:\", e, type(e))\n",
    "print (\"Fin Ejemplo 2\")"
   ]
  },
  {
   "cell_type": "code",
   "execution_count": 5,
   "id": "e24aebd2",
   "metadata": {},
   "outputs": [
    {
     "name": "stdout",
     "output_type": "stream",
     "text": [
      "🎭 Error: unsupported operand type(s) for +=: 'int' and 'str' <class 'TypeError'>\n"
     ]
    }
   ],
   "source": [
    "calificaciones = [20,40,80,\"A\"]\n",
    "suma = 0\n",
    "try:\n",
    "    for i in range(len(calificaciones)+1):\n",
    "        suma += calificaciones[i] \n",
    "    promedio = suma / len(calificaciones)\n",
    "    print(\"Promedio:\", promedio)\n",
    "except ZeroDivisionError as e:\n",
    "    print(\"0️⃣ Error:\", e, type(e))\n",
    "except TypeError as e:\n",
    "    print(\"🎭 Error:\", e, type(e))\n",
    "except Exception as e:\n",
    "    print(\"💀 Error:\", e, type(e))"
   ]
  },
  {
   "cell_type": "markdown",
   "id": "fb918698",
   "metadata": {},
   "source": [
    "## Bloque else\n",
    "\n",
    "- Se puede agregar un bloque else que se ejecuta si no se produce ninguna excepción\n",
    "- Se debe poner después de todos los bloques except\n",
    "- Lo utilizamos validar la entrada de datos o para mostrar un mensaje de éxito"
   ]
  },
  {
   "cell_type": "code",
   "execution_count": 6,
   "id": "161e464f",
   "metadata": {},
   "outputs": [
    {
     "name": "stdout",
     "output_type": "stream",
     "text": [
      "Inicio Ejemplo 4\n",
      "Promedio: 46.666666666666664\n",
      "🎉 Sin errores\n",
      "Fin Ejemplo 4\n"
     ]
    }
   ],
   "source": [
    "print (\"Inicio Ejemplo 4\")\n",
    "calificaciones = [20,40,80]\n",
    "suma = 0\n",
    "try:\n",
    "    for i in range(len(calificaciones)):\n",
    "        suma += calificaciones[i]\n",
    "    promedio = suma / len(calificaciones)\n",
    "    print(\"Promedio:\", promedio)\n",
    "except Exception as e:\n",
    "    print(\"💀 Error:\", e, type(e))\n",
    "else:\n",
    "    print (\"🎉 Sin errores\")\n",
    "print (\"Fin Ejemplo 4\")"
   ]
  },
  {
   "cell_type": "markdown",
   "id": "2c39ae05",
   "metadata": {},
   "source": [
    "## Bloque finally\n",
    "\n",
    "- Se puede agregar un bloque finally que se ejecuta siempre, independientemente de si se produce una excepción\n",
    "- Se debe poner después de todos los bloques except y else\n",
    "- Se utiliza para liberar recursos o cerrar archivos\n",
    "- Para garantizar que se ejecute un código importante sin importar si se produce una excepción o no"
   ]
  },
  {
   "cell_type": "code",
   "execution_count": 7,
   "id": "a59cfaa4",
   "metadata": {},
   "outputs": [
    {
     "name": "stdout",
     "output_type": "stream",
     "text": [
      "Inicio Ejemplo 5\n",
      "🔗 Ping...\n",
      "🎉 Ping Exitoso\n",
      "🔌 Cerrando conexión\n"
     ]
    }
   ],
   "source": [
    "print (\"Inicio Ejemplo 5\")\n",
    "try:\n",
    "    print(\"🔗 Ping...\")\n",
    "except Exception as e:\n",
    "    print(\"💀 Error:\", e)\n",
    "else:\n",
    "    print(\"🎉 Ping Exitoso\")\n",
    "finally:\n",
    "    print(\"🔌 Cerrando conexión\")\n"
   ]
  },
  {
   "cell_type": "markdown",
   "id": "5432a36f",
   "metadata": {},
   "source": [
    "**¿Cómo generamos una excepción?**\n",
    "\n",
    "Para probar que finally se ejecuta siempre\n",
    "\n",
    "**Raise**\n",
    "\n",
    "raise se utiliza para generar una excepción\n",
    "\n",
    "Se puede generar una excepción específica o una excepción genérica\n",
    "\n",
    "**Estructura de raise**\n",
    "\n",
    "- raise es una palabra reservada de Python\n",
    "- Exception es el tipo de excepción que se desea generar\n",
    "- \"Mensaje de error\" es el mensaje que se mostrará"
   ]
  },
  {
   "cell_type": "code",
   "execution_count": 8,
   "id": "3fda6594",
   "metadata": {},
   "outputs": [
    {
     "name": "stdout",
     "output_type": "stream",
     "text": [
      "Inicio Ejemplo 6\n",
      "🔗 Ping...\n",
      "💀 Error: Error de conexión\n",
      "🔌 Cerrando conexión\n"
     ]
    }
   ],
   "source": [
    "print (\"Inicio Ejemplo 6\")\n",
    "try:\n",
    "    print(\"🔗 Ping...\")\n",
    "    raise Exception(\"Error de conexión\") #Excepción genérica\n",
    "except Exception as e: # Captura cualquier excepción\n",
    "    print(\"💀 Error:\", e)\n",
    "else:\n",
    "    print(\"🎉 Ping Exitoso\")\n",
    "finally:\n",
    "    print(\"🔌 Cerrando conexión\")"
   ]
  },
  {
   "cell_type": "markdown",
   "id": "f89ad8b0",
   "metadata": {},
   "source": [
    "**Pass**\n",
    "\n",
    "- pass es una palabra reservada de Python que no hace nada\n",
    "- Se utiliza para evitar errores de sintaxis\n",
    "- Se puede utilizar para evitar errores de indentación"
   ]
  },
  {
   "cell_type": "code",
   "execution_count": 9,
   "id": "973ab817",
   "metadata": {},
   "outputs": [
    {
     "name": "stdout",
     "output_type": "stream",
     "text": [
      "Inicio Ejemplo 7\n",
      "Fin Ejemplo 7\n"
     ]
    }
   ],
   "source": [
    "print(\"Inicio Ejemplo 7\")\n",
    "def funcion():\n",
    "    pass\n",
    "\n",
    "funcion()\n",
    "print(\"Fin Ejemplo 7\")"
   ]
  },
  {
   "cell_type": "markdown",
   "id": "4c768808",
   "metadata": {},
   "source": [
    "## Excepciones personalizadas\n",
    "\n",
    "- Se pueden crear excepciones personalizadas\n",
    "- Nos permite crear excepciones específicas para nuestro programa\n",
    "- Se utiliza para crear excepciones de acuerdo a las necesidades del programa\n",
    "\n",
    "## Estructura de una excepción personalizada\n",
    "\n",
    "- class: palabra reservada de Python para crear una clase\n",
    "- MiError (Exception): nombre de la clase y la excepción de la que hereda\n",
    "- pass: palabra reservada de Python para indicar que no hace nada"
   ]
  },
  {
   "cell_type": "code",
   "execution_count": 10,
   "id": "5f35b224",
   "metadata": {},
   "outputs": [
    {
     "name": "stdout",
     "output_type": "stream",
     "text": [
      "Inicio Ejemplo 8\n",
      "🍎\n",
      "🍌\n",
      "🍐\n",
      "🐛 Error: 😱 Ewww!\n",
      "🍇\n",
      "Fin Ejemplo 8\n"
     ]
    }
   ],
   "source": [
    "print(\"Inicio Ejemplo 8\")\n",
    "class GusanoError(Exception):\n",
    "    pass\n",
    " \n",
    "frutero = ['🍎', '🍌', '🍐', '🐛', '🍇']\n",
    "for fruta in frutero:\n",
    "    try:\n",
    "        if fruta == '🐛':\n",
    "            raise GusanoError(\"😱 Ewww!\")\n",
    "        print(fruta)\n",
    "    except GusanoError as e:\n",
    "        print(\"🐛 Error:\", e)\n",
    "    except Exception as e:\n",
    "        print(\"💀 Error:\", e)\n",
    "print(\"Fin Ejemplo 8\")\n"
   ]
  }
 ],
 "metadata": {
  "kernelspec": {
   "display_name": "Python 3",
   "language": "python",
   "name": "python3"
  },
  "language_info": {
   "codemirror_mode": {
    "name": "ipython",
    "version": 3
   },
   "file_extension": ".py",
   "mimetype": "text/x-python",
   "name": "python",
   "nbconvert_exporter": "python",
   "pygments_lexer": "ipython3",
   "version": "3.13.5"
  }
 },
 "nbformat": 4,
 "nbformat_minor": 5
}
