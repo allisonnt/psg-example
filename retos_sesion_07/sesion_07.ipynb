{
 "cells": [
  {
   "cell_type": "markdown",
   "id": "4addee85",
   "metadata": {},
   "source": [
    "# *¿Qué es una Cadena?*\n",
    "\n",
    "Una cadena es una secuencia de caracteres\n",
    "Todos los caracteres que son imprimibles y no imprimibles\n",
    "\n",
    "- Alfabeto\n",
    "- Números\n",
    "= Símbolos\n",
    "- Emojis\n",
    "- Espacios\n",
    "- Tabulaciones\n",
    "- Saltos de línea\n",
    "\n",
    "## ¿Cómo declaro una cadena?\n",
    "Las cadenas se definen en el código de diferentes maneras pero siempre entre alguno de los siguientes caracteres"
   ]
  },
  {
   "cell_type": "code",
   "execution_count": 1,
   "id": "00d7a3cb",
   "metadata": {},
   "outputs": [
    {
     "name": "stdout",
     "output_type": "stream",
     "text": [
      "Mi cadena permite comillas \"dobles\" en una sola línea\n",
      "Mi cadena permite comillas 'simples' en una sola línea\n",
      "Mi cadena\n",
      "permite contenido \n",
      "en varias líneas y comillas \"dobles\" \n",
      "Mi cadena\n",
      "permite contenido \n",
      "en varias líneas y comillas 'simples' \n"
     ]
    }
   ],
   "source": [
    "simple = 'Mi cadena permite comillas \"dobles\" en una sola línea'\n",
    "doble  = \"Mi cadena permite comillas 'simples' en una sola línea\"\n",
    "triple_simple = '''Mi cadena\n",
    "permite contenido \n",
    "en varias líneas y comillas \"dobles\" '''\n",
    "triple_doble = \"\"\"Mi cadena\n",
    "permite contenido \n",
    "en varias líneas y comillas 'simples' \"\"\"\n",
    "print (simple)\n",
    "print (doble)\n",
    "print (triple_simple)\n",
    "print (triple_doble)"
   ]
  },
  {
   "cell_type": "markdown",
   "id": "80e07a04",
   "metadata": {},
   "source": [
    "El método \"str\" recibe un objeto cualquiera y lo retorna como una cadena de caracteres"
   ]
  },
  {
   "cell_type": "code",
   "execution_count": 3,
   "id": "9cbdb091",
   "metadata": {},
   "outputs": [
    {
     "name": "stdout",
     "output_type": "stream",
     "text": [
      "1\n",
      "0.001\n",
      "10\n",
      "True\n",
      "<class 'str'>\n",
      "<class 'str'>\n",
      "<class 'str'>\n",
      "<class 'str'>\n"
     ]
    }
   ],
   "source": [
    "entero = str(1)\n",
    "flotante = str(1E-3)\n",
    "hexadecimal = str(0xA)\n",
    "booleano = str (True)\n",
    "print (entero)\n",
    "print (flotante)\n",
    "print (hexadecimal)\n",
    "print (booleano)\n",
    "print (type(entero))\n",
    "print (type(flotante))\n",
    "print (type(hexadecimal))\n",
    "print (type(booleano))\n"
   ]
  },
  {
   "cell_type": "markdown",
   "id": "0d4e7776",
   "metadata": {},
   "source": [
    "## Escape de caracteres\n",
    "Es la práctica de colocar un carácter especial o conjunto de caracteres dentro de una cadena para que se interprete de manera diferente\n",
    "Vamos a escapar los caracteres especiales internos las comillas dobles y la comilla simple"
   ]
  },
  {
   "cell_type": "code",
   "execution_count": 8,
   "id": "fcd9bb4d",
   "metadata": {},
   "outputs": [
    {
     "name": "stdout",
     "output_type": "stream",
     "text": [
      "El mensaje enviado fue: \"Hello, I'm a message\"\n",
      "El mensaje enviado fue: \"Hello, I'm a message\"\n"
     ]
    }
   ],
   "source": [
    "print (\"El mensaje enviado fue: \\\"Hello, I\\'m a message\\\"\")\n",
    "print ('El mensaje enviado fue: \\\"Hello, I\\'m a message\\\"')"
   ]
  },
  {
   "cell_type": "markdown",
   "id": "c3007e1f",
   "metadata": {},
   "source": [
    "**Existen combinaciones de escapado que generan caracteres especiales los más comunes son:**\n",
    "- \\n : Agrega el carácter ASCII (LF) que representa un salto de línea\n",
    "- \\t : Agrega el carácter ASCII (TAB) que representa una tabulación horizontal\n",
    "- \\v : Agrega el carácter ASCII (VT) que representa una tabulación vertical\n",
    "- \\b : Agrega el carácter ASCII (BS) que representa un retroceso\n",
    "- \\ : Agrega el carácter de backslash o barra invertida\n",
    "- \\ <newline> : Agrega un salto de línea en el código pero no en la impresión\n"
   ]
  },
  {
   "cell_type": "code",
   "execution_count": 9,
   "id": "2ec278e7",
   "metadata": {},
   "outputs": [
    {
     "name": "stdout",
     "output_type": "stream",
     "text": [
      "Hola,\n",
      "\teste es un mensaje \u000bcon algunos caracteres especiales como \\ y tabulador.\n"
     ]
    }
   ],
   "source": [
    "mensaje = \"Hola,\\n\\teste es un mensaje \\vcon algunos caracteres \\\n",
    "especiales como \\\\ y tabulador.\"\n",
    "print(mensaje)"
   ]
  },
  {
   "cell_type": "markdown",
   "id": "dbf9ae44",
   "metadata": {},
   "source": [
    "## *Método Input*\n",
    "\n",
    "El método \"input\" nos permite ingresar contenido al programa y es procesado como una cadena"
   ]
  },
  {
   "cell_type": "code",
   "execution_count": null,
   "id": "1282d1b5",
   "metadata": {},
   "outputs": [],
   "source": [
    "entrada = input(\"Ingrese un valor: \")\n",
    "print (entrada)\n",
    "print (type(entrada))"
   ]
  },
  {
   "cell_type": "markdown",
   "id": "e4d42ead",
   "metadata": {},
   "source": [
    "*Cuando introducimos por teclado y es procesado por una cadena puede ser convertido a diferentes tipos como enteros, flotantes, booleanos*\n"
   ]
  },
  {
   "cell_type": "code",
   "execution_count": null,
   "id": "688cb2aa",
   "metadata": {},
   "outputs": [],
   "source": [
    "entero = int(input(\"Ingrese un valor entero: \"))\n",
    "print (entero, type(entero))\n",
    "\n",
    "flotante = float(input(\"Ingrese un valor flotante: \"))\n",
    "print (flotante, type(flotante))\n",
    "\n",
    "booleano = bool(input(\"Ingrese un valor booleano: \"))\n",
    "print (booleano, type(booleano))"
   ]
  },
  {
   "cell_type": "markdown",
   "id": "ced67c2c",
   "metadata": {},
   "source": [
    "## Manejo de Indices\n",
    "Las cadenas son secuencias de caracteres por lo cual pueden ser representados de la siguiente manera"
   ]
  },
  {
   "cell_type": "code",
   "execution_count": null,
   "id": "7e1befd6",
   "metadata": {},
   "outputs": [],
   "source": [
    "print (\"Indexado positivo\")\n",
    "fruta = \"banana\"\n",
    "print (fruta)\n",
    "print (fruta[0])\n",
    "print (fruta[5])"
   ]
  },
  {
   "cell_type": "markdown",
   "id": "039dcdcd",
   "metadata": {},
   "source": [
    "Accedemos a los diferentes caracteres de la cadena utilizando sus índices negativos"
   ]
  },
  {
   "cell_type": "code",
   "execution_count": null,
   "id": "0eac3f20",
   "metadata": {},
   "outputs": [],
   "source": [
    "print (\"Indexado negativo\")\n",
    "fruta = \"banana\"\n",
    "print (fruta)\n",
    "print (fruta[-1])\n",
    "print (fruta[-3])"
   ]
  },
  {
   "cell_type": "markdown",
   "id": "322ab6e7",
   "metadata": {},
   "source": [
    "## Segmentación o Slicing\n",
    "\n",
    "Slicing es la técnica que permite extraer una parte de una secuencia de caracteres utilizando los indices de esta cadena\n",
    "\n"
   ]
  },
  {
   "cell_type": "code",
   "execution_count": null,
   "id": "9e097e8f",
   "metadata": {},
   "outputs": [],
   "source": [
    "print (\"Slicing\")\n",
    "ciudad =  \"LaPaz-Bolivia\"\n",
    "print (ciudad)\n",
    "print (\"Slicing con índices positivos\")\n",
    "print (ciudad[0:6])\n",
    "print (ciudad[0:6:2])\n",
    "print (\"Slicing con índices negativos\")\n",
    "print (ciudad[-10:-2])\n",
    "print (ciudad[-10:-2:2])"
   ]
  },
  {
   "cell_type": "markdown",
   "id": "d013b3d7",
   "metadata": {},
   "source": [
    "Se puede dejar en blanco un espacio del slicing para hacer referencia a todo el contenido inicial o contenido final"
   ]
  },
  {
   "cell_type": "code",
   "execution_count": null,
   "id": "a586a177",
   "metadata": {},
   "outputs": [],
   "source": [
    "print (\"Slicing sin índice inicial y final\")\n",
    "print (ciudad[:6])\n",
    "print (ciudad[6:])\n",
    "print (\"Slicing sin índice inicial ni final\")\n",
    "print (ciudad[:])\n",
    "print (ciudad[::2])\n",
    "\n",
    "print (\"Slicing con paso negativo\")\n",
    "print (ciudad[10:4:-1])\n",
    "print (ciudad[10::-2])"
   ]
  },
  {
   "cell_type": "markdown",
   "id": "060d9fd5",
   "metadata": {},
   "source": [
    "## Concatenación de una cadena\n",
    "\n",
    "Las cadenas se pueden concatenar con el operador + generando una nueva cadena en el resultado"
   ]
  },
  {
   "cell_type": "code",
   "execution_count": null,
   "id": "00752596",
   "metadata": {},
   "outputs": [],
   "source": [
    "print (\"Concatenación de cadenas\")\n",
    "cadena1 = \"Hola\"\n",
    "cadena2 = \"Mundo\"\n",
    "concatenada = cadena1 + \" \" + cadena2\n",
    "print (concatenada)"
   ]
  },
  {
   "cell_type": "markdown",
   "id": "87c483c8",
   "metadata": {},
   "source": [
    "## Repetición de una cadena\n",
    "\n",
    "Las cadenas pueden ser repetidas utilizando el operador * y un número entero N que genera una nueva cadena repetida N veces"
   ]
  },
  {
   "cell_type": "code",
   "execution_count": null,
   "id": "6f852f12",
   "metadata": {},
   "outputs": [],
   "source": [
    "print (\"Repetición de cadenas\")\n",
    "cadena = \"-#-\"\n",
    "repetida = cadena * 10\n",
    "print (repetida)"
   ]
  },
  {
   "cell_type": "markdown",
   "id": "fba342eb",
   "metadata": {},
   "source": [
    "## Longitud de una cadena\n",
    "\n",
    "Una de las funciones más importantes es la función len que nos permite obtener la longitud de una cadena específica"
   ]
  },
  {
   "cell_type": "code",
   "execution_count": null,
   "id": "a8ddce7e",
   "metadata": {},
   "outputs": [],
   "source": [
    "print (\"Longitud de una cadena\")\n",
    "cadena = \"Hola Mundo :D\"\n",
    "longitud = len(cadena)\n",
    "print (cadena)\n",
    "print (longitud, type(longitud))\n"
   ]
  },
  {
   "cell_type": "markdown",
   "id": "f44b83a5",
   "metadata": {},
   "source": [
    "## Métodos de Cadenas\n",
    "Las cadenas en Python tienen múltiples métodos para realizar tareas y procesarlas\n",
    "\n",
    "- Permitiéndonos hacer modificaciones a las cadenas\n",
    "- Se llama estas funciones utilizando la cadena seguido de un punto, el nombre de la función y paréntesis\n",
    "- cadena.funcion()\n",
    "\n"
   ]
  },
  {
   "cell_type": "markdown",
   "id": "0dd4c442",
   "metadata": {},
   "source": [
    "## *Upper*\n",
    "upper(): Retorna una copia de la cadena donde todos los caracteres de la cadena son convertidos a su equivalente en mayúsculas"
   ]
  },
  {
   "cell_type": "code",
   "execution_count": null,
   "id": "1ba28b9c",
   "metadata": {},
   "outputs": [],
   "source": [
    "print (\"Función Upper\")\n",
    "cadena = \"cadena Inicial #1\"\n",
    "mayuscula  = cadena.upper()\n",
    "print (cadena)\n",
    "print (mayuscula)"
   ]
  },
  {
   "cell_type": "markdown",
   "id": "90ae9380",
   "metadata": {},
   "source": [
    "## *Lower*\n",
    "lower(): Retorna una copia de la cadena donde todos los caracteres de la cadena son convertidos a su equivalente en minúsculas"
   ]
  },
  {
   "cell_type": "code",
   "execution_count": null,
   "id": "5a490552",
   "metadata": {},
   "outputs": [],
   "source": [
    "print (\"Función Lower\")\n",
    "cadena = \"Cadena INICIAL #2\"\n",
    "minuscula  = cadena.lower()\n",
    "print (cadena)\n",
    "print (minuscula)"
   ]
  },
  {
   "cell_type": "markdown",
   "id": "810e473f",
   "metadata": {},
   "source": [
    "## *Capitalize*\n",
    "capitalize(): Retorna una copia de la secuencia de caracteres donde el primer carácter de la cadena es convertido en Mayúscula y el resto de la cadena en minúsculas"
   ]
  },
  {
   "cell_type": "code",
   "execution_count": null,
   "id": "37aa0f37",
   "metadata": {},
   "outputs": [],
   "source": [
    "print (\"Función Capitalize\")\n",
    "cadena = \"cadena INICIAL #3\"\n",
    "capital = cadena.capitalize()\n",
    "print (cadena)\n",
    "print (capital)"
   ]
  },
  {
   "cell_type": "markdown",
   "id": "d289f60c",
   "metadata": {},
   "source": [
    "## *Title*\n",
    "title(): Retorna una copia en formato título de la cadena, la primera letra de cada palabra estará en mayúsculas y el resto en minúsculas"
   ]
  },
  {
   "cell_type": "code",
   "execution_count": null,
   "id": "c182f098",
   "metadata": {},
   "outputs": [],
   "source": [
    "print (\"Función Title\")\n",
    "cadena = \"CADENA inicial #4\"\n",
    "titulo = cadena.title()\n",
    "print (cadena)\n",
    "print (titulo)"
   ]
  },
  {
   "cell_type": "markdown",
   "id": "5b997660",
   "metadata": {},
   "source": [
    "## *Swapcase*\n",
    "swapcase(): Retorna una copia de la cadena donde los caracteres son convertidos en su version inversa, caracteres en upper cambian a lower y vice versa"
   ]
  },
  {
   "cell_type": "code",
   "execution_count": null,
   "id": "9a302a45",
   "metadata": {},
   "outputs": [],
   "source": [
    "print (\"Función Swapcase\")\n",
    "cadena = \"CADena InIcIaL #5\"\n",
    "swap = cadena.swapcase()\n",
    "print (cadena)\n",
    "print (swap)\n"
   ]
  },
  {
   "cell_type": "markdown",
   "id": "81f01840",
   "metadata": {},
   "source": [
    "# **Funciones que permiten buscar contenido dentro las cadenas**"
   ]
  },
  {
   "cell_type": "markdown",
   "id": "42b14fbf",
   "metadata": {},
   "source": [
    "## *Count*\n",
    "count(): Cuenta las veces que aparece una cadena dentro de otra cadena recibe como parámetro la cadena a buscar"
   ]
  },
  {
   "cell_type": "code",
   "execution_count": null,
   "id": "3b651248",
   "metadata": {},
   "outputs": [],
   "source": [
    "print (\"Función Count\")\n",
    "cadena = \"Cantidad de veces la letra A\"\n",
    "contar = cadena.count(\"a\")\n",
    "print(cadena)\n",
    "print(contar, type(contar))"
   ]
  },
  {
   "cell_type": "markdown",
   "id": "51629ad0",
   "metadata": {},
   "source": [
    "## *Find*\n",
    "find(): Busca y devuelve el índice en el que se encuentra la cadena dentro de otra, empezando por la izquierda o inicio, si no encuentra devuelve -1"
   ]
  },
  {
   "cell_type": "code",
   "execution_count": null,
   "id": "1443b782",
   "metadata": {},
   "outputs": [],
   "source": [
    "print (\"Función Find\")\n",
    "cadena = \"Encontrar las letras las\"\n",
    "buscar = cadena.find(\"las\")\n",
    "print(cadena)\n",
    "print(buscar, type(buscar))"
   ]
  },
  {
   "cell_type": "markdown",
   "id": "faa5fe1c",
   "metadata": {},
   "source": [
    "## *Rfind*\n",
    "rfind(): Busca y devuelve el índice en el que se encuentra la cadena dentro de otra cadena, empezando por la derecha o final, si no encuentra devuelve -1"
   ]
  },
  {
   "cell_type": "code",
   "execution_count": null,
   "id": "9216763f",
   "metadata": {},
   "outputs": [],
   "source": [
    "print (\"Función Rfind\")\n",
    "cadena = \"Encontrar las letras las\"\n",
    "buscar = cadena.rfind(\"las\")\n",
    "print(cadena)\n",
    "print(buscar, type(buscar))"
   ]
  },
  {
   "cell_type": "code",
   "execution_count": null,
   "id": "2c53f85c",
   "metadata": {},
   "outputs": [],
   "source": [
    "# Find y Rfind devuelven -1 si no encuentran la cadena\n",
    "\n",
    "print (\"Función Find y Rfind\")\n",
    "cadena = \"Encontrar tres O\"\n",
    "buscar = cadena.find(\"OOO\")\n",
    "print(cadena)\n",
    "print(buscar, type(buscar))\n",
    "buscar = cadena.rfind(\"OOO\")\n",
    "print(buscar, type(buscar))"
   ]
  },
  {
   "cell_type": "markdown",
   "id": "4262d659",
   "metadata": {},
   "source": [
    "# Funciones para saber si una cadena contiene sólo números, sólo caracteres alfabéticos o mixtos\n",
    "\n",
    "- isdigit(): Devuelve un booleano si la cadena contiene sólo números\n",
    "- isalpha(): Devuelve un booleano si la cadena contiene sólo caracteres alfabéticos\n",
    "- isalnum(): Devuelve un booleano si la cadena contiene solo números y caracteres alfabéticos\n"
   ]
  },
  {
   "cell_type": "code",
   "execution_count": null,
   "id": "e78c6afb",
   "metadata": {},
   "outputs": [],
   "source": [
    "print (\"Función isdigit\")\n",
    "resultado = \"100\".isdigit()\n",
    "print (resultado, type(resultado))\n",
    "print (\"Función isalpha\")\n",
    "resultado = \"Hola\".isalpha()\n",
    "print (resultado, type(resultado))\n",
    "print (\"Función isalnum\")\n",
    "resultado = \"usuario123\".isalnum()\n",
    "print (resultado, type(resultado))\n"
   ]
  },
  {
   "cell_type": "markdown",
   "id": "418262fe",
   "metadata": {},
   "source": [
    "# Funciones que permiten procesar las cadena donde el resultado no son solo cadenas, sino también otros tipos de datos"
   ]
  },
  {
   "cell_type": "markdown",
   "id": "f4d8eb70",
   "metadata": {},
   "source": [
    "## *Split*\n",
    "split(): Retorna una lista de palabras utilizando un separador para delimitar las cadenas separadas"
   ]
  },
  {
   "cell_type": "code",
   "execution_count": null,
   "id": "16bf39b7",
   "metadata": {},
   "outputs": [],
   "source": [
    "print (\"Función split\")\n",
    "cadena = \"pan,carne,huevos\"\n",
    "separado = cadena.split(\",\")\n",
    "print (cadena)\n",
    "print (separado, type(separado))"
   ]
  },
  {
   "cell_type": "markdown",
   "id": "60caa5d9",
   "metadata": {},
   "source": [
    "## *Join*\n",
    "join(): Retorna una copia de una cadena en la cual concatena la cadena con el contenido de otra cadena"
   ]
  },
  {
   "cell_type": "code",
   "execution_count": null,
   "id": "d821ce9f",
   "metadata": {},
   "outputs": [],
   "source": [
    "print (\"Función join\")\n",
    "cadena = \"abcdefghij\"\n",
    "unido = \"-\".join(cadena)\n",
    "print (cadena)\n",
    "print (unido)\n"
   ]
  },
  {
   "cell_type": "markdown",
   "id": "1d5ad628",
   "metadata": {},
   "source": [
    "## *Strip*\n",
    "strip(): Remueve los caracteres la izquierda y a la derecha de la cadena por defecto remueve espacios en blanco, si se envía un valor eliminará esos caracteres"
   ]
  },
  {
   "cell_type": "code",
   "execution_count": null,
   "id": "67d40404",
   "metadata": {},
   "outputs": [],
   "source": [
    "print (\"Función strip\")\n",
    "cadena = \"      Hola    Mundo     \"\n",
    "limpio = cadena.strip()\n",
    "print (cadena)\n",
    "print (limpio)\n",
    "cadena = \"-abc--def-ghi-cba----\"\n",
    "limpio = cadena.strip(\"bac-\")\n",
    "print (cadena)\n",
    "print (limpio)"
   ]
  },
  {
   "cell_type": "markdown",
   "id": "788d2cf9",
   "metadata": {},
   "source": [
    "## *Replace*\n",
    "replace(): Retorna una copia de la cadena con contenido reemplazado por otra cadena"
   ]
  },
  {
   "cell_type": "code",
   "execution_count": null,
   "id": "17fe5f3a",
   "metadata": {},
   "outputs": [],
   "source": [
    "print (\"Función replace\")\n",
    "cadena = \"Me gusta programar en JS, Amo JS\"\n",
    "reemplazado = cadena.replace(\"JS\", \"Python\")\n",
    "print (cadena)\n",
    "print (reemplazado)"
   ]
  },
  {
   "cell_type": "markdown",
   "id": "b4cfc632",
   "metadata": {},
   "source": [
    "## *format*\n",
    "format(): Realiza una operación de formateo e inserta contenido a la cadena delimitado por llaves {}"
   ]
  },
  {
   "cell_type": "code",
   "execution_count": null,
   "id": "653d9cd9",
   "metadata": {},
   "outputs": [],
   "source": [
    "print (\"Función format\")\n",
    "cadena = \"El valor de PI es: {}\"\n",
    "formateado = cadena.format(3.1416)\n",
    "print (cadena)\n",
    "print (formateado)\n",
    "\n",
    "# Índices para mostrar contenido\n",
    "\n",
    "print (\"Función format con índices\")\n",
    "cadena = \"{2} es la suma de {0} y {1}\"\n",
    "valor_1 = 5\n",
    "valor_2 = 3\n",
    "resultado = valor_1+valor_2\n",
    "formateado = cadena.format(valor_1, valor_2, resultado)\n",
    "print (cadena)\n",
    "print (formateado)\n",
    "\n",
    "# Tambien puede utilizar nombres de variables\n",
    "\n",
    "print (\"Función format con nombres\")\n",
    "cadena = \"{ciudad} es la capital de {pais}\"\n",
    "pais = \"Francia\"\n",
    "ciudad = \"París\"\n",
    "formateado = cadena.format(pais=pais, ciudad=ciudad)\n",
    "print (cadena)\n",
    "print (formateado)"
   ]
  },
  {
   "cell_type": "markdown",
   "id": "1057d6d9",
   "metadata": {},
   "source": [
    "## Formatear cadenas de forma más directa utilizando **f-strings**\n",
    "\n",
    "Permite formatear cadenas de forma más directa utilizando el nombre de las variables"
   ]
  },
  {
   "cell_type": "code",
   "execution_count": null,
   "id": "da3f71ca",
   "metadata": {},
   "outputs": [],
   "source": [
    "print (\"Función format con f-string\")\n",
    "moneda = \"Boliviano\"\n",
    "pais = \"Bolivia\"\n",
    "formateado = f\"La moneda de {pais} es el {moneda}\"\n",
    "print (formateado)"
   ]
  }
 ],
 "metadata": {
  "kernelspec": {
   "display_name": "Python 3",
   "language": "python",
   "name": "python3"
  },
  "language_info": {
   "codemirror_mode": {
    "name": "ipython",
    "version": 3
   },
   "file_extension": ".py",
   "mimetype": "text/x-python",
   "name": "python",
   "nbconvert_exporter": "python",
   "pygments_lexer": "ipython3",
   "version": "3.13.3"
  }
 },
 "nbformat": 4,
 "nbformat_minor": 5
}
